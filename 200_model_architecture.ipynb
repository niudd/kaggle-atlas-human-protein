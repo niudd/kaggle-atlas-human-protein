{
 "cells": [
  {
   "cell_type": "code",
   "execution_count": 2,
   "metadata": {},
   "outputs": [],
   "source": [
    "import numpy as np\n",
    "import pandas as pd\n",
    "from matplotlib import pyplot as plt\n",
    "from tqdm import tqdm_notebook\n",
    "import pickle\n",
    "\n",
    "from gpu_utils import set_n_get_device\n",
    "\n",
    "%matplotlib inline"
   ]
  },
  {
   "cell_type": "code",
   "execution_count": 3,
   "metadata": {},
   "outputs": [],
   "source": [
    "import torch\n",
    "import torch.nn as nn\n",
    "from dataset import *\n",
    "#from dataset_single_multi_label import *\n",
    "#from gpu_utils import set_n_get_device\n",
    "\n",
    "#device = torch.device(\"cuda:1\")"
   ]
  },
  {
   "cell_type": "code",
   "execution_count": 4,
   "metadata": {},
   "outputs": [],
   "source": [
    "SEED = 1234\n",
    "BATCH_SIZE = 4#32#16\n",
    "NUM_WORKERS = 1#20\n",
    "debug = True\n",
    "\n",
    "device = set_n_get_device(\"0, 1, 2, 3\", data_device_id=\"cuda:3\")#0, 1, 2, 3, IMPORTANT: data_device_id is set to free gpu for storing the model, e.g.\"cuda:1\"\n",
    "#multi_gpu = [0,1,2]#[1, 2]#None, 0, 1, 2, 3"
   ]
  },
  {
   "cell_type": "code",
   "execution_count": 5,
   "metadata": {},
   "outputs": [
    {
     "name": "stdout",
     "output_type": "stream",
     "text": [
      "total trainset:  1000\n",
      "Count of trainset:  901\n",
      "Count of validset:  99\n",
      "Count of trainset (for training):  900\n",
      "Count of validset (for training):  100\n",
      "IMG_SIZE:  512\n",
      "IMG_SIZE:  512\n"
     ]
    }
   ],
   "source": [
    "# train_dl, val_dl = prepare_trainset(BATCH_SIZE, NUM_WORKERS, SEED, debug, \n",
    "#                                     sample_mode='weak_balance', use_sampler=False)#balance, weak_balance\n",
    "\n",
    "#train_dl, val_dl = prepare_trainset(BATCH_SIZE, NUM_WORKERS, SEED, debug)\n",
    "\n",
    "train_dl, val_dl = prepare_trainset_withMask(BATCH_SIZE, NUM_WORKERS, SEED, debug, \n",
    "                                             sample_mode='raw', use_sampler=False)"
   ]
  },
  {
   "cell_type": "code",
   "execution_count": 6,
   "metadata": {
    "scrolled": false
   },
   "outputs": [],
   "source": [
    "# for i, ( image, (mask, target) ) in enumerate(train_dl):\n",
    "#     image = image.to(device=device, dtype=torch.float)\n",
    "#     mask = mask.to(device=device, dtype=torch.float)\n",
    "#     target = target.to(device=device, dtype=torch.float)\n",
    "#     if i == 0:\n",
    "#         break\n",
    "\n",
    "for i, (image, target) in enumerate(train_dl):\n",
    "    image = image.to(device=device, dtype=torch.float)\n",
    "    target = target.to(device=device, dtype=torch.float)\n",
    "    if i == 0:\n",
    "        break"
   ]
  },
  {
   "cell_type": "code",
   "execution_count": 7,
   "metadata": {},
   "outputs": [
    {
     "data": {
      "text/plain": [
       "(torch.Size([4, 3, 512, 512]), torch.Size([4, 1, 512, 512]))"
      ]
     },
     "execution_count": 7,
     "metadata": {},
     "output_type": "execute_result"
    }
   ],
   "source": [
    "image[:, :3, :, :].size(), image[:, 3, :, :].view(-1, 1, 512, 512).size()#[:, :4, :, :]\n",
    "#image.size(), target.size()"
   ]
  },
  {
   "cell_type": "code",
   "execution_count": 13,
   "metadata": {},
   "outputs": [],
   "source": [
    "# from glob import glob\n",
    "# import os\n",
    "\n",
    "# f = glob('data/raw/train/*.png')\n",
    "# len(f)\n",
    "# #for _f in f:\n",
    "# #    os.remove(_f)\n",
    "# train_dl.dataset.label.loc[train_dl.dataset.label.Id.isin(train_dl.dataset.fname), \n",
    "#                            'Target'].apply(lambda x: len(x.split(' '))==1).mean(), \\\n",
    "# val_dl.dataset.label.loc[val_dl.dataset.label.Id.isin(val_dl.dataset.fname), \n",
    "#                            'Target'].apply(lambda x: len(x.split(' '))==1).mean()"
   ]
  },
  {
   "cell_type": "code",
   "execution_count": 19,
   "metadata": {
    "scrolled": true
   },
   "outputs": [],
   "source": [
    "#plt.imshow(image[1, 1, :, :], cmap='Greens')\n",
    "#plt.imshow(mask[1, 0, :, :], cmap='binary')"
   ]
  },
  {
   "cell_type": "code",
   "execution_count": null,
   "metadata": {},
   "outputs": [],
   "source": []
  },
  {
   "cell_type": "markdown",
   "metadata": {},
   "source": [
    "## model"
   ]
  },
  {
   "cell_type": "code",
   "execution_count": 8,
   "metadata": {
    "scrolled": true
   },
   "outputs": [],
   "source": [
    "#from model import AtlasResNet18, AtlasResNet34\n",
    "from model_with_mask import AtlasResNet34\n",
    "#net = AtlasResNet18(debug=True).cuda(device=device)\n",
    "net = AtlasResNet34(debug=True).cuda(device=device)\n",
    "\n",
    "#net = nn.DataParallel(net, device_ids=multi_gpu)"
   ]
  },
  {
   "cell_type": "code",
   "execution_count": 14,
   "metadata": {
    "scrolled": true
   },
   "outputs": [],
   "source": [
    "#from model2 import AtlasInceptionV3\n",
    "#net = AtlasInceptionV3(debug=True, num_classes=28, aux_logits=True, transform_input=False).cuda(device)\n",
    "\n",
    "#from model3 import AtlasBNInception\n",
    "#net = AtlasBNInception(debug=True, num_classes=28).cuda(device)\n",
    "\n",
    "#from model4 import AtlasSEResnet50\n",
    "#net = AtlasSEResnet50(debug=True).cuda(device=device)"
   ]
  },
  {
   "cell_type": "code",
   "execution_count": 8,
   "metadata": {
    "scrolled": false
   },
   "outputs": [
    {
     "name": "stdout",
     "output_type": "stream",
     "text": [
      "input:  torch.Size([4, 3, 512, 512])\n",
      "e1 torch.Size([4, 64, 128, 128])\n",
      "e2 torch.Size([4, 64, 128, 128])\n",
      "e3 torch.Size([4, 128, 64, 64])\n",
      "e4 torch.Size([4, 256, 32, 32])\n",
      "e5 torch.Size([4, 512, 16, 16])\n",
      "avgpool torch.Size([4, 512, 1, 1])\n",
      "reshape torch.Size([4, 512])\n",
      "clf output torch.Size([4, 28])\n",
      "center torch.Size([4, 256, 16, 16])\n",
      "d5 torch.Size([4, 256, 16, 16])\n",
      "d4 torch.Size([4, 256, 16, 16])\n",
      "d3 torch.Size([4, 256, 16, 16])\n",
      "d2 torch.Size([4, 256, 16, 16])\n",
      "d1 torch.Size([4, 32, 512, 512])\n",
      "mask output torch.Size([4, 1, 512, 512])\n"
     ]
    },
    {
     "name": "stderr",
     "output_type": "stream",
     "text": [
      "/home/bigdata/data/endi/anaconda3/lib/python3.7/site-packages/torch/nn/functional.py:1006: UserWarning: nn.functional.sigmoid is deprecated. Use torch.sigmoid instead.\n",
      "  warnings.warn(\"nn.functional.sigmoid is deprecated. Use torch.sigmoid instead.\")\n",
      "/home/bigdata/data/endi/anaconda3/lib/python3.7/site-packages/torch/nn/functional.py:1890: UserWarning: nn.functional.upsample is deprecated. Use nn.functional.interpolate instead.\n",
      "  warnings.warn(\"nn.functional.upsample is deprecated. Use nn.functional.interpolate instead.\")\n"
     ]
    }
   ],
   "source": [
    "logit_clf, logit_mask = net(image[:, :3, :, :])#[:, :4, :, :]"
   ]
  },
  {
   "cell_type": "code",
   "execution_count": 14,
   "metadata": {
    "scrolled": false
   },
   "outputs": [
    {
     "name": "stdout",
     "output_type": "stream",
     "text": [
      "input:  torch.Size([4, 4, 512, 512])\n",
      "e1 torch.Size([4, 64, 256, 256])\n",
      "e2 torch.Size([4, 64, 256, 256])\n",
      "e3 torch.Size([4, 128, 128, 128])\n",
      "e4 torch.Size([4, 256, 64, 64])\n",
      "e5 torch.Size([4, 512, 32, 32])\n",
      "avgpool torch.Size([4, 512, 1, 1])\n",
      "reshape torch.Size([4, 512])\n",
      "clf output torch.Size([4, 28])\n",
      "center torch.Size([4, 256, 16, 16])\n",
      "d5 torch.Size([4, 256, 16, 16])\n",
      "d4 torch.Size([4, 256, 16, 16])\n",
      "d3 torch.Size([4, 256, 16, 16])\n",
      "d2 torch.Size([4, 256, 16, 16])\n",
      "d1 torch.Size([4, 256, 16, 16])\n",
      "hypercolum torch.Size([4, 320, 512, 512])\n",
      "mask output torch.Size([4, 1, 512, 512])\n"
     ]
    },
    {
     "name": "stderr",
     "output_type": "stream",
     "text": [
      "/home/bigdata/data/endi/anaconda3/lib/python3.7/site-packages/torch/nn/functional.py:1006: UserWarning: nn.functional.sigmoid is deprecated. Use torch.sigmoid instead.\n",
      "  warnings.warn(\"nn.functional.sigmoid is deprecated. Use torch.sigmoid instead.\")\n",
      "/home/bigdata/data/endi/anaconda3/lib/python3.7/site-packages/torch/nn/functional.py:1890: UserWarning: nn.functional.upsample is deprecated. Use nn.functional.interpolate instead.\n",
      "  warnings.warn(\"nn.functional.upsample is deprecated. Use nn.functional.interpolate instead.\")\n"
     ]
    }
   ],
   "source": [
    "# \n",
    "#output = net(image)#[:, :3, :, :]\n",
    "logit_clf, logit_mask = net(image[:, :4, :, :])"
   ]
  },
  {
   "cell_type": "code",
   "execution_count": 9,
   "metadata": {},
   "outputs": [
    {
     "ename": "NameError",
     "evalue": "name 'mask' is not defined",
     "output_type": "error",
     "traceback": [
      "\u001b[0;31m---------------------------------------------------------------------------\u001b[0m",
      "\u001b[0;31mNameError\u001b[0m                                 Traceback (most recent call last)",
      "\u001b[0;32m<ipython-input-9-157e43d8a014>\u001b[0m in \u001b[0;36m<module>\u001b[0;34m()\u001b[0m\n\u001b[0;32m----> 1\u001b[0;31m \u001b[0mnet\u001b[0m\u001b[0;34m.\u001b[0m\u001b[0mcriterion\u001b[0m\u001b[0;34m(\u001b[0m\u001b[0mlogit_clf\u001b[0m\u001b[0;34m,\u001b[0m \u001b[0mtarget\u001b[0m\u001b[0;34m,\u001b[0m \u001b[0mlogit_mask\u001b[0m\u001b[0;34m,\u001b[0m \u001b[0mmask\u001b[0m\u001b[0;34m)\u001b[0m\u001b[0;34m\u001b[0m\u001b[0;34m\u001b[0m\u001b[0m\n\u001b[0m",
      "\u001b[0;31mNameError\u001b[0m: name 'mask' is not defined"
     ]
    }
   ],
   "source": [
    "net.criterion(logit_clf, target, logit_mask, mask)"
   ]
  },
  {
   "cell_type": "code",
   "execution_count": 16,
   "metadata": {},
   "outputs": [
    {
     "name": "stderr",
     "output_type": "stream",
     "text": [
      "/home/bigdata/data/endi/anaconda3/lib/python3.7/site-packages/sklearn/metrics/classification.py:1135: UndefinedMetricWarning: F-score is ill-defined and being set to 0.0 in labels with no predicted samples.\n",
      "  'precision', 'predicted', average, warn_for)\n",
      "/home/bigdata/data/endi/anaconda3/lib/python3.7/site-packages/sklearn/metrics/classification.py:1137: UndefinedMetricWarning: F-score is ill-defined and being set to 0.0 in labels with no true samples.\n",
      "  'recall', 'true', average, warn_for)\n"
     ]
    },
    {
     "data": {
      "text/plain": [
       "0.055952380952380955"
      ]
     },
     "execution_count": 16,
     "metadata": {},
     "output_type": "execute_result"
    }
   ],
   "source": [
    "net.metric(logit_clf, target)"
   ]
  },
  {
   "cell_type": "code",
   "execution_count": null,
   "metadata": {},
   "outputs": [],
   "source": []
  },
  {
   "cell_type": "code",
   "execution_count": 9,
   "metadata": {
    "scrolled": false
   },
   "outputs": [
    {
     "data": {
      "text/plain": [
       "tensor(5.1288, device='cuda:3', grad_fn=<MeanBackward1>)"
      ]
     },
     "execution_count": 9,
     "metadata": {},
     "output_type": "execute_result"
    }
   ],
   "source": [
    "#net.module.criterion(output, target)\n",
    "net.criterion(output, target)"
   ]
  },
  {
   "cell_type": "code",
   "execution_count": 11,
   "metadata": {},
   "outputs": [
    {
     "name": "stdout",
     "output_type": "stream",
     "text": [
      "CPU times: user 0 ns, sys: 4 ms, total: 4 ms\n",
      "Wall time: 3.35 ms\n"
     ]
    },
    {
     "name": "stderr",
     "output_type": "stream",
     "text": [
      "/home/bigdata/data/endi/anaconda3/lib/python3.7/site-packages/sklearn/metrics/classification.py:1135: UndefinedMetricWarning: F-score is ill-defined and being set to 0.0 in labels with no predicted samples.\n",
      "  'precision', 'predicted', average, warn_for)\n",
      "/home/bigdata/data/endi/anaconda3/lib/python3.7/site-packages/sklearn/metrics/classification.py:1137: UndefinedMetricWarning: F-score is ill-defined and being set to 0.0 in labels with no true samples.\n",
      "  'recall', 'true', average, warn_for)\n"
     ]
    },
    {
     "data": {
      "text/plain": [
       "0.0976190476190476"
      ]
     },
     "execution_count": 11,
     "metadata": {},
     "output_type": "execute_result"
    }
   ],
   "source": [
    "%%time\n",
    "#net.metric(output.cpu().float(), target.cpu().float(), device='cpu')\n",
    "net.metric(output, target)"
   ]
  },
  {
   "cell_type": "code",
   "execution_count": 70,
   "metadata": {
    "scrolled": true
   },
   "outputs": [
    {
     "data": {
      "text/plain": [
       "(torch.Size([4, 28]), torch.Size([4, 28]))"
      ]
     },
     "execution_count": 70,
     "metadata": {},
     "output_type": "execute_result"
    }
   ],
   "source": [
    "output.shape, target.shape"
   ]
  },
  {
   "cell_type": "code",
   "execution_count": 17,
   "metadata": {
    "scrolled": true
   },
   "outputs": [],
   "source": [
    "torch.cuda.empty_cache()"
   ]
  },
  {
   "cell_type": "code",
   "execution_count": 14,
   "metadata": {},
   "outputs": [
    {
     "data": {
      "text/plain": [
       "tensor(0.0102, device='cuda:3')"
      ]
     },
     "execution_count": 14,
     "metadata": {},
     "output_type": "execute_result"
    }
   ],
   "source": [
    "def macro_f1_torch(logit, truth, threshold=0.5):\n",
    "    pred = (logit>threshold).float()\n",
    "    truth = truth.float()\n",
    "    tp = torch.sum(truth*pred, dim=0)\n",
    "    tn = torch.sum((1-truth)*(1-pred), dim=0)\n",
    "    fp = torch.sum((1-truth)*pred, dim=0)\n",
    "    fn = torch.sum(truth*(1-pred), dim=0)\n",
    "\n",
    "    p = tp / (tp + fp + 1e-10)\n",
    "    r = tp / (tp + fn + 1e-10)\n",
    "\n",
    "    f1 = 2*p*r / (p+r+1e-10)\n",
    "    f1 = torch.where(torch.isnan(f1), torch.zeros_like(f1), f1)\n",
    "    return torch.mean(f1)"
   ]
  },
  {
   "cell_type": "code",
   "execution_count": 58,
   "metadata": {},
   "outputs": [
    {
     "name": "stdout",
     "output_type": "stream",
     "text": [
      "CPU times: user 0 ns, sys: 0 ns, total: 0 ns\n",
      "Wall time: 1.02 ms\n"
     ]
    },
    {
     "data": {
      "text/plain": [
       "tensor(0.0102, device='cuda:3')"
      ]
     },
     "execution_count": 58,
     "metadata": {},
     "output_type": "execute_result"
    }
   ],
   "source": [
    "%%time\n",
    "macro_f1_torch(output, target)"
   ]
  },
  {
   "cell_type": "code",
   "execution_count": null,
   "metadata": {},
   "outputs": [],
   "source": []
  },
  {
   "cell_type": "code",
   "execution_count": null,
   "metadata": {},
   "outputs": [],
   "source": []
  },
  {
   "cell_type": "code",
   "execution_count": null,
   "metadata": {},
   "outputs": [],
   "source": []
  },
  {
   "cell_type": "code",
   "execution_count": 12,
   "metadata": {},
   "outputs": [
    {
     "name": "stdout",
     "output_type": "stream",
     "text": [
      "Total parameters:  21857540\n",
      "Encoder parameters:  21797672\n"
     ]
    }
   ],
   "source": [
    "#layer_name = 'resnet'\n",
    "#layer_name = '.'\n",
    "\n",
    "print('Total parameters: ', sum(p[1].numel() for p in net.named_parameters() \\\n",
    "                                if '.' in p[0]))\n",
    "\n",
    "#print('Trainable parameters: ', sum(p[1].numel() for p in net.named_parameters() \\\n",
    "#                                    if p[1].requires_grad and layer_name in p[0]))\n",
    "\n",
    "print('Encoder parameters: ', sum(p[1].numel() for p in net.named_parameters() \\\n",
    "                                if 'resnet' in p[0]))\n",
    "\n",
    "#print('Center parameters: ', sum(p[1].numel() for p in net.named_parameters() \\\n",
    "#                                if 'center' in p[0]))"
   ]
  },
  {
   "cell_type": "code",
   "execution_count": null,
   "metadata": {},
   "outputs": [],
   "source": []
  },
  {
   "cell_type": "code",
   "execution_count": 17,
   "metadata": {},
   "outputs": [],
   "source": [
    "_net = torchvision.models.inception_v3(pretrained=False)"
   ]
  },
  {
   "cell_type": "code",
   "execution_count": 9,
   "metadata": {},
   "outputs": [
    {
     "name": "stdout",
     "output_type": "stream",
     "text": [
      "resnet.conv1.weight\n",
      "resnet.bn1.weight\n",
      "resnet.bn1.bias\n",
      "resnet.layer1.0.conv1.weight\n",
      "resnet.layer1.0.bn1.weight\n",
      "resnet.layer1.0.bn1.bias\n",
      "resnet.layer1.0.conv2.weight\n",
      "resnet.layer1.0.bn2.weight\n",
      "resnet.layer1.0.bn2.bias\n",
      "resnet.layer1.1.conv1.weight\n",
      "resnet.layer1.1.bn1.weight\n",
      "resnet.layer1.1.bn1.bias\n",
      "resnet.layer1.1.conv2.weight\n",
      "resnet.layer1.1.bn2.weight\n",
      "resnet.layer1.1.bn2.bias\n",
      "resnet.layer1.2.conv1.weight\n",
      "resnet.layer1.2.bn1.weight\n",
      "resnet.layer1.2.bn1.bias\n",
      "resnet.layer1.2.conv2.weight\n",
      "resnet.layer1.2.bn2.weight\n",
      "resnet.layer1.2.bn2.bias\n",
      "resnet.layer2.0.conv1.weight\n",
      "resnet.layer2.0.bn1.weight\n",
      "resnet.layer2.0.bn1.bias\n",
      "resnet.layer2.0.conv2.weight\n",
      "resnet.layer2.0.bn2.weight\n",
      "resnet.layer2.0.bn2.bias\n",
      "resnet.layer2.0.downsample.0.weight\n",
      "resnet.layer2.0.downsample.1.weight\n",
      "resnet.layer2.0.downsample.1.bias\n",
      "resnet.layer2.1.conv1.weight\n",
      "resnet.layer2.1.bn1.weight\n",
      "resnet.layer2.1.bn1.bias\n",
      "resnet.layer2.1.conv2.weight\n",
      "resnet.layer2.1.bn2.weight\n",
      "resnet.layer2.1.bn2.bias\n",
      "resnet.layer2.2.conv1.weight\n",
      "resnet.layer2.2.bn1.weight\n",
      "resnet.layer2.2.bn1.bias\n",
      "resnet.layer2.2.conv2.weight\n",
      "resnet.layer2.2.bn2.weight\n",
      "resnet.layer2.2.bn2.bias\n",
      "resnet.layer2.3.conv1.weight\n",
      "resnet.layer2.3.bn1.weight\n",
      "resnet.layer2.3.bn1.bias\n",
      "resnet.layer2.3.conv2.weight\n",
      "resnet.layer2.3.bn2.weight\n",
      "resnet.layer2.3.bn2.bias\n",
      "resnet.layer3.0.conv1.weight\n",
      "resnet.layer3.0.bn1.weight\n",
      "resnet.layer3.0.bn1.bias\n",
      "resnet.layer3.0.conv2.weight\n",
      "resnet.layer3.0.bn2.weight\n",
      "resnet.layer3.0.bn2.bias\n",
      "resnet.layer3.0.downsample.0.weight\n",
      "resnet.layer3.0.downsample.1.weight\n",
      "resnet.layer3.0.downsample.1.bias\n",
      "resnet.layer3.1.conv1.weight\n",
      "resnet.layer3.1.bn1.weight\n",
      "resnet.layer3.1.bn1.bias\n",
      "resnet.layer3.1.conv2.weight\n",
      "resnet.layer3.1.bn2.weight\n",
      "resnet.layer3.1.bn2.bias\n",
      "resnet.layer3.2.conv1.weight\n",
      "resnet.layer3.2.bn1.weight\n",
      "resnet.layer3.2.bn1.bias\n",
      "resnet.layer3.2.conv2.weight\n",
      "resnet.layer3.2.bn2.weight\n",
      "resnet.layer3.2.bn2.bias\n",
      "resnet.layer3.3.conv1.weight\n",
      "resnet.layer3.3.bn1.weight\n",
      "resnet.layer3.3.bn1.bias\n",
      "resnet.layer3.3.conv2.weight\n",
      "resnet.layer3.3.bn2.weight\n",
      "resnet.layer3.3.bn2.bias\n",
      "resnet.layer3.4.conv1.weight\n",
      "resnet.layer3.4.bn1.weight\n",
      "resnet.layer3.4.bn1.bias\n",
      "resnet.layer3.4.conv2.weight\n",
      "resnet.layer3.4.bn2.weight\n",
      "resnet.layer3.4.bn2.bias\n",
      "resnet.layer3.5.conv1.weight\n",
      "resnet.layer3.5.bn1.weight\n",
      "resnet.layer3.5.bn1.bias\n",
      "resnet.layer3.5.conv2.weight\n",
      "resnet.layer3.5.bn2.weight\n",
      "resnet.layer3.5.bn2.bias\n",
      "resnet.layer4.0.conv1.weight\n",
      "resnet.layer4.0.bn1.weight\n",
      "resnet.layer4.0.bn1.bias\n",
      "resnet.layer4.0.conv2.weight\n",
      "resnet.layer4.0.bn2.weight\n",
      "resnet.layer4.0.bn2.bias\n",
      "resnet.layer4.0.downsample.0.weight\n",
      "resnet.layer4.0.downsample.1.weight\n",
      "resnet.layer4.0.downsample.1.bias\n",
      "resnet.layer4.1.conv1.weight\n",
      "resnet.layer4.1.bn1.weight\n",
      "resnet.layer4.1.bn1.bias\n",
      "resnet.layer4.1.conv2.weight\n",
      "resnet.layer4.1.bn2.weight\n",
      "resnet.layer4.1.bn2.bias\n",
      "resnet.layer4.2.conv1.weight\n",
      "resnet.layer4.2.bn1.weight\n",
      "resnet.layer4.2.bn1.bias\n",
      "resnet.layer4.2.conv2.weight\n",
      "resnet.layer4.2.bn2.weight\n",
      "resnet.layer4.2.bn2.bias\n",
      "resnet.fc.weight\n",
      "resnet.fc.bias\n",
      "encoder2.1.spatial_gate.linear_1.weight\n",
      "encoder2.1.spatial_gate.linear_1.bias\n",
      "encoder2.1.spatial_gate.linear_2.weight\n",
      "encoder2.1.spatial_gate.linear_2.bias\n",
      "encoder2.1.channel_gate.conv.weight\n",
      "encoder2.1.channel_gate.conv.bias\n",
      "encoder3.1.spatial_gate.linear_1.weight\n",
      "encoder3.1.spatial_gate.linear_1.bias\n",
      "encoder3.1.spatial_gate.linear_2.weight\n",
      "encoder3.1.spatial_gate.linear_2.bias\n",
      "encoder3.1.channel_gate.conv.weight\n",
      "encoder3.1.channel_gate.conv.bias\n",
      "encoder4.1.spatial_gate.linear_1.weight\n",
      "encoder4.1.spatial_gate.linear_1.bias\n",
      "encoder4.1.spatial_gate.linear_2.weight\n",
      "encoder4.1.spatial_gate.linear_2.bias\n",
      "encoder4.1.channel_gate.conv.weight\n",
      "encoder4.1.channel_gate.conv.bias\n",
      "encoder5.1.spatial_gate.linear_1.weight\n",
      "encoder5.1.spatial_gate.linear_1.bias\n",
      "encoder5.1.spatial_gate.linear_2.weight\n",
      "encoder5.1.spatial_gate.linear_2.bias\n",
      "encoder5.1.channel_gate.conv.weight\n",
      "encoder5.1.channel_gate.conv.bias\n",
      "logit_clf.0.weight\n",
      "logit_clf.0.bias\n",
      "logit_clf.2.weight\n",
      "logit_clf.2.bias\n",
      "center.0.conv.weight\n",
      "center.0.bn.weight\n",
      "center.0.bn.bias\n",
      "decoder5.conv1.weight\n",
      "decoder5.conv1.bias\n",
      "decoder5.conv2.weight\n",
      "decoder5.conv2.bias\n",
      "decoder4.conv1.weight\n",
      "decoder4.conv1.bias\n",
      "decoder4.conv2.weight\n",
      "decoder4.conv2.bias\n",
      "decoder3.conv1.weight\n",
      "decoder3.conv1.bias\n",
      "decoder3.conv2.weight\n",
      "decoder3.conv2.bias\n",
      "decoder2.conv1.weight\n",
      "decoder2.conv1.bias\n",
      "decoder2.conv2.weight\n",
      "decoder2.conv2.bias\n",
      "decoder1.conv1.weight\n",
      "decoder1.conv1.bias\n",
      "decoder1.conv2.weight\n",
      "decoder1.conv2.bias\n",
      "logit_mask.0.weight\n",
      "logit_mask.0.bias\n",
      "logit_mask.2.weight\n",
      "logit_mask.2.bias\n",
      "logit_mask.4.weight\n",
      "logit_mask.4.bias\n"
     ]
    }
   ],
   "source": [
    "for k,v in net.named_parameters():\n",
    "    print(k)"
   ]
  },
  {
   "cell_type": "code",
   "execution_count": 10,
   "metadata": {},
   "outputs": [
    {
     "name": "stdout",
     "output_type": "stream",
     "text": [
      "====================\n",
      "Params that requires_grad=True: \n",
      "resnet.conv1.weight\n",
      "resnet.bn1.weight\n",
      "resnet.bn1.bias\n",
      "resnet.layer1.0.conv1.weight\n",
      "resnet.layer1.0.bn1.weight\n",
      "resnet.layer1.0.bn1.bias\n",
      "resnet.layer1.0.conv2.weight\n",
      "resnet.layer1.0.bn2.weight\n",
      "resnet.layer1.0.bn2.bias\n",
      "resnet.layer1.1.conv1.weight\n",
      "resnet.layer1.1.bn1.weight\n",
      "resnet.layer1.1.bn1.bias\n",
      "resnet.layer1.1.conv2.weight\n",
      "resnet.layer1.1.bn2.weight\n",
      "resnet.layer1.1.bn2.bias\n",
      "resnet.layer1.2.conv1.weight\n",
      "resnet.layer1.2.bn1.weight\n",
      "resnet.layer1.2.bn1.bias\n",
      "resnet.layer1.2.conv2.weight\n",
      "resnet.layer1.2.bn2.weight\n",
      "resnet.layer1.2.bn2.bias\n",
      "resnet.layer2.0.conv1.weight\n",
      "resnet.layer2.0.bn1.weight\n",
      "resnet.layer2.0.bn1.bias\n",
      "resnet.layer2.0.conv2.weight\n",
      "resnet.layer2.0.bn2.weight\n",
      "resnet.layer2.0.bn2.bias\n",
      "resnet.layer2.0.downsample.0.weight\n",
      "resnet.layer2.0.downsample.1.weight\n",
      "resnet.layer2.0.downsample.1.bias\n",
      "resnet.layer2.1.conv1.weight\n",
      "resnet.layer2.1.bn1.weight\n",
      "resnet.layer2.1.bn1.bias\n",
      "resnet.layer2.1.conv2.weight\n",
      "resnet.layer2.1.bn2.weight\n",
      "resnet.layer2.1.bn2.bias\n",
      "resnet.layer2.2.conv1.weight\n",
      "resnet.layer2.2.bn1.weight\n",
      "resnet.layer2.2.bn1.bias\n",
      "resnet.layer2.2.conv2.weight\n",
      "resnet.layer2.2.bn2.weight\n",
      "resnet.layer2.2.bn2.bias\n",
      "resnet.layer2.3.conv1.weight\n",
      "resnet.layer2.3.bn1.weight\n",
      "resnet.layer2.3.bn1.bias\n",
      "resnet.layer2.3.conv2.weight\n",
      "resnet.layer2.3.bn2.weight\n",
      "resnet.layer2.3.bn2.bias\n",
      "resnet.layer3.0.conv1.weight\n",
      "resnet.layer3.0.bn1.weight\n",
      "resnet.layer3.0.bn1.bias\n",
      "resnet.layer3.0.conv2.weight\n",
      "resnet.layer3.0.bn2.weight\n",
      "resnet.layer3.0.bn2.bias\n",
      "resnet.layer3.0.downsample.0.weight\n",
      "resnet.layer3.0.downsample.1.weight\n",
      "resnet.layer3.0.downsample.1.bias\n",
      "resnet.layer3.1.conv1.weight\n",
      "resnet.layer3.1.bn1.weight\n",
      "resnet.layer3.1.bn1.bias\n",
      "resnet.layer3.1.conv2.weight\n",
      "resnet.layer3.1.bn2.weight\n",
      "resnet.layer3.1.bn2.bias\n",
      "resnet.layer3.2.conv1.weight\n",
      "resnet.layer3.2.bn1.weight\n",
      "resnet.layer3.2.bn1.bias\n",
      "resnet.layer3.2.conv2.weight\n",
      "resnet.layer3.2.bn2.weight\n",
      "resnet.layer3.2.bn2.bias\n",
      "resnet.layer3.3.conv1.weight\n",
      "resnet.layer3.3.bn1.weight\n",
      "resnet.layer3.3.bn1.bias\n",
      "resnet.layer3.3.conv2.weight\n",
      "resnet.layer3.3.bn2.weight\n",
      "resnet.layer3.3.bn2.bias\n",
      "resnet.layer3.4.conv1.weight\n",
      "resnet.layer3.4.bn1.weight\n",
      "resnet.layer3.4.bn1.bias\n",
      "resnet.layer3.4.conv2.weight\n",
      "resnet.layer3.4.bn2.weight\n",
      "resnet.layer3.4.bn2.bias\n",
      "resnet.layer3.5.conv1.weight\n",
      "resnet.layer3.5.bn1.weight\n",
      "resnet.layer3.5.bn1.bias\n",
      "resnet.layer3.5.conv2.weight\n",
      "resnet.layer3.5.bn2.weight\n",
      "resnet.layer3.5.bn2.bias\n",
      "resnet.layer4.0.conv1.weight\n",
      "resnet.layer4.0.bn1.weight\n",
      "resnet.layer4.0.bn1.bias\n",
      "resnet.layer4.0.conv2.weight\n",
      "resnet.layer4.0.bn2.weight\n",
      "resnet.layer4.0.bn2.bias\n",
      "resnet.layer4.0.downsample.0.weight\n",
      "resnet.layer4.0.downsample.1.weight\n",
      "resnet.layer4.0.downsample.1.bias\n",
      "resnet.layer4.1.conv1.weight\n",
      "resnet.layer4.1.bn1.weight\n",
      "resnet.layer4.1.bn1.bias\n",
      "resnet.layer4.1.conv2.weight\n",
      "resnet.layer4.1.bn2.weight\n",
      "resnet.layer4.1.bn2.bias\n",
      "resnet.layer4.2.conv1.weight\n",
      "resnet.layer4.2.bn1.weight\n",
      "resnet.layer4.2.bn1.bias\n",
      "resnet.layer4.2.conv2.weight\n",
      "resnet.layer4.2.bn2.weight\n",
      "resnet.layer4.2.bn2.bias\n",
      "resnet.fc.weight\n",
      "resnet.fc.bias\n",
      "encoder2.1.spatial_gate.linear_1.weight\n",
      "encoder2.1.spatial_gate.linear_1.bias\n",
      "encoder2.1.spatial_gate.linear_2.weight\n",
      "encoder2.1.spatial_gate.linear_2.bias\n",
      "encoder2.1.channel_gate.conv.weight\n",
      "encoder2.1.channel_gate.conv.bias\n",
      "encoder3.1.spatial_gate.linear_1.weight\n",
      "encoder3.1.spatial_gate.linear_1.bias\n",
      "encoder3.1.spatial_gate.linear_2.weight\n",
      "encoder3.1.spatial_gate.linear_2.bias\n",
      "encoder3.1.channel_gate.conv.weight\n",
      "encoder3.1.channel_gate.conv.bias\n",
      "encoder4.1.spatial_gate.linear_1.weight\n",
      "encoder4.1.spatial_gate.linear_1.bias\n",
      "encoder4.1.spatial_gate.linear_2.weight\n",
      "encoder4.1.spatial_gate.linear_2.bias\n",
      "encoder4.1.channel_gate.conv.weight\n",
      "encoder4.1.channel_gate.conv.bias\n",
      "encoder5.1.spatial_gate.linear_1.weight\n",
      "encoder5.1.spatial_gate.linear_1.bias\n",
      "encoder5.1.spatial_gate.linear_2.weight\n",
      "encoder5.1.spatial_gate.linear_2.bias\n",
      "encoder5.1.channel_gate.conv.weight\n",
      "encoder5.1.channel_gate.conv.bias\n",
      "logit_clf.0.weight\n",
      "logit_clf.0.bias\n",
      "logit_clf.2.weight\n",
      "logit_clf.2.bias\n",
      "center.0.conv.weight\n",
      "center.0.bn.weight\n",
      "center.0.bn.bias\n",
      "decoder5.conv1.weight\n",
      "decoder5.conv1.bias\n",
      "decoder5.conv2.weight\n",
      "decoder5.conv2.bias\n",
      "decoder4.conv1.weight\n",
      "decoder4.conv1.bias\n",
      "decoder4.conv2.weight\n",
      "decoder4.conv2.bias\n",
      "decoder3.conv1.weight\n",
      "decoder3.conv1.bias\n",
      "decoder3.conv2.weight\n",
      "decoder3.conv2.bias\n",
      "decoder2.conv1.weight\n",
      "decoder2.conv1.bias\n",
      "decoder2.conv2.weight\n",
      "decoder2.conv2.bias\n",
      "decoder1.conv1.weight\n",
      "decoder1.conv1.bias\n",
      "decoder1.conv2.weight\n",
      "decoder1.conv2.bias\n",
      "logit_mask.0.weight\n",
      "logit_mask.0.bias\n",
      "logit_mask.2.weight\n",
      "logit_mask.2.bias\n",
      "logit_mask.4.weight\n",
      "logit_mask.4.bias\n"
     ]
    }
   ],
   "source": [
    "for param in net.named_parameters():#do not backward ['decoder', 'center'] layers params\n",
    "    if 'decoder' in param[0]:\n",
    "        param[1].requires_grad = False\n",
    "        #print('skipping layer: ', param[0])\n",
    "    elif 'center' in param[0]:\n",
    "        param[1].requires_grad = False\n",
    "        #print('skipping layer: ', param[0])\n",
    "    elif 'resnet' in param[0] and param[0] not in ['resnet.fc.weight', 'resnet.fc.bias']:#only backward fc layers\n",
    "        param[1].requires_grad = False\n",
    "        #print('skipping layer: ', param[0])\n",
    "    elif 'encoder' in param[0]:\n",
    "        param[1].requires_grad = False\n",
    "        #print('skipping layer: ', param[0])\n",
    "print('='*20)\n",
    "print('Params that requires_grad=True: ')\n",
    "for k,v in net.named_parameters():\n",
    "    if param[1].requires_grad:\n",
    "        print(k)"
   ]
  },
  {
   "cell_type": "code",
   "execution_count": 2,
   "metadata": {},
   "outputs": [],
   "source": [
    "l = [\n",
    "    'resnet.conv1.weight',\n",
    "'resnet.bn1.weight',\n",
    "'resnet.bn1.bias',\n",
    "'resnet.layer1.0.conv1.weight',\n",
    "'resnet.layer1.0.bn1.weight',\n",
    "'resnet.layer1.0.bn1.bias',\n",
    "'resnet.layer1.0.conv2.weight',\n",
    "'resnet.layer1.0.bn2.weight',\n",
    "'resnet.layer1.0.bn2.bias',\n",
    "'resnet.layer1.1.conv1.weight',\n",
    "'resnet.layer1.1.bn1.weight',\n",
    "'resnet.layer1.1.bn1.bias',\n",
    "'resnet.layer1.1.conv2.weight',\n",
    "'resnet.layer1.1.bn2.weight',\n",
    "'resnet.layer1.1.bn2.bias',\n",
    "'resnet.layer1.2.conv1.weight',\n",
    "'resnet.layer1.2.bn1.weight',\n",
    "'resnet.layer1.2.bn1.bias',\n",
    "'resnet.layer1.2.conv2.weight',\n",
    "'resnet.layer1.2.bn2.weight',\n",
    "'resnet.layer1.2.bn2.bias',\n",
    "'resnet.layer2.0.conv1.weight',\n",
    "'resnet.layer2.0.bn1.weight',\n",
    "'resnet.layer2.0.bn1.bias',\n",
    "'resnet.layer2.0.conv2.weight',\n",
    "'resnet.layer2.0.bn2.weight',\n",
    "'resnet.layer2.0.bn2.bias',\n",
    "'resnet.layer2.0.downsample.0.weight',\n",
    "'resnet.layer2.0.downsample.1.weight',\n",
    "'resnet.layer2.0.downsample.1.bias',\n",
    "'resnet.layer2.1.conv1.weight',\n",
    "'resnet.layer2.1.bn1.weight',\n",
    "'resnet.layer2.1.bn1.bias',\n",
    "'resnet.layer2.1.conv2.weight',\n",
    "'resnet.layer2.1.bn2.weight',\n",
    "'resnet.layer2.1.bn2.bias',\n",
    "'resnet.layer2.2.conv1.weight',\n",
    "'resnet.layer2.2.bn1.weight',\n",
    "'resnet.layer2.2.bn1.bias',\n",
    "'resnet.layer2.2.conv2.weight',\n",
    "'resnet.layer2.2.bn2.weight',\n",
    "'resnet.layer2.2.bn2.bias',\n",
    "'resnet.layer2.3.conv1.weight',\n",
    "'resnet.layer2.3.bn1.weight',\n",
    "'resnet.layer2.3.bn1.bias',\n",
    "'resnet.layer2.3.conv2.weight',\n",
    "'resnet.layer2.3.bn2.weight',\n",
    "'resnet.layer2.3.bn2.bias',\n",
    "'resnet.layer3.0.conv1.weight',\n",
    "'resnet.layer3.0.bn1.weight',\n",
    "'resnet.layer3.0.bn1.bias',\n",
    "'resnet.layer3.0.conv2.weight',\n",
    "'resnet.layer3.0.bn2.weight',\n",
    "'resnet.layer3.0.bn2.bias',\n",
    "'resnet.layer3.0.downsample.0.weight',\n",
    "'resnet.layer3.0.downsample.1.weight',\n",
    "'resnet.layer3.0.downsample.1.bias',\n",
    "'resnet.layer3.1.conv1.weight',\n",
    "'resnet.layer3.1.bn1.weight',\n",
    "'resnet.layer3.1.bn1.bias',\n",
    "'resnet.layer3.1.conv2.weight',\n",
    "'resnet.layer3.1.bn2.weight',\n",
    "'resnet.layer3.1.bn2.bias',\n",
    "'resnet.layer3.2.conv1.weight',\n",
    "'resnet.layer3.2.bn1.weight',\n",
    "'resnet.layer3.2.bn1.bias',\n",
    "'resnet.layer3.2.conv2.weight',\n",
    "'resnet.layer3.2.bn2.weight',\n",
    "'resnet.layer3.2.bn2.bias',\n",
    "'resnet.layer3.3.conv1.weight',\n",
    "'resnet.layer3.3.bn1.weight',\n",
    "'resnet.layer3.3.bn1.bias',\n",
    "'resnet.layer3.3.conv2.weight',\n",
    "'resnet.layer3.3.bn2.weight',\n",
    "'resnet.layer3.3.bn2.bias',\n",
    "'resnet.layer3.4.conv1.weight',\n",
    "'resnet.layer3.4.bn1.weight',\n",
    "'resnet.layer3.4.bn1.bias',\n",
    "'resnet.layer3.4.conv2.weight',\n",
    "'resnet.layer3.4.bn2.weight',\n",
    "'resnet.layer3.4.bn2.bias',\n",
    "'resnet.layer3.5.conv1.weight',\n",
    "'resnet.layer3.5.bn1.weight',\n",
    "'resnet.layer3.5.bn1.bias',\n",
    "'resnet.layer3.5.conv2.weight',\n",
    "'resnet.layer3.5.bn2.weight',\n",
    "'resnet.layer3.5.bn2.bias',\n",
    "'resnet.layer4.0.conv1.weight',\n",
    "'resnet.layer4.0.bn1.weight',\n",
    "'resnet.layer4.0.bn1.bias',\n",
    "'resnet.layer4.0.conv2.weight',\n",
    "'resnet.layer4.0.bn2.weight',\n",
    "'resnet.layer4.0.bn2.bias',\n",
    "'resnet.layer4.0.downsample.0.weight',\n",
    "'resnet.layer4.0.downsample.1.weight',\n",
    "'resnet.layer4.0.downsample.1.bias',\n",
    "'resnet.layer4.1.conv1.weight',\n",
    "'resnet.layer4.1.bn1.weight',\n",
    "'resnet.layer4.1.bn1.bias',\n",
    "'resnet.layer4.1.conv2.weight',\n",
    "'resnet.layer4.1.bn2.weight',\n",
    "'resnet.layer4.1.bn2.bias',\n",
    "'resnet.layer4.2.conv1.weight',\n",
    "'resnet.layer4.2.bn1.weight',\n",
    "'resnet.layer4.2.bn1.bias',\n",
    "'resnet.layer4.2.conv2.weight',\n",
    "'resnet.layer4.2.bn2.weight',\n",
    "'resnet.layer4.2.bn2.bias',\n",
    "'resnet.fc.weight',\n",
    "'resnet.fc.bias',\n",
    "'encoder2.1.spatial_gate.linear_1.weight',\n",
    "'encoder2.1.spatial_gate.linear_1.bias',\n",
    "'encoder2.1.spatial_gate.linear_2.weight',\n",
    "'encoder2.1.spatial_gate.linear_2.bias',\n",
    "'encoder2.1.channel_gate.conv.weight',\n",
    "'encoder2.1.channel_gate.conv.bias',\n",
    "'encoder3.1.spatial_gate.linear_1.weight',\n",
    "'encoder3.1.spatial_gate.linear_1.bias',\n",
    "'encoder3.1.spatial_gate.linear_2.weight',\n",
    "'encoder3.1.spatial_gate.linear_2.bias',\n",
    "'encoder3.1.channel_gate.conv.weight',\n",
    "'encoder3.1.channel_gate.conv.bias',\n",
    "'encoder4.1.spatial_gate.linear_1.weight',\n",
    "'encoder4.1.spatial_gate.linear_1.bias',\n",
    "'encoder4.1.spatial_gate.linear_2.weight',\n",
    "'encoder4.1.spatial_gate.linear_2.bias',\n",
    "'encoder4.1.channel_gate.conv.weight',\n",
    "'encoder4.1.channel_gate.conv.bias',\n",
    "'encoder5.1.spatial_gate.linear_1.weight',\n",
    "'encoder5.1.spatial_gate.linear_1.bias',\n",
    "'encoder5.1.spatial_gate.linear_2.weight',\n",
    "'encoder5.1.spatial_gate.linear_2.bias',\n",
    "'encoder5.1.channel_gate.conv.weight',\n",
    "'encoder5.1.channel_gate.conv.bias',\n",
    "'logit_clf.0.weight',\n",
    "'logit_clf.0.bias',\n",
    "'logit_clf.2.weight',\n",
    "'logit_clf.2.bias',\n",
    "'center.0.conv.weight',\n",
    "'center.0.bn.weight',\n",
    "'center.0.bn.bias',\n",
    "'decoder5.conv1.weight',\n",
    "'decoder5.conv1.bias',\n",
    "'decoder5.conv2.weight',\n",
    "'decoder5.conv2.bias',\n",
    "'decoder4.conv1.weight',\n",
    "'decoder4.conv1.bias',\n",
    "'decoder4.conv2.weight',\n",
    "'decoder4.conv2.bias',\n",
    "'decoder3.conv1.weight',\n",
    "'decoder3.conv1.bias',\n",
    "'decoder3.conv2.weight',\n",
    "'decoder3.conv2.bias',\n",
    "'decoder2.conv1.weight',\n",
    "'decoder2.conv1.bias',\n",
    "'decoder2.conv2.weight',\n",
    "'decoder2.conv2.bias',\n",
    "'decoder1.conv1.weight',\n",
    "'decoder1.conv1.bias',\n",
    "'decoder1.conv2.weight',\n",
    "'decoder1.conv2.bias',\n",
    "'logit_mask.0.weight',\n",
    "'logit_mask.0.bias',\n",
    "'logit_mask.2.weight',\n",
    "'logit_mask.2.bias',\n",
    "'logit_mask.4.weight',\n",
    "'logit_mask.4.bias'\n",
    "]"
   ]
  },
  {
   "cell_type": "code",
   "execution_count": 3,
   "metadata": {},
   "outputs": [
    {
     "data": {
      "text/plain": [
       "167"
      ]
     },
     "execution_count": 3,
     "metadata": {},
     "output_type": "execute_result"
    }
   ],
   "source": [
    "len(l)"
   ]
  },
  {
   "cell_type": "code",
   "execution_count": null,
   "metadata": {},
   "outputs": [],
   "source": []
  },
  {
   "cell_type": "code",
   "execution_count": null,
   "metadata": {},
   "outputs": [],
   "source": []
  },
  {
   "cell_type": "code",
   "execution_count": null,
   "metadata": {},
   "outputs": [],
   "source": []
  },
  {
   "cell_type": "code",
   "execution_count": null,
   "metadata": {},
   "outputs": [],
   "source": []
  },
  {
   "cell_type": "code",
   "execution_count": null,
   "metadata": {},
   "outputs": [],
   "source": []
  },
  {
   "cell_type": "code",
   "execution_count": null,
   "metadata": {},
   "outputs": [],
   "source": []
  },
  {
   "cell_type": "code",
   "execution_count": null,
   "metadata": {},
   "outputs": [],
   "source": []
  }
 ],
 "metadata": {
  "kernelspec": {
   "display_name": "Python 3",
   "language": "python",
   "name": "python3"
  },
  "language_info": {
   "codemirror_mode": {
    "name": "ipython",
    "version": 3
   },
   "file_extension": ".py",
   "mimetype": "text/x-python",
   "name": "python",
   "nbconvert_exporter": "python",
   "pygments_lexer": "ipython3",
   "version": "3.7.1"
  }
 },
 "nbformat": 4,
 "nbformat_minor": 2
}
