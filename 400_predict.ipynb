{
 "cells": [
  {
   "cell_type": "code",
   "execution_count": 1,
   "metadata": {},
   "outputs": [],
   "source": [
    "import numpy as np\n",
    "import pandas as pd\n",
    "from matplotlib import pyplot as plt\n",
    "import pickle\n",
    "\n",
    "import torch\n",
    "import torch.nn as nn\n",
    "from torch.utils.data import DataLoader\n",
    "\n",
    "from model import AtlasResNet34, AtlasResNet18, predict_proba\n",
    "from model4 import AtlasSEResnet50\n",
    "\n",
    "from utils import load_checkpoint\n",
    "from gpu_utils import set_n_get_device\n",
    "from metrics import macro_f1, macro_f1_numpy\n",
    "from dataset import train_test_split, AtlasDataSet\n",
    "\n",
    "%matplotlib inline"
   ]
  },
  {
   "cell_type": "code",
   "execution_count": 2,
   "metadata": {},
   "outputs": [],
   "source": [
    "device = set_n_get_device(\"0, 1, 2, 3\", data_device_id=\"cuda:2\")#0, 1, 2, 3, IMPORTANT: data_device_id is set to free gpu for storing the model, e.g.\"cuda:1\"\n",
    "#device = 'cpu'\n",
    "multi_gpu = [0, 2, 3]#[1, 2]#None, 0, 1, 2, 3\n",
    "\n",
    "# for blending model's selecting best threshold, use seed 2345 (it has best single model LB score)\n",
    "SEED = 2345##2345 #5678#4567#3456#2345#1234\n",
    "debug = False# if True, load 100 samples\n",
    "BATCH_SIZE = 32\n",
    "NUM_WORKERS = 20\n",
    "IMG_SIZE = 512"
   ]
  },
  {
   "cell_type": "markdown",
   "metadata": {},
   "source": [
    "## select best threshold for each class on validset"
   ]
  },
  {
   "cell_type": "code",
   "execution_count": 3,
   "metadata": {},
   "outputs": [
    {
     "name": "stdout",
     "output_type": "stream",
     "text": [
      "total trainset:  53527\n",
      "IMG_SIZE:  512\n",
      "IMG_SIZE:  512\n"
     ]
    }
   ],
   "source": [
    "# load validset\n",
    "fname_train, fname_valid = train_test_split(SEED, debug)\n",
    "val_ds = AtlasDataSet(fname_valid, mode='train', augmentation=False, IMG_SIZE=IMG_SIZE)\n",
    "val_dl = DataLoader(\n",
    "        val_ds,\n",
    "        batch_size=BATCH_SIZE,\n",
    "        shuffle=False,\n",
    "        #sampler=sampler,\n",
    "        num_workers=NUM_WORKERS,\n",
    "    )\n",
    "#TTA\n",
    "val_ds_flip = AtlasDataSet(fname_valid, mode='train', augmentation=False, IMG_SIZE=IMG_SIZE, flip=True)\n",
    "val_dl_flip = DataLoader(\n",
    "        val_ds_flip,\n",
    "        batch_size=BATCH_SIZE,\n",
    "        shuffle=False,\n",
    "        #sampler=sampler,\n",
    "        num_workers=NUM_WORKERS,\n",
    "    )"
   ]
  },
  {
   "cell_type": "code",
   "execution_count": 4,
   "metadata": {},
   "outputs": [
    {
     "data": {
      "text/plain": [
       "(5142, 28)"
      ]
     },
     "execution_count": 4,
     "metadata": {},
     "output_type": "execute_result"
    }
   ],
   "source": [
    "# y should be makeup\n",
    "y_valid = []\n",
    "for i, (input_data, truth) in enumerate(val_dl):\n",
    "    #if i==10:\n",
    "    #    break\n",
    "    y_valid.append(truth.cpu().numpy())\n",
    "y_valid = np.concatenate(y_valid, axis=0)\n",
    "y_valid.shape"
   ]
  },
  {
   "cell_type": "code",
   "execution_count": null,
   "metadata": {},
   "outputs": [],
   "source": []
  },
  {
   "cell_type": "code",
   "execution_count": 5,
   "metadata": {
    "scrolled": true
   },
   "outputs": [
    {
     "name": "stdout",
     "output_type": "stream",
     "text": [
      "raw_weight size:  torch.Size([64, 3, 7, 7])\n",
      "new_weight size:  torch.Size([64, 4, 7, 7])\n"
     ]
    }
   ],
   "source": [
    "# load trained model\n",
    "net = AtlasResNet34(debug=False).cuda(device=device)\n",
    "#net = AtlasResNet18(debug=False).cuda(device=device)\n",
    "#net = AtlasSEResnet50(debug=False).cuda(device=device)\n",
    "checkpoint_path = 'checkpoint/1222_v2_seed3456/best.pth.tar'\n",
    "net, _ = load_checkpoint(checkpoint_path, net)"
   ]
  },
  {
   "cell_type": "code",
   "execution_count": 11,
   "metadata": {},
   "outputs": [],
   "source": [
    "#net = nn.DataParallel(net, device_ids=multi_gpu)"
   ]
  },
  {
   "cell_type": "code",
   "execution_count": 6,
   "metadata": {},
   "outputs": [
    {
     "name": "stderr",
     "output_type": "stream",
     "text": [
      "/home/bigdata/data/endi/anaconda3/lib/python3.7/site-packages/torch/nn/functional.py:1006: UserWarning: nn.functional.sigmoid is deprecated. Use torch.sigmoid instead.\n",
      "  warnings.warn(\"nn.functional.sigmoid is deprecated. Use torch.sigmoid instead.\")\n"
     ]
    },
    {
     "name": "stdout",
     "output_type": "stream",
     "text": [
      "CPU times: user 1min 55s, sys: 35 s, total: 2min 30s\n",
      "Wall time: 2min 41s\n"
     ]
    }
   ],
   "source": [
    "%%time\n",
    "# predict_proba\n",
    "net.set_mode('valid')#.module\n",
    "preds_valid = (predict_proba(net, val_dl, device, multi_gpu=False) + \n",
    "               predict_proba(net, val_dl_flip, device, multi_gpu=False)) / 2"
   ]
  },
  {
   "cell_type": "code",
   "execution_count": null,
   "metadata": {},
   "outputs": [],
   "source": []
  },
  {
   "cell_type": "code",
   "execution_count": 5,
   "metadata": {},
   "outputs": [
    {
     "name": "stdout",
     "output_type": "stream",
     "text": [
      "raw_weight size:  torch.Size([64, 3, 7, 7])\n",
      "new_weight size:  torch.Size([64, 4, 7, 7])\n"
     ]
    },
    {
     "name": "stderr",
     "output_type": "stream",
     "text": [
      "/home/bigdata/data/endi/anaconda3/lib/python3.7/site-packages/torch/nn/functional.py:1006: UserWarning: nn.functional.sigmoid is deprecated. Use torch.sigmoid instead.\n",
      "  warnings.warn(\"nn.functional.sigmoid is deprecated. Use torch.sigmoid instead.\")\n"
     ]
    },
    {
     "name": "stdout",
     "output_type": "stream",
     "text": [
      "model 0 done\n",
      "model 1 done\n",
      "model 2 done\n"
     ]
    }
   ],
   "source": [
    "# only for ensemble N models, to calculate threshold on validset\n",
    "\n",
    "# load trained model resnet34\n",
    "net = AtlasResNet34(debug=False).cuda(device=device)\n",
    "\n",
    "checkpoint_path = 'checkpoint/1222_v2_seed1234/best.pth.tar'\n",
    "net, _ = load_checkpoint(checkpoint_path, net)\n",
    "net.set_mode('valid')\n",
    "preds_valid0 = (predict_proba(net, val_dl, device, multi_gpu=False) + \n",
    "               predict_proba(net, val_dl_flip, device, multi_gpu=False)) / 2\n",
    "print('model 0 done')\n",
    "\n",
    "checkpoint_path = 'checkpoint/1222_v2_seed2345/best.pth.tar'\n",
    "net, _ = load_checkpoint(checkpoint_path, net)\n",
    "net.set_mode('valid')\n",
    "preds_valid1 = (predict_proba(net, val_dl, device, multi_gpu=False) + \n",
    "               predict_proba(net, val_dl_flip, device, multi_gpu=False)) / 2\n",
    "print('model 1 done')\n",
    "\n",
    "checkpoint_path = 'checkpoint/1222_v2_seed3456/best.pth.tar'\n",
    "net, _ = load_checkpoint(checkpoint_path, net)\n",
    "net.set_mode('valid')\n",
    "preds_valid2 = (predict_proba(net, val_dl, device, multi_gpu=False) + \n",
    "               predict_proba(net, val_dl_flip, device, multi_gpu=False)) / 2\n",
    "print('model 2 done')\n",
    "\n",
    "preds_valid = (preds_valid0 + preds_valid1 + preds_valid2) / 3"
   ]
  },
  {
   "cell_type": "code",
   "execution_count": null,
   "metadata": {},
   "outputs": [],
   "source": []
  },
  {
   "cell_type": "code",
   "execution_count": 84,
   "metadata": {},
   "outputs": [
    {
     "name": "stdout",
     "output_type": "stream",
     "text": [
      "Best threshold:  [ 0.09045226  0.11055276  0.31155779 -0.11055276 -0.47236181 -0.05025126\n",
      " -0.75376884 -0.03015075 -0.47236181 -0.87437186 -1.03517588 -0.17085427\n",
      "  0.05025126 -0.15075377 -0.19095477 -1.03517588 -0.21105528 -0.29145729\n",
      "  0.25125628 -0.35175879 -0.23115578  0.31155779 -0.59296482 -0.33165829\n",
      "  0.53266332 -0.53266332  0.19095477 -1.69849246]\n",
      "CPU times: user 1min 16s, sys: 320 ms, total: 1min 16s\n",
      "Wall time: 1min 31s\n"
     ]
    },
    {
     "data": {
      "image/png": "[encoded data removed]",
      "text/plain": [
       "<Figure size 432x288 with 1 Axes>"
      ]
     },
     "metadata": {
      "needs_background": "light"
     },
     "output_type": "display_data"
    }
   ],
   "source": [
    "%%time\n",
    "#class-specific-threshold(i.e. 28 thresholds for each class)\n",
    "thresholds_candidates = np.linspace(-2, 2, 200)#np.linspace(0.01, 0.99, 50)\n",
    "#print('threshold candidate: ', thresholds_candidates)\n",
    "\n",
    "thresholds = np.array([0.5]*28)\n",
    "\n",
    "f1_score_best_list = []\n",
    "\n",
    "for c in range(28):\n",
    "    \n",
    "    f1_scores = []\n",
    "    for i in thresholds_candidates:\n",
    "        thresholds[c] = i\n",
    "\n",
    "        f1_score = macro_f1_numpy(preds_valid, y_valid, threshold=thresholds)\n",
    "        f1_scores.append(f1_score)\n",
    "\n",
    "    # best threshold for this class\n",
    "    threshold_best_index = np.argmax(f1_scores)\n",
    "    f1_score_best = f1_scores[threshold_best_index]\n",
    "    threshold_best = thresholds_candidates[threshold_best_index]\n",
    "    ## add f1_score_best to history, and set threshold best for this class\n",
    "    f1_score_best_list.append(f1_score_best)\n",
    "    thresholds[c] = threshold_best\n",
    "\n",
    "print('Best threshold: ', thresholds)\n",
    "\n",
    "plt.plot(range(28), f1_score_best_list, \"xr\", label=\"Best threshold\")\n",
    "plt.xlabel(\"Class Modified\")\n",
    "plt.ylabel(\"macro F1 score\")\n",
    "plt.title(\"NumClass vs F1\")\n",
    "plt.legend()"
   ]
  },
  {
   "cell_type": "code",
   "execution_count": 7,
   "metadata": {
    "scrolled": false
   },
   "outputs": [
    {
     "name": "stdout",
     "output_type": "stream",
     "text": [
      "Best threshold:  [-0.11055276 -0.57286432 -0.35175879 -0.27135678 -0.11055276 -0.31155779\n",
      " -0.59296482 -0.07035176 -0.15075377 -0.65326633 -0.59296482  0.19095477\n",
      " -0.21105528 -0.45226131 -0.47236181 -0.75376884  0.29145729  0.25125628\n",
      " -0.01005025 -0.23115578 -0.15075377 -0.05025126 -0.75376884 -0.79396985\n",
      "  0.29145729 -0.23115578  0.25125628 -0.81407035]\n",
      "CPU times: user 1min 6s, sys: 32 ms, total: 1min 6s\n",
      "Wall time: 1min 6s\n"
     ]
    },
    {
     "data": {
      "image/png": "[encoded data removed]",
      "text/plain": [
       "<Figure size 432x288 with 1 Axes>"
      ]
     },
     "metadata": {
      "needs_background": "light"
     },
     "output_type": "display_data"
    }
   ],
   "source": [
    "%%time\n",
    "#class-specific-threshold(i.e. 28 thresholds for each class)\n",
    "thresholds_candidates = np.linspace(-2, 2, 200)#np.linspace(0.01, 0.99, 50)\n",
    "#print('threshold candidate: ', thresholds_candidates)\n",
    "\n",
    "thresholds = np.array([0.5]*28)\n",
    "\n",
    "f1_score_best_list = []\n",
    "\n",
    "for c in range(28):\n",
    "    \n",
    "    f1_scores = []\n",
    "    for i in thresholds_candidates:\n",
    "        thresholds[c] = i\n",
    "\n",
    "        f1_score = macro_f1_numpy(preds_valid, y_valid, threshold=thresholds)\n",
    "        f1_scores.append(f1_score)\n",
    "\n",
    "    # best threshold for this class\n",
    "    threshold_best_index = np.argmax(f1_scores)\n",
    "    f1_score_best = f1_scores[threshold_best_index]\n",
    "    threshold_best = thresholds_candidates[threshold_best_index]\n",
    "    ## add f1_score_best to history, and set threshold best for this class\n",
    "    f1_score_best_list.append(f1_score_best)\n",
    "    thresholds[c] = threshold_best\n",
    "\n",
    "print('Best threshold: ', thresholds)\n",
    "\n",
    "plt.plot(range(28), f1_score_best_list, \"xr\", label=\"Best threshold\")\n",
    "plt.xlabel(\"Class Modified\")\n",
    "plt.ylabel(\"macro F1 score\")\n",
    "plt.title(\"NumClass vs F1\")\n",
    "plt.legend()"
   ]
  },
  {
   "cell_type": "code",
   "execution_count": null,
   "metadata": {},
   "outputs": [],
   "source": []
  },
  {
   "cell_type": "code",
   "execution_count": 12,
   "metadata": {},
   "outputs": [
    {
     "name": "stdout",
     "output_type": "stream",
     "text": [
      "Best threshold:  [-0.07035176 -0.4321608  -0.25125628 -0.3919598  -0.93467337 -0.95477387\n",
      " -0.89447236  0.05025126 -1.27638191 -0.91457286 -1.2160804   0.07035176\n",
      " -0.3718593  -0.63316583 -0.69346734 -1.07537688  0.13065327 -0.71356784\n",
      " -0.49246231 -0.85427136 -0.55276382  0.07035176 -0.67336683 -0.11055276\n",
      "  0.3919598  -0.35175879 -0.27135678 -1.69849246]\n"
     ]
    },
    {
     "data": {
      "text/plain": [
       "<matplotlib.legend.Legend at 0x7f6002a3b358>"
      ]
     },
     "execution_count": 12,
     "metadata": {},
     "output_type": "execute_result"
    },
    {
     "data": {
      "image/png": "[encoded data removed]",
      "text/plain": [
       "<Figure size 432x288 with 1 Axes>"
      ]
     },
     "metadata": {
      "needs_background": "light"
     },
     "output_type": "display_data"
    }
   ],
   "source": [
    "## ensemble models ##\n",
    "\n",
    "#class-specific-threshold(i.e. 28 thresholds for each class)\n",
    "thresholds_candidates = np.linspace(-2, 2, 200)#np.linspace(0.01, 0.99, 50)\n",
    "\n",
    "thresholds = np.array([0.5]*28)\n",
    "\n",
    "f1_score_best_list = []\n",
    "\n",
    "for c in range(28):\n",
    "    \n",
    "    f1_scores = []\n",
    "    for i in thresholds_candidates:\n",
    "        thresholds[c] = i\n",
    "\n",
    "        f1_score = macro_f1_numpy(preds_valid, y_valid, threshold=thresholds)\n",
    "        f1_scores.append(f1_score)\n",
    "\n",
    "    # best threshold for this class\n",
    "    threshold_best_index = np.argmax(f1_scores)\n",
    "    f1_score_best = f1_scores[threshold_best_index]\n",
    "    threshold_best = thresholds_candidates[threshold_best_index]\n",
    "    ## add f1_score_best to history, and set threshold best for this class\n",
    "    f1_score_best_list.append(f1_score_best)\n",
    "    thresholds[c] = threshold_best\n",
    "\n",
    "print('Best threshold: ', thresholds)\n",
    "\n",
    "plt.plot(range(28), f1_score_best_list, \"xr\", label=\"Best threshold\")\n",
    "plt.xlabel(\"Class Modified\")\n",
    "plt.ylabel(\"macro F1 score\")\n",
    "plt.title(\"NumClass vs F1\")\n",
    "plt.legend()"
   ]
  },
  {
   "cell_type": "code",
   "execution_count": 6,
   "metadata": {},
   "outputs": [
    {
     "name": "stdout",
     "output_type": "stream",
     "text": [
      "Best threshold:  [-0.19095477 -0.4321608  -0.11055276 -0.45226131 -0.95477387 -0.71356784\n",
      " -0.79396985 -0.23115578 -1.15577889 -0.63316583 -0.99497487 -0.21105528\n",
      " -0.09045226 -0.67336683 -0.03015075 -1.37688442 -0.71356784 -0.75376884\n",
      " -0.35175879 -1.05527638 -0.51256281  0.01005025 -0.89447236  0.05025126\n",
      " -0.51256281 -0.53266332 -0.4120603  -1.59798995]\n"
     ]
    },
    {
     "data": {
      "text/plain": [
       "<matplotlib.legend.Legend at 0x7fad6adb5048>"
      ]
     },
     "execution_count": 6,
     "metadata": {},
     "output_type": "execute_result"
    },
    {
     "data": {
      "image/png": "[encoded data removed]",
      "text/plain": [
       "<Figure size 432x288 with 1 Axes>"
      ]
     },
     "metadata": {
      "needs_background": "light"
     },
     "output_type": "display_data"
    }
   ],
   "source": [
    "## ensemble models\n",
    "\n",
    "#class-specific-threshold(i.e. 28 thresholds for each class)\n",
    "thresholds_candidates = np.linspace(-2, 2, 200)#np.linspace(0.01, 0.99, 50)\n",
    "\n",
    "thresholds = np.array([0.5]*28)\n",
    "\n",
    "f1_score_best_list = []\n",
    "\n",
    "for c in range(28):\n",
    "    \n",
    "    f1_scores = []\n",
    "    for i in thresholds_candidates:\n",
    "        thresholds[c] = i\n",
    "\n",
    "        f1_score = macro_f1_numpy(preds_valid, y_valid, threshold=thresholds)\n",
    "        f1_scores.append(f1_score)\n",
    "\n",
    "    # best threshold for this class\n",
    "    threshold_best_index = np.argmax(f1_scores)\n",
    "    f1_score_best = f1_scores[threshold_best_index]\n",
    "    threshold_best = thresholds_candidates[threshold_best_index]\n",
    "    ## add f1_score_best to history, and set threshold best for this class\n",
    "    f1_score_best_list.append(f1_score_best)\n",
    "    thresholds[c] = threshold_best\n",
    "\n",
    "print('Best threshold: ', thresholds)\n",
    "\n",
    "plt.plot(range(28), f1_score_best_list, \"xr\", label=\"Best threshold\")\n",
    "plt.xlabel(\"Class Modified\")\n",
    "plt.ylabel(\"macro F1 score\")\n",
    "plt.title(\"NumClass vs F1\")\n",
    "plt.legend()"
   ]
  },
  {
   "cell_type": "code",
   "execution_count": 7,
   "metadata": {},
   "outputs": [],
   "source": [
    "preds_valid_label = (preds_valid>thresholds).astype(np.int)\n",
    "#y_valid = y_valid.astype(np.int)"
   ]
  },
  {
   "cell_type": "code",
   "execution_count": 8,
   "metadata": {},
   "outputs": [
    {
     "name": "stdout",
     "output_type": "stream",
     "text": [
      "             precision    recall  f1-score   support\n",
      "\n",
      "          0       0.94      0.90      0.92      3337\n",
      "          1       0.82      0.89      0.85      1798\n",
      "\n",
      "avg / total       0.90      0.89      0.89      5135\n",
      "\n"
     ]
    }
   ],
   "source": [
    "from sklearn.metrics import classification_report, confusion_matrix\n",
    "\n",
    "i = 0\n",
    "\n",
    "print(classification_report(y_valid[:, i], preds_valid_label[:, i]))"
   ]
  },
  {
   "cell_type": "code",
   "execution_count": null,
   "metadata": {},
   "outputs": [],
   "source": [
    "# difficult class: 21, 22, 26"
   ]
  },
  {
   "cell_type": "markdown",
   "metadata": {},
   "source": [
    "## using best threshold to predict"
   ]
  },
  {
   "cell_type": "code",
   "execution_count": 7,
   "metadata": {},
   "outputs": [],
   "source": [
    "from glob import glob"
   ]
  },
  {
   "cell_type": "code",
   "execution_count": 8,
   "metadata": {},
   "outputs": [
    {
     "data": {
      "text/plain": [
       "11702"
      ]
     },
     "execution_count": 8,
     "metadata": {},
     "output_type": "execute_result"
    }
   ],
   "source": [
    "## ⚠️可能每次读取返回图片（样本）顺序不一样，所以保存的single model prediction可能顺序都不同，不同直接blend\n",
    "files = glob('data/raw/test/*')\n",
    "fname_test = list(set([f.replace('_red.png', '').replace('_green.png', '').replace('_blue.png', '').replace('_yellow.png', '').replace('data/raw/test/', '') for f in files]))\n",
    "len(fname_test)"
   ]
  },
  {
   "cell_type": "code",
   "execution_count": 10,
   "metadata": {},
   "outputs": [
    {
     "name": "stdout",
     "output_type": "stream",
     "text": [
      "IMG_SIZE:  512\n",
      "IMG_SIZE:  512\n"
     ]
    }
   ],
   "source": [
    "test_ds = AtlasDataSet(fname_test, mode='test', augmentation=False, IMG_SIZE=IMG_SIZE)\n",
    "test_dl = DataLoader(\n",
    "        test_ds,\n",
    "        batch_size=BATCH_SIZE,\n",
    "        shuffle=False,\n",
    "        #sampler=sampler,\n",
    "        num_workers=NUM_WORKERS,\n",
    "    )\n",
    "\n",
    "#TTA\n",
    "test_ds_flip = AtlasDataSet(fname_test, mode='test', augmentation=False, IMG_SIZE=IMG_SIZE)\n",
    "test_dl_flip = DataLoader(\n",
    "        test_ds_flip,\n",
    "        batch_size=BATCH_SIZE,\n",
    "        shuffle=False,\n",
    "        #sampler=sampler,\n",
    "        num_workers=NUM_WORKERS,\n",
    "    )"
   ]
  },
  {
   "cell_type": "code",
   "execution_count": 11,
   "metadata": {},
   "outputs": [
    {
     "name": "stderr",
     "output_type": "stream",
     "text": [
      "/home/bigdata/data/endi/anaconda3/lib/python3.7/site-packages/torch/nn/functional.py:1006: UserWarning: nn.functional.sigmoid is deprecated. Use torch.sigmoid instead.\n",
      "  warnings.warn(\"nn.functional.sigmoid is deprecated. Use torch.sigmoid instead.\")\n"
     ]
    },
    {
     "name": "stdout",
     "output_type": "stream",
     "text": [
      "CPU times: user 4min 21s, sys: 1min 14s, total: 5min 36s\n",
      "Wall time: 5min 51s\n"
     ]
    }
   ],
   "source": [
    "%%time\n",
    "# predict by single model\n",
    "preds_test = (predict_proba(net, test_dl, device) + predict_proba(net, test_dl_flip, device)) / 2\n",
    "\n",
    "# saving\n",
    "with open('prediction/1222_v2_seed3456_tta.pkl', 'wb') as f:\n",
    "    pickle.dump([preds_test, thresholds, fname_test], f, protocol=4)"
   ]
  },
  {
   "cell_type": "code",
   "execution_count": 14,
   "metadata": {},
   "outputs": [],
   "source": [
    "#loading\n",
    "# with open('prediction/SEResnet50_512_v1_seed1234.pkl', 'rb') as f:\n",
    "#     preds_test, thresholds, fname_test = pickle.load(f)"
   ]
  },
  {
   "cell_type": "code",
   "execution_count": null,
   "metadata": {},
   "outputs": [],
   "source": []
  },
  {
   "cell_type": "code",
   "execution_count": 166,
   "metadata": {},
   "outputs": [],
   "source": [
    "# ## only for ensemble models, do predictions and average probabilities\n",
    "# ## ⚠️可能每次读取图片（样本）顺序不一样，所以保存的single model prediction可能顺序都不同，不同直接blend\n",
    "\n",
    "# # load checkpoint and predict\n",
    "# checkpoint_path = 'checkpoint/1222_v2_seed1234/best.pth.tar'\n",
    "# net, _ = load_checkpoint(checkpoint_path, net)\n",
    "# preds_test0 = predict_proba(net, test_dl, device)\n",
    "# print('model 0 done')\n",
    "\n",
    "# checkpoint_path = 'checkpoint/1222_v2_seed2345/best.pth.tar'\n",
    "# net, _ = load_checkpoint(checkpoint_path, net)\n",
    "# preds_test1 = predict_proba(net, test_dl, device)\n",
    "# print('model 1 done')\n",
    "\n",
    "# checkpoint_path = 'checkpoint/1222_v2_seed3456/best.pth.tar'\n",
    "# net, _ = load_checkpoint(checkpoint_path, net)\n",
    "# preds_test2 = predict_proba(net, test_dl, device)\n",
    "# print('model 2 done')\n",
    "\n",
    "# checkpoint_path = 'checkpoint/1222_v2_seed4567/best.pth.tar'\n",
    "# net, _ = load_checkpoint(checkpoint_path, net)\n",
    "# preds_test3 = predict_proba(net, test_dl, device)\n",
    "# print('model 3 done')\n",
    "\n",
    "# checkpoint_path = 'checkpoint/1222_v2_seed5678/best.pth.tar'\n",
    "# net, _ = load_checkpoint(checkpoint_path, net)\n",
    "# preds_test4 = predict_proba(net, test_dl, device)\n",
    "# print('model 4 done')\n",
    "\n",
    "# preds_test = (preds_test0 + preds_test1 + preds_test2 + preds_test3 + preds_test4) / 5"
   ]
  },
  {
   "cell_type": "code",
   "execution_count": 9,
   "metadata": {},
   "outputs": [],
   "source": [
    "# # saving\n",
    "# with open('prediction/1222_v2_blending1234_2345_3456_4567_5678.pkl', 'wb') as f:\n",
    "#     pickle.dump([preds_test, thresholds, preds_test0, preds_test1, preds_test2, preds_test3, preds_test4, fname_test], \n",
    "#                 f, protocol=4)\n",
    "\n",
    "# saving\n",
    "with open('prediction/1222_v2_blending1234_2345_3456_tta_thresholds.pkl', 'wb') as f:\n",
    "    pickle.dump(thresholds, f, protocol=4)"
   ]
  },
  {
   "cell_type": "code",
   "execution_count": null,
   "metadata": {},
   "outputs": [],
   "source": []
  },
  {
   "cell_type": "code",
   "execution_count": 83,
   "metadata": {},
   "outputs": [],
   "source": [
    "def sigmoid(x):\n",
    "    return 1 / (1 + np.exp(-x))"
   ]
  },
  {
   "cell_type": "code",
   "execution_count": 168,
   "metadata": {},
   "outputs": [],
   "source": [
    "# load preds for ensemble -- resnet34\n",
    "with open('prediction/1222_v2_blending1234_2345_3456_4567_5678.pkl', 'rb') as f:\n",
    "    null_z, null_a, preds_test0, preds_test1, preds_test2, \\\n",
    "    null_b, null_c, fname_test0 = pickle.load(f)\n",
    "idx = np.argsort(fname_test0)\n",
    "preds_test0 = preds_test0[idx, :]\n",
    "preds_test1 = preds_test1[idx, :]\n",
    "preds_test2 = preds_test2[idx, :]\n",
    "fname_test = np.array(fname_test0)[idx].tolist()\n",
    "\n",
    "preds_test = ( preds_test0 + preds_test1 + preds_test2 )#sigmoid"
   ]
  },
  {
   "cell_type": "code",
   "execution_count": 32,
   "metadata": {},
   "outputs": [],
   "source": [
    "# load preds for ensemble -- resnet34 tta\n",
    "with open('prediction/1222_v2_seed1234_tta.pkl', 'rb') as f:\n",
    "    preds_test0, thresholds0, fname_test0 = pickle.load(f)\n",
    "idx = np.argsort(fname_test0)\n",
    "preds_test0 = preds_test0[idx, :]\n",
    "with open('prediction/1222_v2_seed2345_tta.pkl', 'rb') as f:\n",
    "    preds_test1, thresholds1, fname_test1 = pickle.load(f)\n",
    "idx = np.argsort(fname_test1)\n",
    "preds_test1 = preds_test1[idx, :]\n",
    "with open('prediction/1222_v2_seed3456_tta.pkl', 'rb') as f:\n",
    "    preds_test2, thresholds2, fname_test2 = pickle.load(f)\n",
    "idx = np.argsort(fname_test2)\n",
    "preds_test2 = preds_test2[idx, :]\n",
    "\n",
    "fname_test = np.array(fname_test2)[idx].tolist()\n",
    "\n",
    "preds_test = ( preds_test0 + preds_test1 + preds_test2 ) / 3#sigmoid"
   ]
  },
  {
   "cell_type": "code",
   "execution_count": 170,
   "metadata": {},
   "outputs": [],
   "source": [
    "preds_test = preds_test / 6"
   ]
  },
  {
   "cell_type": "code",
   "execution_count": 173,
   "metadata": {},
   "outputs": [],
   "source": [
    "# loading\n",
    "with open('prediction/1222_v2_blending1234_2345_3456_tta_thresholds.pkl', 'rb') as f:\n",
    "    _, thresholds_ensemble = pickle.load(f)\n",
    "\n",
    "with open('prediction/1222_v2_seed2345.pkl', 'rb') as f:\n",
    "    preds_test_single, thresholds_single, fname_test11 = pickle.load(f)\n",
    "idx = np.argsort(fname_test11)\n",
    "preds_test_single = preds_test_single[idx, :]\n",
    "\n",
    "with open('prediction/1222_v2_seed3456.pkl', 'rb') as f:\n",
    "    _, thresholds_single2 = pickle.load(f)\n",
    "preds_test_single2 = preds_test2\n",
    "\n",
    "with open('prediction/1222_v2_seed1234.pkl', 'rb') as f:\n",
    "    _, thresholds_single3 = pickle.load(f)\n",
    "preds_test_single3 = preds_test0"
   ]
  },
  {
   "cell_type": "code",
   "execution_count": null,
   "metadata": {},
   "outputs": [],
   "source": []
  },
  {
   "cell_type": "code",
   "execution_count": null,
   "metadata": {},
   "outputs": [],
   "source": []
  },
  {
   "cell_type": "code",
   "execution_count": 116,
   "metadata": {},
   "outputs": [],
   "source": [
    "# predict class using class-specific-thresholds\n",
    "preds_test01 = (preds_test > thresholds).astype(np.int) #(preds_test > thresholds_ensemble).astype(np.int)\n",
    "#preds_test01 = preds01\n",
    "\n",
    "# predict class using another model, to fillna for the ensemble model\n",
    "preds_test02 = (preds_test1 > thresholds1).astype(np.int) #(preds_test_single > thresholds_single).astype(np.int)\n",
    "\n",
    "# predict class using another model, to fillna for the ensemble model\n",
    "preds_test03 = (preds_test2 > thresholds2).astype(np.int) #(preds_test_single2 > thresholds_single2).astype(np.int)\n",
    "\n",
    "# predict class using another model, to fillna for the ensemble model\n",
    "preds_test04 = (preds_test0 > thresholds0).astype(np.int) #(preds_test_single3 > thresholds_single3).astype(np.int)\n",
    "\n",
    "# predict class using threshold=0.3\n",
    "#preds_test01 = (torch.sigmoid(torch.from_numpy(preds_test)) > 0.3).numpy().astype(np.int)"
   ]
  },
  {
   "cell_type": "code",
   "execution_count": 117,
   "metadata": {
    "scrolled": true
   },
   "outputs": [],
   "source": [
    "## fill na for the ensemble model by single model's prediction for those na images\n",
    "preds_test01[(preds_test01.sum(axis=1)==0), :] = preds_test02[(preds_test01.sum(axis=1)==0), :]\n",
    "preds_test01[(preds_test01.sum(axis=1)==0), :] = preds_test03[(preds_test01.sum(axis=1)==0), :]\n",
    "preds_test01[(preds_test01.sum(axis=1)==0), :] = preds_test04[(preds_test01.sum(axis=1)==0), :]"
   ]
  },
  {
   "cell_type": "code",
   "execution_count": 23,
   "metadata": {},
   "outputs": [],
   "source": [
    "def encode_2str(arr, fillna=True):\n",
    "    s = ''\n",
    "    for i in range(28):\n",
    "        _s = arr[i]\n",
    "        if _s==1:\n",
    "            if s=='':\n",
    "                s = str(i)\n",
    "            else:\n",
    "                s += ' '\n",
    "                s += str(i)\n",
    "    if s=='':#sample that predict 0 for all 28 classes\n",
    "        if fillna:\n",
    "            s = np.random.choice(['0', '25'], 1)[0]\n",
    "        else:\n",
    "            s = '-1'\n",
    "    return s"
   ]
  },
  {
   "cell_type": "code",
   "execution_count": 118,
   "metadata": {},
   "outputs": [],
   "source": [
    "output = []\n",
    "for pred in preds_test01:\n",
    "    output.append(encode_2str(pred, fillna=True))#False, True"
   ]
  },
  {
   "cell_type": "code",
   "execution_count": 119,
   "metadata": {
    "scrolled": true
   },
   "outputs": [
    {
     "data": {
      "text/plain": [
       "0 25             1262\n",
       "25               1192\n",
       "0                1191\n",
       "21                501\n",
       "23                495\n",
       "7                 377\n",
       "5                 278\n",
       "0 2               256\n",
       "0 21              251\n",
       "2                 240\n",
       "4                 238\n",
       "11                230\n",
       "21 25             227\n",
       "19                205\n",
       "14                177\n",
       "6                 172\n",
       "3                 171\n",
       "0 7               161\n",
       "0 21 25           154\n",
       "0 5               154\n",
       "1                 123\n",
       "0 19              111\n",
       "0 1               110\n",
       "0 23              103\n",
       "0 2 25             93\n",
       "18                 91\n",
       "2 25               91\n",
       "12                 84\n",
       "0 3                82\n",
       "5 25               69\n",
       "                 ... \n",
       "4 18                1\n",
       "15 21 25            1\n",
       "3 12                1\n",
       "2 13 21 25          1\n",
       "0 1 19 21           1\n",
       "7 12                1\n",
       "14 17 21            1\n",
       "0 4 23              1\n",
       "13 14               1\n",
       "0 4 12              1\n",
       "23 27               1\n",
       "0 1 2 4             1\n",
       "11 13 21            1\n",
       "4 12 14             1\n",
       "0 4 22              1\n",
       "2 4 26              1\n",
       "0 4 14 16           1\n",
       "0 13 22             1\n",
       "0 3 4               1\n",
       "2 15 16             1\n",
       "2 22                1\n",
       "0 27                1\n",
       "3 14                1\n",
       "0 5 6               1\n",
       "13 27               1\n",
       "0 14 16 17 25       1\n",
       "23 26               1\n",
       "2 21 22 25          1\n",
       "2 3 23 25           1\n",
       "2 12 25             1\n",
       "Length: 452, dtype: int64"
      ]
     },
     "execution_count": 119,
     "metadata": {},
     "output_type": "execute_result"
    }
   ],
   "source": [
    "pd.value_counts(output)"
   ]
  },
  {
   "cell_type": "code",
   "execution_count": null,
   "metadata": {},
   "outputs": [],
   "source": []
  },
  {
   "cell_type": "code",
   "execution_count": 14,
   "metadata": {},
   "outputs": [],
   "source": [
    "# for single model\n",
    "preds_test01 = (preds_test > thresholds).astype(np.int)\n",
    "#preds_test01 = (preds_test > 0.4).numpy().astype(np.int)\n",
    "\n",
    "output = []\n",
    "for pred in preds_test01:\n",
    "    output.append(encode_2str(pred, fillna=False))#False, True"
   ]
  },
  {
   "cell_type": "code",
   "execution_count": 15,
   "metadata": {
    "scrolled": true
   },
   "outputs": [
    {
     "data": {
      "text/plain": [
       "0 25           1137\n",
       "25              948\n",
       "0               839\n",
       "23              461\n",
       "21              390\n",
       "-1              325\n",
       "7               310\n",
       "21 25           268\n",
       "5               257\n",
       "0 21            227\n",
       "4               227\n",
       "0 2             223\n",
       "0 21 25         206\n",
       "19              197\n",
       "2               189\n",
       "3               175\n",
       "11              173\n",
       "0 5             150\n",
       "0 7             142\n",
       "6               142\n",
       "14              136\n",
       "0 5 25          130\n",
       "0 19            125\n",
       "1               113\n",
       "6 25            111\n",
       "4 25            104\n",
       "0 2 25          100\n",
       "2 25            100\n",
       "0 23             99\n",
       "5 25             99\n",
       "               ... \n",
       "21 24 25          1\n",
       "2 3 7             1\n",
       "18 21 22          1\n",
       "4 18 21 25        1\n",
       "6 16 25           1\n",
       "0 1 5             1\n",
       "4 21 22           1\n",
       "2 21 22           1\n",
       "1 18              1\n",
       "4 12              1\n",
       "0 2 14 16         1\n",
       "0 13 14           1\n",
       "12 23 25          1\n",
       "4 5 14            1\n",
       "17 18             1\n",
       "16 17 18 25       1\n",
       "1 5 7             1\n",
       "3 25 26           1\n",
       "0 2 6             1\n",
       "5 18 25           1\n",
       "1 4 25            1\n",
       "3 13              1\n",
       "0 7 18 19         1\n",
       "7 13 25           1\n",
       "14 17 18 25       1\n",
       "2 16 19 21        1\n",
       "0 8               1\n",
       "6 11 25           1\n",
       "2 18              1\n",
       "0 4 5             1\n",
       "Length: 555, dtype: int64"
      ]
     },
     "execution_count": 15,
     "metadata": {},
     "output_type": "execute_result"
    }
   ],
   "source": [
    "pd.value_counts(output)"
   ]
  },
  {
   "cell_type": "code",
   "execution_count": null,
   "metadata": {},
   "outputs": [],
   "source": []
  },
  {
   "cell_type": "code",
   "execution_count": null,
   "metadata": {
    "scrolled": true
   },
   "outputs": [],
   "source": []
  },
  {
   "cell_type": "code",
   "execution_count": null,
   "metadata": {},
   "outputs": [],
   "source": []
  },
  {
   "cell_type": "markdown",
   "metadata": {},
   "source": [
    "## submit"
   ]
  },
  {
   "cell_type": "code",
   "execution_count": 120,
   "metadata": {},
   "outputs": [],
   "source": [
    "sub = pd.DataFrame({'Id': fname_test, 'Predicted':output}, columns=['Id', 'Predicted'])\n",
    "sub.sort_values(by=['Id'], inplace=True)\n",
    "sub.reset_index(drop=True, inplace=True)"
   ]
  },
  {
   "cell_type": "code",
   "execution_count": 121,
   "metadata": {
    "scrolled": true
   },
   "outputs": [
    {
     "data": {
      "text/html": [
       "<div>\n",
       "<style scoped>\n",
       "    .dataframe tbody tr th:only-of-type {\n",
       "        vertical-align: middle;\n",
       "    }\n",
       "\n",
       "    .dataframe tbody tr th {\n",
       "        vertical-align: top;\n",
       "    }\n",
       "\n",
       "    .dataframe thead th {\n",
       "        text-align: right;\n",
       "    }\n",
       "</style>\n",
       "<table border=\"1\" class=\"dataframe\">\n",
       "  <thead>\n",
       "    <tr style=\"text-align: right;\">\n",
       "      <th></th>\n",
       "      <th>Id</th>\n",
       "      <th>Predicted</th>\n",
       "    </tr>\n",
       "  </thead>\n",
       "  <tbody>\n",
       "    <tr>\n",
       "      <th>0</th>\n",
       "      <td>00008af0-bad0-11e8-b2b8-ac1f6b6435d0</td>\n",
       "      <td>2</td>\n",
       "    </tr>\n",
       "    <tr>\n",
       "      <th>1</th>\n",
       "      <td>0000a892-bacf-11e8-b2b8-ac1f6b6435d0</td>\n",
       "      <td>5</td>\n",
       "    </tr>\n",
       "    <tr>\n",
       "      <th>2</th>\n",
       "      <td>0006faa6-bac7-11e8-b2b7-ac1f6b6435d0</td>\n",
       "      <td>0 5 25</td>\n",
       "    </tr>\n",
       "    <tr>\n",
       "      <th>3</th>\n",
       "      <td>0008baca-bad7-11e8-b2b9-ac1f6b6435d0</td>\n",
       "      <td>0 25</td>\n",
       "    </tr>\n",
       "    <tr>\n",
       "      <th>4</th>\n",
       "      <td>000cce7e-bad4-11e8-b2b8-ac1f6b6435d0</td>\n",
       "      <td>25</td>\n",
       "    </tr>\n",
       "  </tbody>\n",
       "</table>\n",
       "</div>"
      ],
      "text/plain": [
       "                                     Id Predicted\n",
       "0  00008af0-bad0-11e8-b2b8-ac1f6b6435d0         2\n",
       "1  0000a892-bacf-11e8-b2b8-ac1f6b6435d0         5\n",
       "2  0006faa6-bac7-11e8-b2b7-ac1f6b6435d0    0 5 25\n",
       "3  0008baca-bad7-11e8-b2b9-ac1f6b6435d0      0 25\n",
       "4  000cce7e-bad4-11e8-b2b8-ac1f6b6435d0        25"
      ]
     },
     "execution_count": 121,
     "metadata": {},
     "output_type": "execute_result"
    }
   ],
   "source": [
    "sub.head(5)"
   ]
  },
  {
   "cell_type": "code",
   "execution_count": 42,
   "metadata": {},
   "outputs": [],
   "source": [
    "#print(sub_name)\n",
    "sub.to_csv('submissions/SE_RESNET50_512_v1_seed2345_threshold0.4.csv.gz', compression='gzip', index=False)"
   ]
  },
  {
   "cell_type": "code",
   "execution_count": 50,
   "metadata": {
    "scrolled": true
   },
   "outputs": [],
   "source": [
    "#sub.Predicted.value_counts()"
   ]
  },
  {
   "cell_type": "code",
   "execution_count": 124,
   "metadata": {
    "scrolled": true
   },
   "outputs": [
    {
     "data": {
      "text/html": [
       "<div>\n",
       "<style scoped>\n",
       "    .dataframe tbody tr th:only-of-type {\n",
       "        vertical-align: middle;\n",
       "    }\n",
       "\n",
       "    .dataframe tbody tr th {\n",
       "        vertical-align: top;\n",
       "    }\n",
       "\n",
       "    .dataframe thead th {\n",
       "        text-align: right;\n",
       "    }\n",
       "</style>\n",
       "<table border=\"1\" class=\"dataframe\">\n",
       "  <thead>\n",
       "    <tr style=\"text-align: right;\">\n",
       "      <th></th>\n",
       "      <th>Id</th>\n",
       "      <th>sub</th>\n",
       "      <th>old_sub</th>\n",
       "    </tr>\n",
       "  </thead>\n",
       "  <tbody>\n",
       "    <tr>\n",
       "      <th>0</th>\n",
       "      <td>00008af0-bad0-11e8-b2b8-ac1f6b6435d0</td>\n",
       "      <td>2</td>\n",
       "      <td>2</td>\n",
       "    </tr>\n",
       "    <tr>\n",
       "      <th>1</th>\n",
       "      <td>0000a892-bacf-11e8-b2b8-ac1f6b6435d0</td>\n",
       "      <td>5</td>\n",
       "      <td>5</td>\n",
       "    </tr>\n",
       "    <tr>\n",
       "      <th>2</th>\n",
       "      <td>0006faa6-bac7-11e8-b2b7-ac1f6b6435d0</td>\n",
       "      <td>0 5 25</td>\n",
       "      <td>0 5 25</td>\n",
       "    </tr>\n",
       "    <tr>\n",
       "      <th>3</th>\n",
       "      <td>0008baca-bad7-11e8-b2b9-ac1f6b6435d0</td>\n",
       "      <td>0 25</td>\n",
       "      <td>0 25</td>\n",
       "    </tr>\n",
       "    <tr>\n",
       "      <th>4</th>\n",
       "      <td>000cce7e-bad4-11e8-b2b8-ac1f6b6435d0</td>\n",
       "      <td>25</td>\n",
       "      <td>25</td>\n",
       "    </tr>\n",
       "    <tr>\n",
       "      <th>5</th>\n",
       "      <td>00109f6a-bac8-11e8-b2b7-ac1f6b6435d0</td>\n",
       "      <td>4</td>\n",
       "      <td>4</td>\n",
       "    </tr>\n",
       "    <tr>\n",
       "      <th>6</th>\n",
       "      <td>001765de-bacd-11e8-b2b8-ac1f6b6435d0</td>\n",
       "      <td>4 25</td>\n",
       "      <td>4 25</td>\n",
       "    </tr>\n",
       "    <tr>\n",
       "      <th>7</th>\n",
       "      <td>0018641a-bac9-11e8-b2b8-ac1f6b6435d0</td>\n",
       "      <td>0</td>\n",
       "      <td>0 25</td>\n",
       "    </tr>\n",
       "    <tr>\n",
       "      <th>8</th>\n",
       "      <td>00200f22-bad7-11e8-b2b9-ac1f6b6435d0</td>\n",
       "      <td>0</td>\n",
       "      <td>0</td>\n",
       "    </tr>\n",
       "    <tr>\n",
       "      <th>9</th>\n",
       "      <td>0026f154-bac6-11e8-b2b7-ac1f6b6435d0</td>\n",
       "      <td>4 25</td>\n",
       "      <td>4 25</td>\n",
       "    </tr>\n",
       "    <tr>\n",
       "      <th>10</th>\n",
       "      <td>002729d2-bace-11e8-b2b8-ac1f6b6435d0</td>\n",
       "      <td>25</td>\n",
       "      <td>25</td>\n",
       "    </tr>\n",
       "    <tr>\n",
       "      <th>11</th>\n",
       "      <td>002c1a7c-bad4-11e8-b2b8-ac1f6b6435d0</td>\n",
       "      <td>5</td>\n",
       "      <td>3 5</td>\n",
       "    </tr>\n",
       "    <tr>\n",
       "      <th>12</th>\n",
       "      <td>003170fa-bacd-11e8-b2b8-ac1f6b6435d0</td>\n",
       "      <td>2 25</td>\n",
       "      <td>2 25</td>\n",
       "    </tr>\n",
       "    <tr>\n",
       "      <th>13</th>\n",
       "      <td>0031820a-baca-11e8-b2b8-ac1f6b6435d0</td>\n",
       "      <td>7</td>\n",
       "      <td>7</td>\n",
       "    </tr>\n",
       "    <tr>\n",
       "      <th>14</th>\n",
       "      <td>00407c16-bad3-11e8-b2b8-ac1f6b6435d0</td>\n",
       "      <td>25</td>\n",
       "      <td>25</td>\n",
       "    </tr>\n",
       "    <tr>\n",
       "      <th>15</th>\n",
       "      <td>005ce2ea-bacc-11e8-b2b8-ac1f6b6435d0</td>\n",
       "      <td>0</td>\n",
       "      <td>25</td>\n",
       "    </tr>\n",
       "    <tr>\n",
       "      <th>16</th>\n",
       "      <td>00631ec8-bad9-11e8-b2b9-ac1f6b6435d0</td>\n",
       "      <td>2</td>\n",
       "      <td>2</td>\n",
       "    </tr>\n",
       "    <tr>\n",
       "      <th>17</th>\n",
       "      <td>00673f64-bad2-11e8-b2b8-ac1f6b6435d0</td>\n",
       "      <td>0 5</td>\n",
       "      <td>5</td>\n",
       "    </tr>\n",
       "    <tr>\n",
       "      <th>18</th>\n",
       "      <td>0070171c-bad0-11e8-b2b8-ac1f6b6435d0</td>\n",
       "      <td>14</td>\n",
       "      <td>14</td>\n",
       "    </tr>\n",
       "    <tr>\n",
       "      <th>19</th>\n",
       "      <td>007290b6-bad8-11e8-b2b9-ac1f6b6435d0</td>\n",
       "      <td>5</td>\n",
       "      <td>5</td>\n",
       "    </tr>\n",
       "    <tr>\n",
       "      <th>20</th>\n",
       "      <td>0075ee26-bacb-11e8-b2b8-ac1f6b6435d0</td>\n",
       "      <td>6</td>\n",
       "      <td>6</td>\n",
       "    </tr>\n",
       "    <tr>\n",
       "      <th>21</th>\n",
       "      <td>00763d66-bacd-11e8-b2b8-ac1f6b6435d0</td>\n",
       "      <td>5</td>\n",
       "      <td>5</td>\n",
       "    </tr>\n",
       "    <tr>\n",
       "      <th>22</th>\n",
       "      <td>007eca68-bac7-11e8-b2b7-ac1f6b6435d0</td>\n",
       "      <td>0 25</td>\n",
       "      <td>0 25</td>\n",
       "    </tr>\n",
       "    <tr>\n",
       "      <th>23</th>\n",
       "      <td>008ab0b8-bad5-11e8-b2b8-ac1f6b6435d0</td>\n",
       "      <td>21</td>\n",
       "      <td>21</td>\n",
       "    </tr>\n",
       "    <tr>\n",
       "      <th>24</th>\n",
       "      <td>008e8c3e-bad4-11e8-b2b8-ac1f6b6435d0</td>\n",
       "      <td>0</td>\n",
       "      <td>0</td>\n",
       "    </tr>\n",
       "    <tr>\n",
       "      <th>25</th>\n",
       "      <td>009131e6-baca-11e8-b2b8-ac1f6b6435d0</td>\n",
       "      <td>25</td>\n",
       "      <td>25</td>\n",
       "    </tr>\n",
       "    <tr>\n",
       "      <th>26</th>\n",
       "      <td>0094159e-bad1-11e8-b2b8-ac1f6b6435d0</td>\n",
       "      <td>21 25</td>\n",
       "      <td>25</td>\n",
       "    </tr>\n",
       "    <tr>\n",
       "      <th>27</th>\n",
       "      <td>0097a5c2-bac9-11e8-b2b8-ac1f6b6435d0</td>\n",
       "      <td>0</td>\n",
       "      <td>0</td>\n",
       "    </tr>\n",
       "    <tr>\n",
       "      <th>28</th>\n",
       "      <td>009d32e4-bad3-11e8-b2b8-ac1f6b6435d0</td>\n",
       "      <td>0 25</td>\n",
       "      <td>0 25</td>\n",
       "    </tr>\n",
       "    <tr>\n",
       "      <th>29</th>\n",
       "      <td>00a4925a-bad8-11e8-b2b9-ac1f6b6435d0</td>\n",
       "      <td>5</td>\n",
       "      <td>5</td>\n",
       "    </tr>\n",
       "    <tr>\n",
       "      <th>...</th>\n",
       "      <td>...</td>\n",
       "      <td>...</td>\n",
       "      <td>...</td>\n",
       "    </tr>\n",
       "    <tr>\n",
       "      <th>11672</th>\n",
       "      <td>ff2cd716-bad7-11e8-b2b9-ac1f6b6435d0</td>\n",
       "      <td>5</td>\n",
       "      <td>5</td>\n",
       "    </tr>\n",
       "    <tr>\n",
       "      <th>11673</th>\n",
       "      <td>ff2d3abc-bad7-11e8-b2b9-ac1f6b6435d0</td>\n",
       "      <td>0 25</td>\n",
       "      <td>0 25</td>\n",
       "    </tr>\n",
       "    <tr>\n",
       "      <th>11674</th>\n",
       "      <td>ff38cec0-bad4-11e8-b2b8-ac1f6b6435d0</td>\n",
       "      <td>2</td>\n",
       "      <td>2</td>\n",
       "    </tr>\n",
       "    <tr>\n",
       "      <th>11675</th>\n",
       "      <td>ff489096-bad7-11e8-b2b9-ac1f6b6435d0</td>\n",
       "      <td>25</td>\n",
       "      <td>25</td>\n",
       "    </tr>\n",
       "    <tr>\n",
       "      <th>11676</th>\n",
       "      <td>ff49d834-bad2-11e8-b2b8-ac1f6b6435d0</td>\n",
       "      <td>2</td>\n",
       "      <td>2</td>\n",
       "    </tr>\n",
       "    <tr>\n",
       "      <th>11677</th>\n",
       "      <td>ff4aa9a4-bac7-11e8-b2b7-ac1f6b6435d0</td>\n",
       "      <td>21</td>\n",
       "      <td>21</td>\n",
       "    </tr>\n",
       "    <tr>\n",
       "      <th>11678</th>\n",
       "      <td>ff5464dc-baca-11e8-b2b8-ac1f6b6435d0</td>\n",
       "      <td>21</td>\n",
       "      <td>21</td>\n",
       "    </tr>\n",
       "    <tr>\n",
       "      <th>11679</th>\n",
       "      <td>ff56b30a-bace-11e8-b2b8-ac1f6b6435d0</td>\n",
       "      <td>0</td>\n",
       "      <td>0</td>\n",
       "    </tr>\n",
       "    <tr>\n",
       "      <th>11680</th>\n",
       "      <td>ff581dac-bac5-11e8-b2b7-ac1f6b6435d0</td>\n",
       "      <td>19</td>\n",
       "      <td>19 22</td>\n",
       "    </tr>\n",
       "    <tr>\n",
       "      <th>11681</th>\n",
       "      <td>ff5ee18c-baca-11e8-b2b8-ac1f6b6435d0</td>\n",
       "      <td>0 25</td>\n",
       "      <td>0 25</td>\n",
       "    </tr>\n",
       "    <tr>\n",
       "      <th>11682</th>\n",
       "      <td>ff67db02-baca-11e8-b2b8-ac1f6b6435d0</td>\n",
       "      <td>0</td>\n",
       "      <td>0</td>\n",
       "    </tr>\n",
       "    <tr>\n",
       "      <th>11683</th>\n",
       "      <td>ff7cc20c-bad3-11e8-b2b8-ac1f6b6435d0</td>\n",
       "      <td>25</td>\n",
       "      <td>25</td>\n",
       "    </tr>\n",
       "    <tr>\n",
       "      <th>11684</th>\n",
       "      <td>ff7dc452-bad5-11e8-b2b9-ac1f6b6435d0</td>\n",
       "      <td>0 1</td>\n",
       "      <td>0 1 7</td>\n",
       "    </tr>\n",
       "    <tr>\n",
       "      <th>11685</th>\n",
       "      <td>ff8346fa-bad7-11e8-b2b9-ac1f6b6435d0</td>\n",
       "      <td>11</td>\n",
       "      <td>11</td>\n",
       "    </tr>\n",
       "    <tr>\n",
       "      <th>11686</th>\n",
       "      <td>ff8e580c-bad1-11e8-b2b8-ac1f6b6435d0</td>\n",
       "      <td>25</td>\n",
       "      <td>25</td>\n",
       "    </tr>\n",
       "    <tr>\n",
       "      <th>11687</th>\n",
       "      <td>ff9659a0-bacf-11e8-b2b8-ac1f6b6435d0</td>\n",
       "      <td>0 26</td>\n",
       "      <td>0 26</td>\n",
       "    </tr>\n",
       "    <tr>\n",
       "      <th>11688</th>\n",
       "      <td>ff9bdfd8-baca-11e8-b2b8-ac1f6b6435d0</td>\n",
       "      <td>21</td>\n",
       "      <td>21 25</td>\n",
       "    </tr>\n",
       "    <tr>\n",
       "      <th>11689</th>\n",
       "      <td>ff9ccd2a-bad0-11e8-b2b8-ac1f6b6435d0</td>\n",
       "      <td>21</td>\n",
       "      <td>21</td>\n",
       "    </tr>\n",
       "    <tr>\n",
       "      <th>11690</th>\n",
       "      <td>ffa6bc7e-bad3-11e8-b2b8-ac1f6b6435d0</td>\n",
       "      <td>7</td>\n",
       "      <td>7</td>\n",
       "    </tr>\n",
       "    <tr>\n",
       "      <th>11691</th>\n",
       "      <td>ffad96dc-bad5-11e8-b2b9-ac1f6b6435d0</td>\n",
       "      <td>26</td>\n",
       "      <td>26</td>\n",
       "    </tr>\n",
       "    <tr>\n",
       "      <th>11692</th>\n",
       "      <td>ffb91448-bac7-11e8-b2b7-ac1f6b6435d0</td>\n",
       "      <td>0 7</td>\n",
       "      <td>0 7</td>\n",
       "    </tr>\n",
       "    <tr>\n",
       "      <th>11693</th>\n",
       "      <td>ffd677a0-bada-11e8-b2b9-ac1f6b6435d0</td>\n",
       "      <td>0 1 3</td>\n",
       "      <td>0 1 3</td>\n",
       "    </tr>\n",
       "    <tr>\n",
       "      <th>11694</th>\n",
       "      <td>ffd72db2-bad5-11e8-b2b9-ac1f6b6435d0</td>\n",
       "      <td>19</td>\n",
       "      <td>19</td>\n",
       "    </tr>\n",
       "    <tr>\n",
       "      <th>11695</th>\n",
       "      <td>ffd83fa4-bacb-11e8-b2b8-ac1f6b6435d0</td>\n",
       "      <td>0</td>\n",
       "      <td>0</td>\n",
       "    </tr>\n",
       "    <tr>\n",
       "      <th>11696</th>\n",
       "      <td>ffd91122-bad0-11e8-b2b8-ac1f6b6435d0</td>\n",
       "      <td>0 11</td>\n",
       "      <td>0 11 22</td>\n",
       "    </tr>\n",
       "    <tr>\n",
       "      <th>11697</th>\n",
       "      <td>ffdfb96a-bad4-11e8-b2b8-ac1f6b6435d0</td>\n",
       "      <td>11</td>\n",
       "      <td>11</td>\n",
       "    </tr>\n",
       "    <tr>\n",
       "      <th>11698</th>\n",
       "      <td>ffdfc590-bad4-11e8-b2b8-ac1f6b6435d0</td>\n",
       "      <td>0 5 25</td>\n",
       "      <td>0 5 25</td>\n",
       "    </tr>\n",
       "    <tr>\n",
       "      <th>11699</th>\n",
       "      <td>ffecb8a4-bad4-11e8-b2b8-ac1f6b6435d0</td>\n",
       "      <td>7</td>\n",
       "      <td>7</td>\n",
       "    </tr>\n",
       "    <tr>\n",
       "      <th>11700</th>\n",
       "      <td>fff03816-bad5-11e8-b2b9-ac1f6b6435d0</td>\n",
       "      <td>0 1</td>\n",
       "      <td>0 1</td>\n",
       "    </tr>\n",
       "    <tr>\n",
       "      <th>11701</th>\n",
       "      <td>fffe6f9c-bacd-11e8-b2b8-ac1f6b6435d0</td>\n",
       "      <td>0 25</td>\n",
       "      <td>0 25</td>\n",
       "    </tr>\n",
       "  </tbody>\n",
       "</table>\n",
       "<p>11702 rows × 3 columns</p>\n",
       "</div>"
      ],
      "text/plain": [
       "                                         Id     sub  old_sub\n",
       "0      00008af0-bad0-11e8-b2b8-ac1f6b6435d0       2        2\n",
       "1      0000a892-bacf-11e8-b2b8-ac1f6b6435d0       5        5\n",
       "2      0006faa6-bac7-11e8-b2b7-ac1f6b6435d0  0 5 25   0 5 25\n",
       "3      0008baca-bad7-11e8-b2b9-ac1f6b6435d0    0 25     0 25\n",
       "4      000cce7e-bad4-11e8-b2b8-ac1f6b6435d0      25       25\n",
       "5      00109f6a-bac8-11e8-b2b7-ac1f6b6435d0       4        4\n",
       "6      001765de-bacd-11e8-b2b8-ac1f6b6435d0    4 25     4 25\n",
       "7      0018641a-bac9-11e8-b2b8-ac1f6b6435d0       0     0 25\n",
       "8      00200f22-bad7-11e8-b2b9-ac1f6b6435d0       0        0\n",
       "9      0026f154-bac6-11e8-b2b7-ac1f6b6435d0    4 25     4 25\n",
       "10     002729d2-bace-11e8-b2b8-ac1f6b6435d0      25       25\n",
       "11     002c1a7c-bad4-11e8-b2b8-ac1f6b6435d0       5      3 5\n",
       "12     003170fa-bacd-11e8-b2b8-ac1f6b6435d0    2 25     2 25\n",
       "13     0031820a-baca-11e8-b2b8-ac1f6b6435d0       7        7\n",
       "14     00407c16-bad3-11e8-b2b8-ac1f6b6435d0      25       25\n",
       "15     005ce2ea-bacc-11e8-b2b8-ac1f6b6435d0       0       25\n",
       "16     00631ec8-bad9-11e8-b2b9-ac1f6b6435d0       2        2\n",
       "17     00673f64-bad2-11e8-b2b8-ac1f6b6435d0     0 5        5\n",
       "18     0070171c-bad0-11e8-b2b8-ac1f6b6435d0      14       14\n",
       "19     007290b6-bad8-11e8-b2b9-ac1f6b6435d0       5        5\n",
       "20     0075ee26-bacb-11e8-b2b8-ac1f6b6435d0       6        6\n",
       "21     00763d66-bacd-11e8-b2b8-ac1f6b6435d0       5        5\n",
       "22     007eca68-bac7-11e8-b2b7-ac1f6b6435d0    0 25     0 25\n",
       "23     008ab0b8-bad5-11e8-b2b8-ac1f6b6435d0      21       21\n",
       "24     008e8c3e-bad4-11e8-b2b8-ac1f6b6435d0       0        0\n",
       "25     009131e6-baca-11e8-b2b8-ac1f6b6435d0      25       25\n",
       "26     0094159e-bad1-11e8-b2b8-ac1f6b6435d0   21 25       25\n",
       "27     0097a5c2-bac9-11e8-b2b8-ac1f6b6435d0       0        0\n",
       "28     009d32e4-bad3-11e8-b2b8-ac1f6b6435d0    0 25     0 25\n",
       "29     00a4925a-bad8-11e8-b2b9-ac1f6b6435d0       5        5\n",
       "...                                     ...     ...      ...\n",
       "11672  ff2cd716-bad7-11e8-b2b9-ac1f6b6435d0       5        5\n",
       "11673  ff2d3abc-bad7-11e8-b2b9-ac1f6b6435d0    0 25     0 25\n",
       "11674  ff38cec0-bad4-11e8-b2b8-ac1f6b6435d0       2        2\n",
       "11675  ff489096-bad7-11e8-b2b9-ac1f6b6435d0      25       25\n",
       "11676  ff49d834-bad2-11e8-b2b8-ac1f6b6435d0       2        2\n",
       "11677  ff4aa9a4-bac7-11e8-b2b7-ac1f6b6435d0      21       21\n",
       "11678  ff5464dc-baca-11e8-b2b8-ac1f6b6435d0      21       21\n",
       "11679  ff56b30a-bace-11e8-b2b8-ac1f6b6435d0       0        0\n",
       "11680  ff581dac-bac5-11e8-b2b7-ac1f6b6435d0      19    19 22\n",
       "11681  ff5ee18c-baca-11e8-b2b8-ac1f6b6435d0    0 25     0 25\n",
       "11682  ff67db02-baca-11e8-b2b8-ac1f6b6435d0       0        0\n",
       "11683  ff7cc20c-bad3-11e8-b2b8-ac1f6b6435d0      25       25\n",
       "11684  ff7dc452-bad5-11e8-b2b9-ac1f6b6435d0     0 1    0 1 7\n",
       "11685  ff8346fa-bad7-11e8-b2b9-ac1f6b6435d0      11       11\n",
       "11686  ff8e580c-bad1-11e8-b2b8-ac1f6b6435d0      25       25\n",
       "11687  ff9659a0-bacf-11e8-b2b8-ac1f6b6435d0    0 26     0 26\n",
       "11688  ff9bdfd8-baca-11e8-b2b8-ac1f6b6435d0      21    21 25\n",
       "11689  ff9ccd2a-bad0-11e8-b2b8-ac1f6b6435d0      21       21\n",
       "11690  ffa6bc7e-bad3-11e8-b2b8-ac1f6b6435d0       7        7\n",
       "11691  ffad96dc-bad5-11e8-b2b9-ac1f6b6435d0      26       26\n",
       "11692  ffb91448-bac7-11e8-b2b7-ac1f6b6435d0     0 7      0 7\n",
       "11693  ffd677a0-bada-11e8-b2b9-ac1f6b6435d0   0 1 3    0 1 3\n",
       "11694  ffd72db2-bad5-11e8-b2b9-ac1f6b6435d0      19       19\n",
       "11695  ffd83fa4-bacb-11e8-b2b8-ac1f6b6435d0       0        0\n",
       "11696  ffd91122-bad0-11e8-b2b8-ac1f6b6435d0    0 11  0 11 22\n",
       "11697  ffdfb96a-bad4-11e8-b2b8-ac1f6b6435d0      11       11\n",
       "11698  ffdfc590-bad4-11e8-b2b8-ac1f6b6435d0  0 5 25   0 5 25\n",
       "11699  ffecb8a4-bad4-11e8-b2b8-ac1f6b6435d0       7        7\n",
       "11700  fff03816-bad5-11e8-b2b9-ac1f6b6435d0     0 1      0 1\n",
       "11701  fffe6f9c-bacd-11e8-b2b8-ac1f6b6435d0    0 25     0 25\n",
       "\n",
       "[11702 rows x 3 columns]"
      ]
     },
     "execution_count": 124,
     "metadata": {},
     "output_type": "execute_result"
    }
   ],
   "source": [
    "sub_best = pd.read_csv('submissions/581_blending_seed1234_2345_3456_fillna_seed1234_2345_3456_with_leak259_tta.csv.gz', compression='gzip')\n",
    "sub_check = sub.merge(sub_best, on=['Id']).rename(columns={'Predicted_x':'sub', 'Predicted_y':'old_sub'})\n",
    "sub_check"
   ]
  },
  {
   "cell_type": "code",
   "execution_count": 125,
   "metadata": {},
   "outputs": [
    {
     "data": {
      "text/plain": [
       "0.8197743975388823"
      ]
     },
     "execution_count": 125,
     "metadata": {},
     "output_type": "execute_result"
    }
   ],
   "source": [
    "(sub_check['sub']==sub_check['old_sub']).mean()"
   ]
  },
  {
   "cell_type": "markdown",
   "metadata": {},
   "source": [
    "## is there leak images?"
   ]
  },
  {
   "cell_type": "code",
   "execution_count": 48,
   "metadata": {},
   "outputs": [],
   "source": [
    "import pandas as pd\n",
    "import numpy as np"
   ]
  },
  {
   "cell_type": "code",
   "execution_count": 126,
   "metadata": {},
   "outputs": [],
   "source": [
    "leak = pd.read_csv('data/raw/leak/TestEtraMatchingUnder_259_R14_G12_B10.csv')\n",
    "external_data = pd.read_csv('data/raw/external_data.csv')"
   ]
  },
  {
   "cell_type": "code",
   "execution_count": 127,
   "metadata": {
    "scrolled": true
   },
   "outputs": [],
   "source": [
    "leak['Extra'] = ['_'.join(fname.split('_')[1:]) for fname in leak.Extra]"
   ]
  },
  {
   "cell_type": "code",
   "execution_count": 128,
   "metadata": {
    "scrolled": true
   },
   "outputs": [
    {
     "data": {
      "text/html": [
       "<div>\n",
       "<style scoped>\n",
       "    .dataframe tbody tr th:only-of-type {\n",
       "        vertical-align: middle;\n",
       "    }\n",
       "\n",
       "    .dataframe tbody tr th {\n",
       "        vertical-align: top;\n",
       "    }\n",
       "\n",
       "    .dataframe thead th {\n",
       "        text-align: right;\n",
       "    }\n",
       "</style>\n",
       "<table border=\"1\" class=\"dataframe\">\n",
       "  <thead>\n",
       "    <tr style=\"text-align: right;\">\n",
       "      <th></th>\n",
       "      <th>Extra</th>\n",
       "      <th>Test</th>\n",
       "    </tr>\n",
       "  </thead>\n",
       "  <tbody>\n",
       "    <tr>\n",
       "      <th>0</th>\n",
       "      <td>44431_556_B9_1</td>\n",
       "      <td>7729b27c-bacc-11e8-b2b8-ac1f6b6435d0</td>\n",
       "    </tr>\n",
       "    <tr>\n",
       "      <th>1</th>\n",
       "      <td>35086_383_E8_7</td>\n",
       "      <td>5661665e-bacf-11e8-b2b8-ac1f6b6435d0</td>\n",
       "    </tr>\n",
       "  </tbody>\n",
       "</table>\n",
       "</div>"
      ],
      "text/plain": [
       "            Extra                                  Test\n",
       "0  44431_556_B9_1  7729b27c-bacc-11e8-b2b8-ac1f6b6435d0\n",
       "1  35086_383_E8_7  5661665e-bacf-11e8-b2b8-ac1f6b6435d0"
      ]
     },
     "execution_count": 128,
     "metadata": {},
     "output_type": "execute_result"
    }
   ],
   "source": [
    "leak = leak[['Extra', 'Test']].drop_duplicates('Test')\n",
    "leak.head(2)"
   ]
  },
  {
   "cell_type": "code",
   "execution_count": 129,
   "metadata": {
    "scrolled": true
   },
   "outputs": [
    {
     "data": {
      "text/html": [
       "<div>\n",
       "<style scoped>\n",
       "    .dataframe tbody tr th:only-of-type {\n",
       "        vertical-align: middle;\n",
       "    }\n",
       "\n",
       "    .dataframe tbody tr th {\n",
       "        vertical-align: top;\n",
       "    }\n",
       "\n",
       "    .dataframe thead th {\n",
       "        text-align: right;\n",
       "    }\n",
       "</style>\n",
       "<table border=\"1\" class=\"dataframe\">\n",
       "  <thead>\n",
       "    <tr style=\"text-align: right;\">\n",
       "      <th></th>\n",
       "      <th>Extra</th>\n",
       "      <th>Target</th>\n",
       "    </tr>\n",
       "  </thead>\n",
       "  <tbody>\n",
       "    <tr>\n",
       "      <th>0</th>\n",
       "      <td>10580_1610_C1_1</td>\n",
       "      <td>13 25 0 2 21</td>\n",
       "    </tr>\n",
       "    <tr>\n",
       "      <th>1</th>\n",
       "      <td>10580_1610_C1_2</td>\n",
       "      <td>13 25 0 2 21</td>\n",
       "    </tr>\n",
       "  </tbody>\n",
       "</table>\n",
       "</div>"
      ],
      "text/plain": [
       "             Extra        Target\n",
       "0  10580_1610_C1_1  13 25 0 2 21\n",
       "1  10580_1610_C1_2  13 25 0 2 21"
      ]
     },
     "execution_count": 129,
     "metadata": {},
     "output_type": "execute_result"
    }
   ],
   "source": [
    "external_data = external_data.rename(columns={'Id': 'Extra'})\n",
    "external_data.head(2)"
   ]
  },
  {
   "cell_type": "code",
   "execution_count": 130,
   "metadata": {
    "scrolled": true
   },
   "outputs": [],
   "source": [
    "leak = leak.merge(external_data, on=['Extra'], how='left')[['Test', 'Target']]"
   ]
  },
  {
   "cell_type": "code",
   "execution_count": 131,
   "metadata": {
    "scrolled": true
   },
   "outputs": [
    {
     "data": {
      "text/html": [
       "<div>\n",
       "<style scoped>\n",
       "    .dataframe tbody tr th:only-of-type {\n",
       "        vertical-align: middle;\n",
       "    }\n",
       "\n",
       "    .dataframe tbody tr th {\n",
       "        vertical-align: top;\n",
       "    }\n",
       "\n",
       "    .dataframe thead th {\n",
       "        text-align: right;\n",
       "    }\n",
       "</style>\n",
       "<table border=\"1\" class=\"dataframe\">\n",
       "  <thead>\n",
       "    <tr style=\"text-align: right;\">\n",
       "      <th></th>\n",
       "      <th>Test</th>\n",
       "      <th>Target</th>\n",
       "    </tr>\n",
       "  </thead>\n",
       "  <tbody>\n",
       "    <tr>\n",
       "      <th>0</th>\n",
       "      <td>7729b27c-bacc-11e8-b2b8-ac1f6b6435d0</td>\n",
       "      <td>25 18 0</td>\n",
       "    </tr>\n",
       "    <tr>\n",
       "      <th>1</th>\n",
       "      <td>5661665e-bacf-11e8-b2b8-ac1f6b6435d0</td>\n",
       "      <td>25 17 0</td>\n",
       "    </tr>\n",
       "  </tbody>\n",
       "</table>\n",
       "</div>"
      ],
      "text/plain": [
       "                                   Test   Target\n",
       "0  7729b27c-bacc-11e8-b2b8-ac1f6b6435d0  25 18 0\n",
       "1  5661665e-bacf-11e8-b2b8-ac1f6b6435d0  25 17 0"
      ]
     },
     "execution_count": 131,
     "metadata": {},
     "output_type": "execute_result"
    }
   ],
   "source": [
    "leak.head(2)"
   ]
  },
  {
   "cell_type": "code",
   "execution_count": 79,
   "metadata": {},
   "outputs": [],
   "source": [
    "# best LB by model\n",
    "#sub = pd.read_csv('submissions/blend_f1loss_seed1234_n_old_loss_seed123456.csv.gz')\n",
    "#sub.head(2)"
   ]
  },
  {
   "cell_type": "code",
   "execution_count": 132,
   "metadata": {},
   "outputs": [
    {
     "name": "stdout",
     "output_type": "stream",
     "text": [
      "['2', '23']  vs  ['25']\n",
      "['0', '21', '23']  vs  ['0', '21', '25']\n",
      "['0', '14']  vs  ['0', '14', '25']\n",
      "['0']  vs  ['0', '16']\n",
      "['21']  vs  ['0', '21']\n",
      "['1', '2']  vs  ['2']\n",
      "['12', '13']  vs  ['13']\n",
      "['2', '21', '26', '4']  vs  ['2', '26', '4']\n",
      "['14', '16', '25']  vs  ['16', '25']\n",
      "['0', '21', '22']  vs  ['21', '7']\n",
      "['25']  vs  ['16', '25']\n",
      "['13']  vs  ['0']\n",
      "['13']  vs  ['0', '25', '5']\n",
      "['21', '25']  vs  ['25', '7']\n",
      "['2', '22']  vs  ['0', '22']\n",
      "['21', '4']  vs  ['4']\n",
      "['21', '4']  vs  ['4']\n",
      "['2']  vs  ['7']\n",
      "['11', '2']  vs  ['0', '11', '2']\n",
      "['0', '19']  vs  ['18', '19']\n",
      "['12', '21', '25']  vs  ['12', '25']\n",
      "['0', '14']  vs  ['14']\n",
      "['1', '5']  vs  ['1']\n",
      "['0']  vs  ['0', '25']\n",
      "['21']  vs  ['0', '21']\n",
      "['0']  vs  ['0', '16']\n",
      "['14', '25']  vs  ['0', '14']\n",
      "['14']  vs  ['0', '14']\n",
      "['14']  vs  ['0', '14']\n",
      "['25']  vs  ['21', '22', '25']\n",
      "['1', '4']  vs  ['0', '1', '25']\n",
      "['0', '25', '5']  vs  ['0', '5']\n",
      "['25']  vs  ['14', '16', '25']\n",
      "['27']  vs  ['23']\n",
      "['27']  vs  ['0', '27']\n",
      "['25']  vs  ['21', '25']\n",
      "['2']  vs  ['2', '25']\n",
      "['2']  vs  ['2', '25']\n",
      "['21', '7']  vs  ['21']\n",
      "['0', '1', '7']  vs  ['0']\n",
      "['16', '25']  vs  ['16']\n",
      "['25', '5', '6']  vs  ['25', '5']\n",
      "['15', '25']  vs  ['25']\n",
      "['11', '16', '21']  vs  ['21']\n",
      "['0', '5', '7']  vs  ['25', '5']\n",
      "['12', '21', '22']  vs  ['21']\n",
      "['12', '2']  vs  ['12']\n",
      "['21', '4']  vs  ['4']\n",
      "['0']  vs  ['0', '2']\n",
      "['12']  vs  ['0', '12']\n",
      "['17', '18']  vs  ['17']\n",
      "['0']  vs  ['0', '16', '25']\n",
      "['13']  vs  ['0', '13']\n",
      "['13']  vs  ['0', '13']\n",
      "['25']  vs  ['22', '25']\n",
      "['2']  vs  ['0', '2']\n",
      "['0', '21', '22']  vs  ['21']\n",
      "['0', '21', '22']  vs  ['21']\n",
      "['15', '25']  vs  ['13', '25']\n",
      "['17', '21', '4']  vs  ['21', '4']\n",
      "['13', '25']  vs  ['21', '25']\n",
      "['0', '21', '25']  vs  ['21', '25']\n",
      "['0', '25']  vs  ['25']\n",
      "['16']  vs  ['0']\n",
      "['0', '22']  vs  ['22']\n",
      "['0', '22']  vs  ['22']\n",
      "['0', '5']  vs  ['5']\n",
      "['0', '19']  vs  ['0', '25']\n",
      "['4']  vs  ['14', '16']\n",
      "['4']  vs  ['14']\n",
      "['0', '25']  vs  ['0', '7']\n",
      "['0', '21']  vs  ['0', '12', '21', '25']\n",
      "['0', '16']  vs  ['0']\n",
      "['25']  vs  ['21', '25']\n",
      "['1', '2']  vs  ['0', '1', '2']\n",
      "['25']  vs  ['0', '25']\n",
      "['25', '6', '7']  vs  ['25', '7']\n",
      "['0']  vs  ['0', '25']\n",
      "['22', '7']  vs  ['7']\n",
      "['21', '23']  vs  ['2', '23']\n",
      "['0', '7']  vs  ['7']\n",
      "['0', '23']  vs  ['23']\n",
      "['24', '5']  vs  ['5']\n",
      "['22']  vs  ['0']\n",
      "['1', '2']  vs  ['0', '1']\n",
      "['2']  vs  ['0', '2']\n",
      "['11', '19']  vs  ['16', '19']\n",
      "['0', '16', '25']  vs  ['0', '14', '16', '25']\n",
      "['2']  vs  ['3']\n",
      "['14', '16', '25']  vs  ['14', '25']\n",
      "['16']  vs  ['0', '16']\n",
      "['0', '25']  vs  ['0', '2']\n",
      "['16']  vs  ['0', '16']\n",
      "['14', '16']  vs  ['14']\n",
      "['23', '5']  vs  ['5']\n",
      "['0', '1', '16']  vs  ['0', '16']\n",
      "['11', '25']  vs  ['25', '7']\n",
      "['0', '22', '7']  vs  ['25']\n",
      "['0', '22', '7']  vs  ['25', '5']\n",
      "['25']  vs  ['0', '25']\n",
      "['18', '25']  vs  ['18']\n",
      "['0', '21', '25']  vs  ['0']\n",
      "['22', '3']  vs  ['14']\n",
      "['0', '25']  vs  ['25']\n",
      "['14']  vs  ['0', '14']\n",
      "['0', '12', '25']  vs  ['0', '12']\n",
      "['4', '7']  vs  ['4']\n",
      "['23', '4']  vs  ['4']\n",
      "['0', '21', '25']  vs  ['0', '25']\n",
      "['20', '25']  vs  ['20']\n",
      "['20', '25']  vs  ['0', '20', '23', '25']\n",
      "['2', '21']  vs  ['0', '2']\n",
      "['25', '7']  vs  ['25']\n",
      "['0']  vs  ['5']\n",
      "['0', '14', '16', '17']  vs  ['0', '14', '16']\n",
      "['1', '25']  vs  ['1']\n",
      "['25']  vs  ['0', '25']\n",
      "['16']  vs  ['0', '25']\n",
      "['0']  vs  ['0', '16', '25']\n",
      "['25', '4']  vs  ['2', '4']\n",
      "['0', '19', '25']  vs  ['0', '19']\n",
      "['7']  vs  ['0']\n",
      "['2']  vs  ['4']\n",
      "['0']  vs  ['0', '16']\n",
      "['2']  vs  ['0', '3']\n",
      "['22', '23']  vs  ['23']\n",
      "['21', '25', '6']  vs  ['21', '25']\n",
      "['12', '25', '3']  vs  ['25']\n"
     ]
    },
    {
     "data": {
      "text/plain": [
       "128"
      ]
     },
     "execution_count": 132,
     "metadata": {},
     "output_type": "execute_result"
    }
   ],
   "source": [
    "cnt = 0\n",
    "for i in leak.index:\n",
    "    fname = leak.loc[i, 'Test']\n",
    "    leak_target = leak.loc[i, 'Target']\n",
    "    pred_target = sub.loc[sub.Id==fname, 'Predicted'].values[0]\n",
    "    if sorted(leak_target.split(' ')) != sorted(pred_target.split(' ')):\n",
    "        print(sorted(leak_target.split(' ')), ' vs ', sorted(pred_target.split(' ')))\n",
    "        sub.loc[sub.Id==fname, 'Predicted'] = leak_target\n",
    "        cnt += 1\n",
    "cnt"
   ]
  },
  {
   "cell_type": "code",
   "execution_count": 78,
   "metadata": {},
   "outputs": [],
   "source": [
    "#sub2 = sub.copy()"
   ]
  },
  {
   "cell_type": "code",
   "execution_count": 77,
   "metadata": {},
   "outputs": [],
   "source": [
    "#(sub2.Predicted!=sub.Predicted).sum()"
   ]
  },
  {
   "cell_type": "code",
   "execution_count": 133,
   "metadata": {},
   "outputs": [],
   "source": [
    "sub.to_csv('submissions/voting_blend_20models.csv.gz', compression='gzip', index=False)"
   ]
  },
  {
   "cell_type": "code",
   "execution_count": 80,
   "metadata": {
    "scrolled": true
   },
   "outputs": [
    {
     "data": {
      "text/plain": [
       "0.012391044265937446"
      ]
     },
     "execution_count": 80,
     "metadata": {},
     "output_type": "execute_result"
    }
   ],
   "source": [
    "145/len(sub2.index)"
   ]
  },
  {
   "cell_type": "code",
   "execution_count": null,
   "metadata": {
    "scrolled": true
   },
   "outputs": [],
   "source": []
  },
  {
   "cell_type": "markdown",
   "metadata": {},
   "source": [
    "## try some voting"
   ]
  },
  {
   "cell_type": "code",
   "execution_count": 67,
   "metadata": {},
   "outputs": [],
   "source": [
    "subs = \\\n",
    "['submissions/512_SE_RESNET50_512_v1_seed2345_threshold0.4.csv.gz',\n",
    " 'submissions/537_SE_RESNET50_512_v1_seed1234_threshold0.4.csv.gz',\n",
    " 'submissions/515_RESNET34_512_v1_seed1234_f1_loss.csv.gz',\n",
    " 'submissions/583_blending_seed1234_2345_3456_fillna_seed1234_2345_3456_with_leak259.csv.gz',\n",
    " 'submissions/557_blending_SEResnet_seed1234_2345_3456_with_leak259.csv.gz',\n",
    " 'submissions/538_1222_v2_seed3456.csv.gz',\n",
    " 'submissions/574_blending_resnet34_SEResnet_seed1234_2345_3456_with_leak259.csv.gz',\n",
    " 'submissions/507_init_v2_seed1234.csv.gz',\n",
    " 'submissions/565_1222_v2_blending_1234_2345_3456_4567_5678.csv.gz',\n",
    " 'submissions/456_RESNET34_256_v2_seed1234.csv.gz',\n",
    " 'submissions/559_blending_RESNET34_seed1234_2345_3456_RESNET18_seed1234.csv.gz',\n",
    " 'submissions/528_1222_v2_seed4567.csv.gz',\n",
    " 'submissions/526_SE_RESNET50_512_v2_seed1234_threshold0.4.csv.gz',\n",
    " 'submissions/581_blending_seed1234_2345_3456_fillna_seed1234_2345_3456_with_leak259_tta.csv.gz',\n",
    " 'submissions/522_1222_v2_seed1234.csv.gz',\n",
    " 'submissions/577_blending_seed1234_2345_3456_fillna_seed2345.csv.gz',\n",
    " 'submissions/529_RESNET34_512_v2_seed1234_full_HPAdata.csv.gz',\n",
    " 'submissions/576_1222_v2_blend1234_2345_3456.csv.gz',\n",
    " 'submissions/544_1222_v2_seed2345.csv.gz',\n",
    " 'submissions/582_blending_seed1234_2345_3456_fillna_seed2345_with_leak259.csv.gz']"
   ]
  },
  {
   "cell_type": "code",
   "execution_count": 111,
   "metadata": {
    "scrolled": true
   },
   "outputs": [
    {
     "name": "stdout",
     "output_type": "stream",
     "text": [
      "20\n"
     ]
    }
   ],
   "source": [
    "from dataset import multi_hot\n",
    "\n",
    "def do_multi_hot(sub):\n",
    "    target_list = []\n",
    "    for i in sub.index:\n",
    "        target = multi_hot(sub.loc[i, 'Predicted'])\n",
    "        target_list.append(target)\n",
    "    target_arr = np.array(target_list)\n",
    "    return target_arr\n",
    "\n",
    "\n",
    "preds = None\n",
    "print(len(subs))\n",
    "for _f in subs:\n",
    "    _sub = pd.read_csv(_f)\n",
    "    target_arr = do_multi_hot(_sub)\n",
    "    if preds is None:\n",
    "        preds = target_arr\n",
    "    else:\n",
    "        preds += target_arr"
   ]
  },
  {
   "cell_type": "code",
   "execution_count": 112,
   "metadata": {},
   "outputs": [
    {
     "data": {
      "text/plain": [
       "array([[ 0,  0, 20, ...,  0,  0,  0],\n",
       "       [ 1,  0,  0, ...,  6,  0,  0],\n",
       "       [20,  0,  0, ..., 20,  0,  0],\n",
       "       ...,\n",
       "       [ 0,  0,  0, ...,  1,  0,  0],\n",
       "       [13, 20,  0, ...,  0,  0,  0],\n",
       "       [20,  0,  0, ..., 18,  0,  0]])"
      ]
     },
     "execution_count": 112,
     "metadata": {},
     "output_type": "execute_result"
    }
   ],
   "source": [
    "preds"
   ]
  },
  {
   "cell_type": "code",
   "execution_count": 113,
   "metadata": {},
   "outputs": [],
   "source": [
    "# for single model\n",
    "preds01 = (preds > 10).astype(np.int)\n",
    "\n",
    "output = []\n",
    "for pred in preds01:\n",
    "    output.append(encode_2str(pred, fillna=False))#False, True"
   ]
  },
  {
   "cell_type": "code",
   "execution_count": 114,
   "metadata": {
    "scrolled": true
   },
   "outputs": [
    {
     "data": {
      "text/plain": [
       "0 25             1260\n",
       "0                1169\n",
       "25               1131\n",
       "21                475\n",
       "23                463\n",
       "-1                366\n",
       "7                 359\n",
       "0 2               255\n",
       "5                 253\n",
       "0 21              250\n",
       "2                 234\n",
       "4                 227\n",
       "11                223\n",
       "21 25             223\n",
       "19                186\n",
       "14                172\n",
       "6                 168\n",
       "3                 165\n",
       "0 7               161\n",
       "0 21 25           154\n",
       "0 5               154\n",
       "1                 122\n",
       "0 19              111\n",
       "0 1               109\n",
       "0 23              103\n",
       "0 2 25             93\n",
       "2 25               90\n",
       "0 3                82\n",
       "18                 80\n",
       "12                 78\n",
       "                 ... \n",
       "0 20 23             1\n",
       "0 4 14 16           1\n",
       "0 2 13 25           1\n",
       "2 3 23 25           1\n",
       "0 17 22             1\n",
       "14 17 23            1\n",
       "2 13 21 25          1\n",
       "0 1 19 21           1\n",
       "7 12                1\n",
       "14 17 21            1\n",
       "0 4 23              1\n",
       "13 14               1\n",
       "0 4 12              1\n",
       "23 27               1\n",
       "0 1 2 4             1\n",
       "11 13 21            1\n",
       "4 12 14             1\n",
       "0 4 22              1\n",
       "3 12                1\n",
       "2 4 26              1\n",
       "0 13 22             1\n",
       "0 3 4               1\n",
       "2 15 16             1\n",
       "2 22                1\n",
       "0 27                1\n",
       "3 14                1\n",
       "0 5 6               1\n",
       "0 14 16 17 25       1\n",
       "2 21 22 25          1\n",
       "2 12 25             1\n",
       "Length: 446, dtype: int64"
      ]
     },
     "execution_count": 114,
     "metadata": {},
     "output_type": "execute_result"
    }
   ],
   "source": [
    "pd.value_counts(output)"
   ]
  },
  {
   "cell_type": "code",
   "execution_count": null,
   "metadata": {},
   "outputs": [],
   "source": []
  }
 ],
 "metadata": {
  "kernelspec": {
   "display_name": "Python 3",
   "language": "python",
   "name": "python3"
  },
  "language_info": {
   "codemirror_mode": {
    "name": "ipython",
    "version": 3
   },
   "file_extension": ".py",
   "mimetype": "text/x-python",
   "name": "python",
   "nbconvert_exporter": "python",
   "pygments_lexer": "ipython3",
   "version": "3.7.1"
  }
 },
 "nbformat": 4,
 "nbformat_minor": 2
}
