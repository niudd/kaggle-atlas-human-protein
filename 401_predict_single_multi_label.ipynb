{
 "cells": [
  {
   "cell_type": "code",
   "execution_count": 1,
   "metadata": {},
   "outputs": [],
   "source": [
    "import numpy as np\n",
    "import pandas as pd\n",
    "from matplotlib import pyplot as plt\n",
    "import pickle\n",
    "from tqdm import tqdm_notebook\n",
    "\n",
    "import torch\n",
    "from torch.utils.data import DataLoader\n",
    "\n",
    "from model_single_multi_label import AtlasResNet34, AtlasResNet18, predict_proba\n",
    "from utils import load_checkpoint\n",
    "from gpu_utils import set_n_get_device\n",
    "from sklearn.metrics import f1_score as f1_score_sklearn\n",
    "from dataset_single_multi_label import prepare_trainset, train_test_split, AtlasDataSet\n",
    "\n",
    "%matplotlib inline"
   ]
  },
  {
   "cell_type": "code",
   "execution_count": 2,
   "metadata": {},
   "outputs": [],
   "source": [
    "device = set_n_get_device(\"0, 1, 2, 3\", data_device_id=\"cuda:2\")#0, 1, 2, 3, IMPORTANT: data_device_id is set to free gpu for storing the model, e.g.\"cuda:1\"\n",
    "#device = 'cpu'\n",
    "#multi_gpu = [0, 1, 2, 3]#[1, 2]#None, 0, 1, 2, 3\n",
    "\n",
    "# for blending model's selecting best threshold, use seed 2345 (it has best single model LB score)\n",
    "SEED = 1234##2345 #5678#4567#3456#2345#1234\n",
    "debug = False# if True, load 100 samples\n",
    "BATCH_SIZE = 32\n",
    "NUM_WORKERS = 20\n",
    "IMG_SIZE = 512"
   ]
  },
  {
   "cell_type": "markdown",
   "metadata": {},
   "source": [
    "## select best threshold for each class on validset"
   ]
  },
  {
   "cell_type": "code",
   "execution_count": 3,
   "metadata": {},
   "outputs": [
    {
     "name": "stdout",
     "output_type": "stream",
     "text": [
      "total trainset:  53527\n",
      "IMG_SIZE:  512\n"
     ]
    }
   ],
   "source": [
    "# load validset\n",
    "fname_train, fname_valid = train_test_split(SEED, debug)\n",
    "val_ds = AtlasDataSet(fname_valid, mode='train', augmentation=False, IMG_SIZE=IMG_SIZE)\n",
    "val_dl = DataLoader(\n",
    "        val_ds,\n",
    "        batch_size=BATCH_SIZE,\n",
    "        shuffle=False,\n",
    "        #sampler=sampler,\n",
    "        num_workers=NUM_WORKERS,\n",
    "    )"
   ]
  },
  {
   "cell_type": "code",
   "execution_count": 4,
   "metadata": {},
   "outputs": [
    {
     "data": {
      "text/plain": [
       "(5353, 2)"
      ]
     },
     "execution_count": 4,
     "metadata": {},
     "output_type": "execute_result"
    }
   ],
   "source": [
    "# y should be makeup\n",
    "y_valid = []\n",
    "for i, (input_data, truth) in enumerate(val_dl):\n",
    "    #if i==10:\n",
    "    #    break\n",
    "    y_valid.append(truth.cpu().numpy())\n",
    "y_valid = np.concatenate(y_valid, axis=0)\n",
    "y_valid.shape"
   ]
  },
  {
   "cell_type": "code",
   "execution_count": null,
   "metadata": {},
   "outputs": [],
   "source": []
  },
  {
   "cell_type": "code",
   "execution_count": 5,
   "metadata": {
    "scrolled": true
   },
   "outputs": [
    {
     "name": "stdout",
     "output_type": "stream",
     "text": [
      "raw_weight size:  torch.Size([64, 3, 7, 7])\n",
      "new_weight size:  torch.Size([64, 4, 7, 7])\n"
     ]
    }
   ],
   "source": [
    "# load trained model\n",
    "net = AtlasResNet34(debug=False).cuda(device=device)\n",
    "#net = AtlasResNet18(debug=False).cuda(device=device)\n",
    "checkpoint_path = 'checkpoint/single_multi_label/RESNET34_512_v1_seed1234/best.pth.tar'\n",
    "net, _ = load_checkpoint(checkpoint_path, net)"
   ]
  },
  {
   "cell_type": "code",
   "execution_count": 6,
   "metadata": {},
   "outputs": [
    {
     "name": "stderr",
     "output_type": "stream",
     "text": [
      "/home/bigdata/data/endi/anaconda3/lib/python3.7/site-packages/torch/nn/functional.py:1006: UserWarning: nn.functional.sigmoid is deprecated. Use torch.sigmoid instead.\n",
      "  warnings.warn(\"nn.functional.sigmoid is deprecated. Use torch.sigmoid instead.\")\n"
     ]
    },
    {
     "name": "stdout",
     "output_type": "stream",
     "text": [
      "CPU times: user 59.5 s, sys: 17.3 s, total: 1min 16s\n",
      "Wall time: 1min 23s\n"
     ]
    }
   ],
   "source": [
    "%%time\n",
    "# predict_proba\n",
    "net.set_mode('valid')\n",
    "preds_valid = predict_proba(net, val_dl, device)#preds_valid2"
   ]
  },
  {
   "cell_type": "code",
   "execution_count": 7,
   "metadata": {},
   "outputs": [
    {
     "data": {
      "application/vnd.jupyter.widget-view+json": {
       "model_id": "5151fbbb8d2e4364b928d806cfacfdad",
       "version_major": 2,
       "version_minor": 0
      },
      "text/plain": [
       "HBox(children=(IntProgress(value=0, max=50), HTML(value='')))"
      ]
     },
     "metadata": {},
     "output_type": "display_data"
    },
    {
     "name": "stderr",
     "output_type": "stream",
     "text": [
      "/home/bigdata/data/endi/anaconda3/lib/python3.7/site-packages/sklearn/metrics/classification.py:1135: UndefinedMetricWarning: F-score is ill-defined and being set to 0.0 in labels with no predicted samples.\n",
      "  'precision', 'predicted', average, warn_for)\n",
      "No handles with labels found to put in legend.\n"
     ]
    },
    {
     "name": "stdout",
     "output_type": "stream",
     "text": [
      "\n",
      "Best threshold:  0.51\n"
     ]
    },
    {
     "data": {
      "text/plain": [
       "<matplotlib.legend.Legend at 0x7f081c429c18>"
      ]
     },
     "execution_count": 7,
     "metadata": {},
     "output_type": "execute_result"
    },
    {
     "data": {
      "image/png": "[encoded data removed]",
      "text/plain": [
       "<Figure size 432x288 with 1 Axes>"
      ]
     },
     "metadata": {
      "needs_background": "light"
     },
     "output_type": "display_data"
    }
   ],
   "source": [
    "#\n",
    "thresholds_candidates = np.linspace(0.01, 0.99, 50)\n",
    "#print('threshold candidate: ', thresholds_candidates)\n",
    "\n",
    "f1_score_best_list = []\n",
    "\n",
    "preds_valid_sigmoid = 1 / (1 + np.exp(-preds_valid))#sigmoid of class-0/1\n",
    "\n",
    "f1_scores = []\n",
    "for threshold in tqdm_notebook(thresholds_candidates):\n",
    "    preds_valid1 = (preds_valid_sigmoid[:, 1]>threshold).astype(np.int).reshape(-1, 1)\n",
    "    preds_valid0 = 1 - preds_valid1\n",
    "    preds_valid_arr = np.concatenate((preds_valid0, preds_valid1), axis=1)\n",
    "    f1_score = f1_score_sklearn(y_true=y_valid, y_pred=preds_valid_arr, average='macro')\n",
    "    f1_scores.append(f1_score)\n",
    "\n",
    "# best threshold for this class\n",
    "threshold_best_index = np.argmax(f1_scores)\n",
    "f1_score_best = f1_scores[threshold_best_index]\n",
    "threshold_best = thresholds_candidates[threshold_best_index]\n",
    "\n",
    "print('Best threshold: ', threshold_best)\n",
    "\n",
    "plt.plot(thresholds_candidates, f1_scores, \"xr\")\n",
    "plt.xlabel(\"threshold\")\n",
    "plt.ylabel(\"F1 score\")\n",
    "plt.title(\"threshold vs F1\")\n",
    "plt.legend()"
   ]
  },
  {
   "cell_type": "code",
   "execution_count": 8,
   "metadata": {},
   "outputs": [],
   "source": [
    "from sklearn.metrics import classification_report, confusion_matrix"
   ]
  },
  {
   "cell_type": "code",
   "execution_count": 22,
   "metadata": {},
   "outputs": [
    {
     "name": "stdout",
     "output_type": "stream",
     "text": [
      "             precision    recall  f1-score   support\n",
      "\n",
      "          0       0.80      0.77      0.79      2999\n",
      "          1       0.72      0.76      0.74      2354\n",
      "\n",
      "avg / total       0.77      0.77      0.77      5353\n",
      "\n"
     ]
    }
   ],
   "source": [
    "print(classification_report(y_valid[:, 1], (preds_valid_sigmoid[:, 1]>0.51).astype(np.int)))"
   ]
  },
  {
   "cell_type": "code",
   "execution_count": null,
   "metadata": {},
   "outputs": [],
   "source": []
  },
  {
   "cell_type": "code",
   "execution_count": 25,
   "metadata": {},
   "outputs": [],
   "source": [
    "from dataset_single_multi_label import get_label_data\n",
    "train_label = get_label_data()"
   ]
  },
  {
   "cell_type": "code",
   "execution_count": 23,
   "metadata": {},
   "outputs": [],
   "source": [
    "valid_df = pd.DataFrame({'Id': fname_valid, \n",
    "                         'is_single': (preds_valid_sigmoid[:, 1]>0.51).astype(np.int), \n",
    "                         'is_single_prob': preds_valid_sigmoid[:, 1]}, \n",
    "                        columns=['Id', 'is_single', 'is_single_prob'])"
   ]
  },
  {
   "cell_type": "code",
   "execution_count": 27,
   "metadata": {
    "scrolled": true
   },
   "outputs": [],
   "source": [
    "valid_df = valid_df.merge(train_label, on=['Id'])\n",
    "valid_df.sort_values(by=['is_single_prob'], ascending=False, inplace=True)"
   ]
  },
  {
   "cell_type": "code",
   "execution_count": 31,
   "metadata": {
    "scrolled": true
   },
   "outputs": [],
   "source": [
    "valid_df['is_single_truth'] = valid_df.Target.apply(lambda x: len(x.split(' '))==1).astype(np.int)"
   ]
  },
  {
   "cell_type": "code",
   "execution_count": 47,
   "metadata": {
    "scrolled": true
   },
   "outputs": [
    {
     "data": {
      "text/plain": [
       "0.928"
      ]
     },
     "execution_count": 47,
     "metadata": {},
     "output_type": "execute_result"
    }
   ],
   "source": [
    "valid_df.iloc[0:500, 4].mean()"
   ]
  },
  {
   "cell_type": "code",
   "execution_count": 105,
   "metadata": {
    "scrolled": true
   },
   "outputs": [
    {
     "data": {
      "text/plain": [
       "23          79\n",
       "7           54\n",
       "0           43\n",
       "4           39\n",
       "25          39\n",
       "3           34\n",
       "6           32\n",
       "2           26\n",
       "21          23\n",
       "5           22\n",
       "11          20\n",
       "19          20\n",
       "18          10\n",
       "26           6\n",
       "25 21        4\n",
       "24           4\n",
       "1            4\n",
       "20           3\n",
       "25 7         3\n",
       "22           2\n",
       "25 6 1       2\n",
       "17 5         2\n",
       "2 0          2\n",
       "14           2\n",
       "22 21        1\n",
       "23 1         1\n",
       "23 2         1\n",
       "6 7 0        1\n",
       "16 25 17     1\n",
       "25 4         1\n",
       "24 18        1\n",
       "17 21        1\n",
       "6 23         1\n",
       "11 2         1\n",
       "22 0         1\n",
       "25 0         1\n",
       "22 3         1\n",
       "5 0          1\n",
       "18 21        1\n",
       "6 1          1\n",
       "24 21        1\n",
       "13           1\n",
       "7 0          1\n",
       "23 0         1\n",
       "25 6         1\n",
       "0 21         1\n",
       "7 5          1\n",
       "16 25 5      1\n",
       "12           1\n",
       "Name: Target, dtype: int64"
      ]
     },
     "execution_count": 105,
     "metadata": {},
     "output_type": "execute_result"
    }
   ],
   "source": [
    "valid_df.iloc[0:500, 3].value_counts()"
   ]
  },
  {
   "cell_type": "code",
   "execution_count": 53,
   "metadata": {
    "scrolled": true
   },
   "outputs": [
    {
     "data": {
      "text/plain": [
       "4             2693\n",
       "0             2414\n",
       "6             2122\n",
       "25 0          1998\n",
       "5 0           1703\n",
       "5             1685\n",
       "23            1653\n",
       "3             1503\n",
       "25            1470\n",
       "19            1227\n",
       "7             1163\n",
       "21            1058\n",
       "11            1007\n",
       "14            1007\n",
       "2 0            996\n",
       "1              829\n",
       "2              808\n",
       "0 21           769\n",
       "25 4           692\n",
       "7 0            668\n",
       "25 5           619\n",
       "19 0           615\n",
       "22             611\n",
       "1 0            573\n",
       "23 0           572\n",
       "18             566\n",
       "3 0            497\n",
       "12             487\n",
       "25 5 0         437\n",
       "25 21          425\n",
       "              ... \n",
       "20 23            1\n",
       "19 16 25         1\n",
       "16 25 18         1\n",
       "7 18 14 21       1\n",
       "15 2 0           1\n",
       "12 23 2          1\n",
       "22 25 7 0        1\n",
       "16 14 23 0       1\n",
       "5 1 0 21         1\n",
       "7 4 3            1\n",
       "25 11 5          1\n",
       "12 19 14         1\n",
       "12 16 25 0       1\n",
       "19 25 17 0       1\n",
       "11 23 21         1\n",
       "16 23 2          1\n",
       "12 6             1\n",
       "16 25 5 0        1\n",
       "19 11 2          1\n",
       "6 11 0           1\n",
       "22 23 1          1\n",
       "11 16            1\n",
       "19 7 3 0         1\n",
       "24 1             1\n",
       "26 4 2           1\n",
       "22 7 5           1\n",
       "24 25 7 21       1\n",
       "22 5 2           1\n",
       "13 11 21         1\n",
       "25 18 1 0        1\n",
       "Name: Target, Length: 740, dtype: int64"
      ]
     },
     "execution_count": 53,
     "metadata": {},
     "output_type": "execute_result"
    }
   ],
   "source": [
    "train_label.Target.value_counts()"
   ]
  },
  {
   "cell_type": "code",
   "execution_count": null,
   "metadata": {
    "scrolled": true
   },
   "outputs": [],
   "source": []
  },
  {
   "cell_type": "code",
   "execution_count": null,
   "metadata": {},
   "outputs": [],
   "source": []
  },
  {
   "cell_type": "code",
   "execution_count": null,
   "metadata": {},
   "outputs": [],
   "source": []
  },
  {
   "cell_type": "markdown",
   "metadata": {},
   "source": [
    "## using best threshold to predict"
   ]
  },
  {
   "cell_type": "code",
   "execution_count": 56,
   "metadata": {},
   "outputs": [],
   "source": [
    "from glob import glob"
   ]
  },
  {
   "cell_type": "code",
   "execution_count": 57,
   "metadata": {},
   "outputs": [
    {
     "data": {
      "text/plain": [
       "11702"
      ]
     },
     "execution_count": 57,
     "metadata": {},
     "output_type": "execute_result"
    }
   ],
   "source": [
    "## ⚠️可能每次读取返回图片（样本）顺序不一样，所以保存的single model prediction可能顺序都不同，不同直接blend\n",
    "files = glob('data/raw/test/*')\n",
    "fname_test = list(set([f.replace('_red.png', '').replace('_green.png', '').replace('_blue.png', '').replace('_yellow.png', '').replace('data/raw/test/', '') for f in files]))\n",
    "len(fname_test)"
   ]
  },
  {
   "cell_type": "code",
   "execution_count": 58,
   "metadata": {},
   "outputs": [
    {
     "name": "stdout",
     "output_type": "stream",
     "text": [
      "IMG_SIZE:  512\n"
     ]
    }
   ],
   "source": [
    "test_ds = AtlasDataSet(fname_test, mode='test', augmentation=False, IMG_SIZE=IMG_SIZE)\n",
    "test_dl = DataLoader(\n",
    "        test_ds,\n",
    "        batch_size=BATCH_SIZE,\n",
    "        shuffle=False,\n",
    "        #sampler=sampler,\n",
    "        num_workers=NUM_WORKERS,\n",
    "    )"
   ]
  },
  {
   "cell_type": "code",
   "execution_count": 59,
   "metadata": {},
   "outputs": [
    {
     "name": "stderr",
     "output_type": "stream",
     "text": [
      "/home/bigdata/data/endi/anaconda3/lib/python3.7/site-packages/torch/nn/functional.py:1006: UserWarning: nn.functional.sigmoid is deprecated. Use torch.sigmoid instead.\n",
      "  warnings.warn(\"nn.functional.sigmoid is deprecated. Use torch.sigmoid instead.\")\n"
     ]
    },
    {
     "name": "stdout",
     "output_type": "stream",
     "text": [
      "CPU times: user 1min 57s, sys: 34 s, total: 2min 31s\n",
      "Wall time: 2min 57s\n"
     ]
    }
   ],
   "source": [
    "%%time\n",
    "# predict by single model\n",
    "preds_test_single_multi_label = predict_proba(net, test_dl, device)"
   ]
  },
  {
   "cell_type": "code",
   "execution_count": null,
   "metadata": {},
   "outputs": [],
   "source": []
  },
  {
   "cell_type": "code",
   "execution_count": 62,
   "metadata": {},
   "outputs": [],
   "source": [
    "preds_test_sigmoid = 1 / (1 + np.exp(- preds_test_single_multi_label))#sigmoid of class-0/1\n",
    "\n",
    "preds_test1 = (preds_test_sigmoid[:, 1]>threshold_best).astype(np.int)"
   ]
  },
  {
   "cell_type": "code",
   "execution_count": 63,
   "metadata": {
    "scrolled": true
   },
   "outputs": [],
   "source": [
    "single_multi_label_df = pd.DataFrame({'is_single_label': preds_test1, 'Id': fname_test, \n",
    "                                      'is_single_label_prob': preds_test_sigmoid[:, 1]}, \n",
    "                                     columns=['Id', 'is_single_label', 'is_single_label_prob'])"
   ]
  },
  {
   "cell_type": "code",
   "execution_count": 225,
   "metadata": {},
   "outputs": [],
   "source": [
    "df = pd.read_csv('submissions/582_best_model_with_leak259.csv.gz', compression='gzip')"
   ]
  },
  {
   "cell_type": "code",
   "execution_count": 220,
   "metadata": {},
   "outputs": [
    {
     "data": {
      "text/html": [
       "<div>\n",
       "<style scoped>\n",
       "    .dataframe tbody tr th:only-of-type {\n",
       "        vertical-align: middle;\n",
       "    }\n",
       "\n",
       "    .dataframe tbody tr th {\n",
       "        vertical-align: top;\n",
       "    }\n",
       "\n",
       "    .dataframe thead th {\n",
       "        text-align: right;\n",
       "    }\n",
       "</style>\n",
       "<table border=\"1\" class=\"dataframe\">\n",
       "  <thead>\n",
       "    <tr style=\"text-align: right;\">\n",
       "      <th></th>\n",
       "      <th>Id</th>\n",
       "      <th>Predicted</th>\n",
       "      <th>is_single_label</th>\n",
       "      <th>is_single_label_prob</th>\n",
       "      <th>is_single_from_cnn</th>\n",
       "    </tr>\n",
       "  </thead>\n",
       "  <tbody>\n",
       "    <tr>\n",
       "      <th>8590</th>\n",
       "      <td>bb98d760-bace-11e8-b2b8-ac1f6b6435d0</td>\n",
       "      <td>19 25</td>\n",
       "      <td>1</td>\n",
       "      <td>0.987850</td>\n",
       "      <td>0</td>\n",
       "    </tr>\n",
       "    <tr>\n",
       "      <th>10462</th>\n",
       "      <td>e498262c-bad6-11e8-b2b9-ac1f6b6435d0</td>\n",
       "      <td>19 25</td>\n",
       "      <td>1</td>\n",
       "      <td>0.986453</td>\n",
       "      <td>0</td>\n",
       "    </tr>\n",
       "  </tbody>\n",
       "</table>\n",
       "</div>"
      ],
      "text/plain": [
       "                                         Id Predicted  is_single_label  \\\n",
       "8590   bb98d760-bace-11e8-b2b8-ac1f6b6435d0     19 25                1   \n",
       "10462  e498262c-bad6-11e8-b2b9-ac1f6b6435d0     19 25                1   \n",
       "\n",
       "       is_single_label_prob  is_single_from_cnn  \n",
       "8590               0.987850                   0  \n",
       "10462              0.986453                   0  "
      ]
     },
     "execution_count": 220,
     "metadata": {},
     "output_type": "execute_result"
    }
   ],
   "source": [
    "df = df.merge(single_multi_label_df, on=['Id']).sort_values(by=['is_single_label_prob'], ascending=False)\n",
    "df['is_single_from_cnn'] = df.Predicted.apply(lambda x: len(x.split(' '))==1).astype(np.int)\n",
    "df.head(2)"
   ]
  },
  {
   "cell_type": "code",
   "execution_count": 221,
   "metadata": {
    "scrolled": true
   },
   "outputs": [],
   "source": [
    "# for predicted single label with top probabilities, pick single label by CNN classifier's sigmoid probabilities\n",
    "df_check = df.loc[df.is_single_from_cnn==0, ].iloc[0:1000, ]\n",
    "\n",
    "_out = []\n",
    "_pick = []\n",
    "for i in df_check.index:\n",
    "    _fname = df_check.loc[i, 'Id']\n",
    "    _c = [int(item) for item in df_check.loc[i, 'Predicted'].split(' ')]\n",
    "    _prob_arr = prob_cnn[_fname]\n",
    "    _prob_arr = 1 / (1 + np.exp(-_prob_arr))#sigmoid\n",
    "    _prob = [_prob_arr[c] for c in _c]\n",
    "    _pick_label = [c for i,c in enumerate(_c) if _prob_arr[c]>0.5]\n",
    "    if _pick_label==[]:\n",
    "        _idx = np.argmax(_prob)\n",
    "        _pick_label = str(_c[_idx])#[_c[_idx]]\n",
    "        _pick.append(_pick_label)\n",
    "    else:\n",
    "        _pick.append(' '.join(str(item) for item in _pick_label))#_pick_label\n",
    "    _out.append(_prob)    \n",
    "df_check['prob'] = _out\n",
    "df_check['pick_label'] = _pick\n",
    "\n",
    "#for i in df_check.index:\n",
    "    #df_check.loc[i, 'pick_label'] = ' '.join(str(item) for item in df_check.loc[i, 'pick_label'])"
   ]
  },
  {
   "cell_type": "code",
   "execution_count": null,
   "metadata": {},
   "outputs": [],
   "source": []
  },
  {
   "cell_type": "code",
   "execution_count": 222,
   "metadata": {
    "scrolled": true
   },
   "outputs": [
    {
     "data": {
      "text/html": [
       "<div>\n",
       "<style scoped>\n",
       "    .dataframe tbody tr th:only-of-type {\n",
       "        vertical-align: middle;\n",
       "    }\n",
       "\n",
       "    .dataframe tbody tr th {\n",
       "        vertical-align: top;\n",
       "    }\n",
       "\n",
       "    .dataframe thead th {\n",
       "        text-align: right;\n",
       "    }\n",
       "</style>\n",
       "<table border=\"1\" class=\"dataframe\">\n",
       "  <thead>\n",
       "    <tr style=\"text-align: right;\">\n",
       "      <th></th>\n",
       "      <th>Id</th>\n",
       "      <th>Predicted</th>\n",
       "      <th>is_single_label</th>\n",
       "      <th>is_single_label_prob</th>\n",
       "      <th>is_single_from_cnn</th>\n",
       "      <th>prob</th>\n",
       "      <th>pick_label</th>\n",
       "    </tr>\n",
       "  </thead>\n",
       "  <tbody>\n",
       "    <tr>\n",
       "      <th>8590</th>\n",
       "      <td>bb98d760-bace-11e8-b2b8-ac1f6b6435d0</td>\n",
       "      <td>19 25</td>\n",
       "      <td>1</td>\n",
       "      <td>0.987850</td>\n",
       "      <td>0</td>\n",
       "      <td>[0.6876748, 0.80890524]</td>\n",
       "      <td>19 25</td>\n",
       "    </tr>\n",
       "    <tr>\n",
       "      <th>10462</th>\n",
       "      <td>e498262c-bad6-11e8-b2b9-ac1f6b6435d0</td>\n",
       "      <td>19 25</td>\n",
       "      <td>1</td>\n",
       "      <td>0.986453</td>\n",
       "      <td>0</td>\n",
       "      <td>[0.47319576, 0.70961916]</td>\n",
       "      <td>25</td>\n",
       "    </tr>\n",
       "    <tr>\n",
       "      <th>4701</th>\n",
       "      <td>675aea42-bac6-11e8-b2b7-ac1f6b6435d0</td>\n",
       "      <td>21 25</td>\n",
       "      <td>1</td>\n",
       "      <td>0.979564</td>\n",
       "      <td>0</td>\n",
       "      <td>[0.8065429, 0.42942283]</td>\n",
       "      <td>21</td>\n",
       "    </tr>\n",
       "    <tr>\n",
       "      <th>10125</th>\n",
       "      <td>dd15543e-bacb-11e8-b2b8-ac1f6b6435d0</td>\n",
       "      <td>23 25</td>\n",
       "      <td>1</td>\n",
       "      <td>0.975807</td>\n",
       "      <td>0</td>\n",
       "      <td>[0.17201893, 0.28663057]</td>\n",
       "      <td>25</td>\n",
       "    </tr>\n",
       "    <tr>\n",
       "      <th>6262</th>\n",
       "      <td>891bf0e8-bacd-11e8-b2b8-ac1f6b6435d0</td>\n",
       "      <td>6 25</td>\n",
       "      <td>1</td>\n",
       "      <td>0.975766</td>\n",
       "      <td>0</td>\n",
       "      <td>[0.2769938, 0.45020238]</td>\n",
       "      <td>25</td>\n",
       "    </tr>\n",
       "    <tr>\n",
       "      <th>7878</th>\n",
       "      <td>ac52ddf4-bad4-11e8-b2b8-ac1f6b6435d0</td>\n",
       "      <td>6 25</td>\n",
       "      <td>1</td>\n",
       "      <td>0.961149</td>\n",
       "      <td>0</td>\n",
       "      <td>[0.31098738, 0.4553294]</td>\n",
       "      <td>25</td>\n",
       "    </tr>\n",
       "    <tr>\n",
       "      <th>10224</th>\n",
       "      <td>df6c1104-bad1-11e8-b2b8-ac1f6b6435d0</td>\n",
       "      <td>23 25</td>\n",
       "      <td>1</td>\n",
       "      <td>0.954591</td>\n",
       "      <td>0</td>\n",
       "      <td>[0.65177554, 0.45591643]</td>\n",
       "      <td>23</td>\n",
       "    </tr>\n",
       "    <tr>\n",
       "      <th>4403</th>\n",
       "      <td>615727e2-bad9-11e8-b2b9-ac1f6b6435d0</td>\n",
       "      <td>14 17</td>\n",
       "      <td>1</td>\n",
       "      <td>0.952719</td>\n",
       "      <td>0</td>\n",
       "      <td>[0.47292715, 0.76711863]</td>\n",
       "      <td>17</td>\n",
       "    </tr>\n",
       "    <tr>\n",
       "      <th>2644</th>\n",
       "      <td>3b1f4292-bad6-11e8-b2b9-ac1f6b6435d0</td>\n",
       "      <td>17 25</td>\n",
       "      <td>1</td>\n",
       "      <td>0.950322</td>\n",
       "      <td>0</td>\n",
       "      <td>[0.47535184, 0.9463851]</td>\n",
       "      <td>25</td>\n",
       "    </tr>\n",
       "    <tr>\n",
       "      <th>1399</th>\n",
       "      <td>1ecb1a9e-bad1-11e8-b2b8-ac1f6b6435d0</td>\n",
       "      <td>14 17</td>\n",
       "      <td>1</td>\n",
       "      <td>0.947530</td>\n",
       "      <td>0</td>\n",
       "      <td>[0.9838006, 0.7055471]</td>\n",
       "      <td>14 17</td>\n",
       "    </tr>\n",
       "    <tr>\n",
       "      <th>1903</th>\n",
       "      <td>29a5c236-bacf-11e8-b2b8-ac1f6b6435d0</td>\n",
       "      <td>21 23</td>\n",
       "      <td>1</td>\n",
       "      <td>0.945362</td>\n",
       "      <td>0</td>\n",
       "      <td>[0.6435547, 0.5940934]</td>\n",
       "      <td>21 23</td>\n",
       "    </tr>\n",
       "    <tr>\n",
       "      <th>8885</th>\n",
       "      <td>c20b05f6-bad7-11e8-b2b9-ac1f6b6435d0</td>\n",
       "      <td>6 25</td>\n",
       "      <td>1</td>\n",
       "      <td>0.944106</td>\n",
       "      <td>0</td>\n",
       "      <td>[0.2982594, 0.6352566]</td>\n",
       "      <td>25</td>\n",
       "    </tr>\n",
       "    <tr>\n",
       "      <th>2605</th>\n",
       "      <td>39ea1a5a-bad1-11e8-b2b8-ac1f6b6435d0</td>\n",
       "      <td>21 25</td>\n",
       "      <td>1</td>\n",
       "      <td>0.937477</td>\n",
       "      <td>0</td>\n",
       "      <td>[0.6694057, 0.93009573]</td>\n",
       "      <td>21 25</td>\n",
       "    </tr>\n",
       "    <tr>\n",
       "      <th>8066</th>\n",
       "      <td>b0029560-bad5-11e8-b2b9-ac1f6b6435d0</td>\n",
       "      <td>21 25</td>\n",
       "      <td>1</td>\n",
       "      <td>0.930330</td>\n",
       "      <td>0</td>\n",
       "      <td>[0.8183223, 0.5084975]</td>\n",
       "      <td>21 25</td>\n",
       "    </tr>\n",
       "    <tr>\n",
       "      <th>3917</th>\n",
       "      <td>56bb0b0c-bad7-11e8-b2b9-ac1f6b6435d0</td>\n",
       "      <td>14 17</td>\n",
       "      <td>1</td>\n",
       "      <td>0.926872</td>\n",
       "      <td>0</td>\n",
       "      <td>[0.9839436, 0.69276714]</td>\n",
       "      <td>14 17</td>\n",
       "    </tr>\n",
       "    <tr>\n",
       "      <th>5309</th>\n",
       "      <td>751e3c42-bad0-11e8-b2b8-ac1f6b6435d0</td>\n",
       "      <td>7 25</td>\n",
       "      <td>1</td>\n",
       "      <td>0.925259</td>\n",
       "      <td>0</td>\n",
       "      <td>[0.4887517, 0.41717756]</td>\n",
       "      <td>7</td>\n",
       "    </tr>\n",
       "    <tr>\n",
       "      <th>5629</th>\n",
       "      <td>7b9baa14-bacb-11e8-b2b8-ac1f6b6435d0</td>\n",
       "      <td>21 25</td>\n",
       "      <td>1</td>\n",
       "      <td>0.920391</td>\n",
       "      <td>0</td>\n",
       "      <td>[0.8535775, 0.48438865]</td>\n",
       "      <td>21</td>\n",
       "    </tr>\n",
       "    <tr>\n",
       "      <th>586</th>\n",
       "      <td>0cdd7e90-bad0-11e8-b2b8-ac1f6b6435d0</td>\n",
       "      <td>21 25</td>\n",
       "      <td>1</td>\n",
       "      <td>0.919886</td>\n",
       "      <td>0</td>\n",
       "      <td>[0.69921654, 0.4148561]</td>\n",
       "      <td>21</td>\n",
       "    </tr>\n",
       "    <tr>\n",
       "      <th>9777</th>\n",
       "      <td>d56bdc3a-bad0-11e8-b2b8-ac1f6b6435d0</td>\n",
       "      <td>14 17 25</td>\n",
       "      <td>1</td>\n",
       "      <td>0.917864</td>\n",
       "      <td>0</td>\n",
       "      <td>[0.5774182, 0.98445106, 0.44421545]</td>\n",
       "      <td>14 17</td>\n",
       "    </tr>\n",
       "    <tr>\n",
       "      <th>8032</th>\n",
       "      <td>af2190b0-bada-11e8-b2b9-ac1f6b6435d0</td>\n",
       "      <td>14 17</td>\n",
       "      <td>1</td>\n",
       "      <td>0.917455</td>\n",
       "      <td>0</td>\n",
       "      <td>[0.53918284, 0.9999869]</td>\n",
       "      <td>14 17</td>\n",
       "    </tr>\n",
       "    <tr>\n",
       "      <th>11574</th>\n",
       "      <td>fd54700c-bac8-11e8-b2b8-ac1f6b6435d0</td>\n",
       "      <td>21 25</td>\n",
       "      <td>1</td>\n",
       "      <td>0.917108</td>\n",
       "      <td>0</td>\n",
       "      <td>[0.9321787, 0.4184388]</td>\n",
       "      <td>21</td>\n",
       "    </tr>\n",
       "    <tr>\n",
       "      <th>5440</th>\n",
       "      <td>77835652-bada-11e8-b2b9-ac1f6b6435d0</td>\n",
       "      <td>17 25</td>\n",
       "      <td>1</td>\n",
       "      <td>0.915107</td>\n",
       "      <td>0</td>\n",
       "      <td>[0.9999851, 0.9029339]</td>\n",
       "      <td>17 25</td>\n",
       "    </tr>\n",
       "    <tr>\n",
       "      <th>1674</th>\n",
       "      <td>24fb538a-bada-11e8-b2b9-ac1f6b6435d0</td>\n",
       "      <td>23 25</td>\n",
       "      <td>1</td>\n",
       "      <td>0.911269</td>\n",
       "      <td>0</td>\n",
       "      <td>[0.4316075, 0.26323694]</td>\n",
       "      <td>23</td>\n",
       "    </tr>\n",
       "    <tr>\n",
       "      <th>4976</th>\n",
       "      <td>6d442600-bad8-11e8-b2b9-ac1f6b6435d0</td>\n",
       "      <td>23 25</td>\n",
       "      <td>1</td>\n",
       "      <td>0.907994</td>\n",
       "      <td>0</td>\n",
       "      <td>[0.76062584, 0.50024253]</td>\n",
       "      <td>23 25</td>\n",
       "    </tr>\n",
       "    <tr>\n",
       "      <th>5603</th>\n",
       "      <td>7aedc878-bacf-11e8-b2b8-ac1f6b6435d0</td>\n",
       "      <td>0 25</td>\n",
       "      <td>1</td>\n",
       "      <td>0.905334</td>\n",
       "      <td>0</td>\n",
       "      <td>[0.9659208, 0.51245433]</td>\n",
       "      <td>0 25</td>\n",
       "    </tr>\n",
       "    <tr>\n",
       "      <th>296</th>\n",
       "      <td>067e9c5e-bad1-11e8-b2b8-ac1f6b6435d0</td>\n",
       "      <td>21 25</td>\n",
       "      <td>1</td>\n",
       "      <td>0.905021</td>\n",
       "      <td>0</td>\n",
       "      <td>[0.5161144, 0.58769464]</td>\n",
       "      <td>21 25</td>\n",
       "    </tr>\n",
       "    <tr>\n",
       "      <th>8409</th>\n",
       "      <td>b7dbc23c-bad2-11e8-b2b8-ac1f6b6435d0</td>\n",
       "      <td>6 25</td>\n",
       "      <td>1</td>\n",
       "      <td>0.901154</td>\n",
       "      <td>0</td>\n",
       "      <td>[0.2781727, 0.41744033]</td>\n",
       "      <td>25</td>\n",
       "    </tr>\n",
       "    <tr>\n",
       "      <th>1044</th>\n",
       "      <td>16c882a2-bacf-11e8-b2b8-ac1f6b6435d0</td>\n",
       "      <td>0 17 25</td>\n",
       "      <td>1</td>\n",
       "      <td>0.901080</td>\n",
       "      <td>0</td>\n",
       "      <td>[0.97400075, 0.73488593, 0.68004626]</td>\n",
       "      <td>0 17 25</td>\n",
       "    </tr>\n",
       "    <tr>\n",
       "      <th>2152</th>\n",
       "      <td>2ff4ef92-bad7-11e8-b2b9-ac1f6b6435d0</td>\n",
       "      <td>5 23</td>\n",
       "      <td>1</td>\n",
       "      <td>0.898933</td>\n",
       "      <td>0</td>\n",
       "      <td>[0.35992035, 0.5247102]</td>\n",
       "      <td>23</td>\n",
       "    </tr>\n",
       "    <tr>\n",
       "      <th>8755</th>\n",
       "      <td>bf447b28-bad6-11e8-b2b9-ac1f6b6435d0</td>\n",
       "      <td>23 25</td>\n",
       "      <td>1</td>\n",
       "      <td>0.897482</td>\n",
       "      <td>0</td>\n",
       "      <td>[0.6883344, 0.6263292]</td>\n",
       "      <td>23 25</td>\n",
       "    </tr>\n",
       "    <tr>\n",
       "      <th>...</th>\n",
       "      <td>...</td>\n",
       "      <td>...</td>\n",
       "      <td>...</td>\n",
       "      <td>...</td>\n",
       "      <td>...</td>\n",
       "      <td>...</td>\n",
       "      <td>...</td>\n",
       "    </tr>\n",
       "    <tr>\n",
       "      <th>6966</th>\n",
       "      <td>98845152-bad6-11e8-b2b9-ac1f6b6435d0</td>\n",
       "      <td>0 25</td>\n",
       "      <td>1</td>\n",
       "      <td>0.647509</td>\n",
       "      <td>0</td>\n",
       "      <td>[0.5116558, 0.9579687]</td>\n",
       "      <td>0 25</td>\n",
       "    </tr>\n",
       "    <tr>\n",
       "      <th>8779</th>\n",
       "      <td>bfc88896-bad6-11e8-b2b9-ac1f6b6435d0</td>\n",
       "      <td>6 25</td>\n",
       "      <td>1</td>\n",
       "      <td>0.647503</td>\n",
       "      <td>0</td>\n",
       "      <td>[0.2856389, 0.71631426]</td>\n",
       "      <td>25</td>\n",
       "    </tr>\n",
       "    <tr>\n",
       "      <th>5131</th>\n",
       "      <td>70b9d728-bad1-11e8-b2b8-ac1f6b6435d0</td>\n",
       "      <td>21 25</td>\n",
       "      <td>1</td>\n",
       "      <td>0.647371</td>\n",
       "      <td>0</td>\n",
       "      <td>[0.51118106, 0.73832357]</td>\n",
       "      <td>21 25</td>\n",
       "    </tr>\n",
       "    <tr>\n",
       "      <th>2555</th>\n",
       "      <td>39070ed4-bad8-11e8-b2b9-ac1f6b6435d0</td>\n",
       "      <td>0 19</td>\n",
       "      <td>1</td>\n",
       "      <td>0.647312</td>\n",
       "      <td>0</td>\n",
       "      <td>[0.80530345, 0.439119]</td>\n",
       "      <td>0</td>\n",
       "    </tr>\n",
       "    <tr>\n",
       "      <th>2092</th>\n",
       "      <td>2e570c6e-bace-11e8-b2b8-ac1f6b6435d0</td>\n",
       "      <td>0 25</td>\n",
       "      <td>1</td>\n",
       "      <td>0.647276</td>\n",
       "      <td>0</td>\n",
       "      <td>[0.55284595, 0.75838095]</td>\n",
       "      <td>0 25</td>\n",
       "    </tr>\n",
       "    <tr>\n",
       "      <th>11547</th>\n",
       "      <td>fca95044-bad4-11e8-b2b8-ac1f6b6435d0</td>\n",
       "      <td>4 25</td>\n",
       "      <td>1</td>\n",
       "      <td>0.647206</td>\n",
       "      <td>0</td>\n",
       "      <td>[0.96464723, 0.81083727]</td>\n",
       "      <td>4 25</td>\n",
       "    </tr>\n",
       "    <tr>\n",
       "      <th>4888</th>\n",
       "      <td>6b74e00a-bad1-11e8-b2b8-ac1f6b6435d0</td>\n",
       "      <td>0 23</td>\n",
       "      <td>1</td>\n",
       "      <td>0.647047</td>\n",
       "      <td>0</td>\n",
       "      <td>[0.5739115, 0.9153664]</td>\n",
       "      <td>0 23</td>\n",
       "    </tr>\n",
       "    <tr>\n",
       "      <th>4899</th>\n",
       "      <td>6bac644c-bad3-11e8-b2b8-ac1f6b6435d0</td>\n",
       "      <td>6 25</td>\n",
       "      <td>1</td>\n",
       "      <td>0.646904</td>\n",
       "      <td>0</td>\n",
       "      <td>[0.38920006, 0.6774222]</td>\n",
       "      <td>25</td>\n",
       "    </tr>\n",
       "    <tr>\n",
       "      <th>3691</th>\n",
       "      <td>51cd57d6-bad1-11e8-b2b8-ac1f6b6435d0</td>\n",
       "      <td>0 25</td>\n",
       "      <td>1</td>\n",
       "      <td>0.646862</td>\n",
       "      <td>0</td>\n",
       "      <td>[0.7684647, 0.42921132]</td>\n",
       "      <td>0</td>\n",
       "    </tr>\n",
       "    <tr>\n",
       "      <th>899</th>\n",
       "      <td>13a7a9da-bad0-11e8-b2b8-ac1f6b6435d0</td>\n",
       "      <td>0 25</td>\n",
       "      <td>1</td>\n",
       "      <td>0.646771</td>\n",
       "      <td>0</td>\n",
       "      <td>[0.6381996, 0.6753608]</td>\n",
       "      <td>0 25</td>\n",
       "    </tr>\n",
       "    <tr>\n",
       "      <th>4242</th>\n",
       "      <td>5dc7da0e-bac5-11e8-b2b7-ac1f6b6435d0</td>\n",
       "      <td>0 24</td>\n",
       "      <td>1</td>\n",
       "      <td>0.646770</td>\n",
       "      <td>0</td>\n",
       "      <td>[0.6025009, 0.5767877]</td>\n",
       "      <td>0 24</td>\n",
       "    </tr>\n",
       "    <tr>\n",
       "      <th>410</th>\n",
       "      <td>08e20b06-bad7-11e8-b2b9-ac1f6b6435d0</td>\n",
       "      <td>6 25</td>\n",
       "      <td>1</td>\n",
       "      <td>0.646487</td>\n",
       "      <td>0</td>\n",
       "      <td>[0.3758314, 0.7891484]</td>\n",
       "      <td>25</td>\n",
       "    </tr>\n",
       "    <tr>\n",
       "      <th>8566</th>\n",
       "      <td>bb2bd8e0-bac9-11e8-b2b8-ac1f6b6435d0</td>\n",
       "      <td>21 25</td>\n",
       "      <td>1</td>\n",
       "      <td>0.646475</td>\n",
       "      <td>0</td>\n",
       "      <td>[0.5372342, 0.71264267]</td>\n",
       "      <td>21 25</td>\n",
       "    </tr>\n",
       "    <tr>\n",
       "      <th>1367</th>\n",
       "      <td>1e3a1e4a-bacc-11e8-b2b8-ac1f6b6435d0</td>\n",
       "      <td>4 14 16</td>\n",
       "      <td>1</td>\n",
       "      <td>0.646448</td>\n",
       "      <td>0</td>\n",
       "      <td>[0.5187011, 0.6714395, 0.9136932]</td>\n",
       "      <td>4 14 16</td>\n",
       "    </tr>\n",
       "    <tr>\n",
       "      <th>1770</th>\n",
       "      <td>26dd6542-bacd-11e8-b2b8-ac1f6b6435d0</td>\n",
       "      <td>4 25</td>\n",
       "      <td>1</td>\n",
       "      <td>0.646435</td>\n",
       "      <td>0</td>\n",
       "      <td>[0.5924667, 0.44955888]</td>\n",
       "      <td>4</td>\n",
       "    </tr>\n",
       "    <tr>\n",
       "      <th>1695</th>\n",
       "      <td>256ddad4-bacd-11e8-b2b8-ac1f6b6435d0</td>\n",
       "      <td>0 1</td>\n",
       "      <td>1</td>\n",
       "      <td>0.646425</td>\n",
       "      <td>0</td>\n",
       "      <td>[0.6535694, 0.8715394]</td>\n",
       "      <td>0 1</td>\n",
       "    </tr>\n",
       "    <tr>\n",
       "      <th>5806</th>\n",
       "      <td>7f0e17b4-baca-11e8-b2b8-ac1f6b6435d0</td>\n",
       "      <td>0 19</td>\n",
       "      <td>1</td>\n",
       "      <td>0.646361</td>\n",
       "      <td>0</td>\n",
       "      <td>[0.85476637, 0.72839457]</td>\n",
       "      <td>0 19</td>\n",
       "    </tr>\n",
       "    <tr>\n",
       "      <th>1528</th>\n",
       "      <td>2182bacc-bacb-11e8-b2b8-ac1f6b6435d0</td>\n",
       "      <td>21 25</td>\n",
       "      <td>1</td>\n",
       "      <td>0.646319</td>\n",
       "      <td>0</td>\n",
       "      <td>[0.7749328, 0.49278697]</td>\n",
       "      <td>21</td>\n",
       "    </tr>\n",
       "    <tr>\n",
       "      <th>2550</th>\n",
       "      <td>38fc4fa4-bacd-11e8-b2b8-ac1f6b6435d0</td>\n",
       "      <td>0 25</td>\n",
       "      <td>1</td>\n",
       "      <td>0.646318</td>\n",
       "      <td>0</td>\n",
       "      <td>[0.9296214, 0.6677797]</td>\n",
       "      <td>0 25</td>\n",
       "    </tr>\n",
       "    <tr>\n",
       "      <th>8634</th>\n",
       "      <td>bca08c8e-bac9-11e8-b2b8-ac1f6b6435d0</td>\n",
       "      <td>4 26</td>\n",
       "      <td>1</td>\n",
       "      <td>0.646283</td>\n",
       "      <td>0</td>\n",
       "      <td>[0.89531773, 0.6056393]</td>\n",
       "      <td>4 26</td>\n",
       "    </tr>\n",
       "    <tr>\n",
       "      <th>1730</th>\n",
       "      <td>2613a980-bad9-11e8-b2b9-ac1f6b6435d0</td>\n",
       "      <td>21 25</td>\n",
       "      <td>1</td>\n",
       "      <td>0.646247</td>\n",
       "      <td>0</td>\n",
       "      <td>[0.5105262, 0.6482155]</td>\n",
       "      <td>21 25</td>\n",
       "    </tr>\n",
       "    <tr>\n",
       "      <th>8185</th>\n",
       "      <td>b2bdb316-bac6-11e8-b2b7-ac1f6b6435d0</td>\n",
       "      <td>18 21</td>\n",
       "      <td>1</td>\n",
       "      <td>0.646155</td>\n",
       "      <td>0</td>\n",
       "      <td>[0.64574456, 0.9531689]</td>\n",
       "      <td>18 21</td>\n",
       "    </tr>\n",
       "    <tr>\n",
       "      <th>5218</th>\n",
       "      <td>72d69f16-bac5-11e8-b2b7-ac1f6b6435d0</td>\n",
       "      <td>11 25</td>\n",
       "      <td>1</td>\n",
       "      <td>0.645766</td>\n",
       "      <td>0</td>\n",
       "      <td>[0.67644787, 0.534001]</td>\n",
       "      <td>11 25</td>\n",
       "    </tr>\n",
       "    <tr>\n",
       "      <th>2663</th>\n",
       "      <td>3bb6f9a4-bad9-11e8-b2b9-ac1f6b6435d0</td>\n",
       "      <td>0 25</td>\n",
       "      <td>1</td>\n",
       "      <td>0.645649</td>\n",
       "      <td>0</td>\n",
       "      <td>[0.80792075, 0.98705]</td>\n",
       "      <td>0 25</td>\n",
       "    </tr>\n",
       "    <tr>\n",
       "      <th>10613</th>\n",
       "      <td>e829aeb2-bad8-11e8-b2b9-ac1f6b6435d0</td>\n",
       "      <td>0 16 17</td>\n",
       "      <td>1</td>\n",
       "      <td>0.645639</td>\n",
       "      <td>0</td>\n",
       "      <td>[0.6035545, 0.6990418, 0.5337303]</td>\n",
       "      <td>0 16 17</td>\n",
       "    </tr>\n",
       "    <tr>\n",
       "      <th>7136</th>\n",
       "      <td>9beacda4-bada-11e8-b2b9-ac1f6b6435d0</td>\n",
       "      <td>0 7</td>\n",
       "      <td>1</td>\n",
       "      <td>0.645595</td>\n",
       "      <td>0</td>\n",
       "      <td>[0.8592723, 0.9448515]</td>\n",
       "      <td>0 7</td>\n",
       "    </tr>\n",
       "    <tr>\n",
       "      <th>9152</th>\n",
       "      <td>c7f30a02-bacf-11e8-b2b8-ac1f6b6435d0</td>\n",
       "      <td>0 2 25</td>\n",
       "      <td>1</td>\n",
       "      <td>0.645466</td>\n",
       "      <td>0</td>\n",
       "      <td>[0.5803751, 0.5608576, 0.66174585]</td>\n",
       "      <td>0 2 25</td>\n",
       "    </tr>\n",
       "    <tr>\n",
       "      <th>8070</th>\n",
       "      <td>b01d35b4-bac6-11e8-b2b7-ac1f6b6435d0</td>\n",
       "      <td>0 1</td>\n",
       "      <td>1</td>\n",
       "      <td>0.645370</td>\n",
       "      <td>0</td>\n",
       "      <td>[0.8207029, 0.60282207]</td>\n",
       "      <td>0 1</td>\n",
       "    </tr>\n",
       "    <tr>\n",
       "      <th>8110</th>\n",
       "      <td>b102e028-bad5-11e8-b2b9-ac1f6b6435d0</td>\n",
       "      <td>6 25</td>\n",
       "      <td>1</td>\n",
       "      <td>0.645134</td>\n",
       "      <td>0</td>\n",
       "      <td>[0.6271552, 0.528829]</td>\n",
       "      <td>6 25</td>\n",
       "    </tr>\n",
       "    <tr>\n",
       "      <th>7552</th>\n",
       "      <td>a5278b68-bac7-11e8-b2b7-ac1f6b6435d0</td>\n",
       "      <td>0 23</td>\n",
       "      <td>1</td>\n",
       "      <td>0.645077</td>\n",
       "      <td>0</td>\n",
       "      <td>[0.69297016, 0.721381]</td>\n",
       "      <td>0 23</td>\n",
       "    </tr>\n",
       "  </tbody>\n",
       "</table>\n",
       "<p>1000 rows × 7 columns</p>\n",
       "</div>"
      ],
      "text/plain": [
       "                                         Id Predicted  is_single_label  \\\n",
       "8590   bb98d760-bace-11e8-b2b8-ac1f6b6435d0     19 25                1   \n",
       "10462  e498262c-bad6-11e8-b2b9-ac1f6b6435d0     19 25                1   \n",
       "4701   675aea42-bac6-11e8-b2b7-ac1f6b6435d0     21 25                1   \n",
       "10125  dd15543e-bacb-11e8-b2b8-ac1f6b6435d0     23 25                1   \n",
       "6262   891bf0e8-bacd-11e8-b2b8-ac1f6b6435d0      6 25                1   \n",
       "7878   ac52ddf4-bad4-11e8-b2b8-ac1f6b6435d0      6 25                1   \n",
       "10224  df6c1104-bad1-11e8-b2b8-ac1f6b6435d0     23 25                1   \n",
       "4403   615727e2-bad9-11e8-b2b9-ac1f6b6435d0     14 17                1   \n",
       "2644   3b1f4292-bad6-11e8-b2b9-ac1f6b6435d0     17 25                1   \n",
       "1399   1ecb1a9e-bad1-11e8-b2b8-ac1f6b6435d0     14 17                1   \n",
       "1903   29a5c236-bacf-11e8-b2b8-ac1f6b6435d0     21 23                1   \n",
       "8885   c20b05f6-bad7-11e8-b2b9-ac1f6b6435d0      6 25                1   \n",
       "2605   39ea1a5a-bad1-11e8-b2b8-ac1f6b6435d0     21 25                1   \n",
       "8066   b0029560-bad5-11e8-b2b9-ac1f6b6435d0     21 25                1   \n",
       "3917   56bb0b0c-bad7-11e8-b2b9-ac1f6b6435d0     14 17                1   \n",
       "5309   751e3c42-bad0-11e8-b2b8-ac1f6b6435d0      7 25                1   \n",
       "5629   7b9baa14-bacb-11e8-b2b8-ac1f6b6435d0     21 25                1   \n",
       "586    0cdd7e90-bad0-11e8-b2b8-ac1f6b6435d0     21 25                1   \n",
       "9777   d56bdc3a-bad0-11e8-b2b8-ac1f6b6435d0  14 17 25                1   \n",
       "8032   af2190b0-bada-11e8-b2b9-ac1f6b6435d0     14 17                1   \n",
       "11574  fd54700c-bac8-11e8-b2b8-ac1f6b6435d0     21 25                1   \n",
       "5440   77835652-bada-11e8-b2b9-ac1f6b6435d0     17 25                1   \n",
       "1674   24fb538a-bada-11e8-b2b9-ac1f6b6435d0     23 25                1   \n",
       "4976   6d442600-bad8-11e8-b2b9-ac1f6b6435d0     23 25                1   \n",
       "5603   7aedc878-bacf-11e8-b2b8-ac1f6b6435d0      0 25                1   \n",
       "296    067e9c5e-bad1-11e8-b2b8-ac1f6b6435d0     21 25                1   \n",
       "8409   b7dbc23c-bad2-11e8-b2b8-ac1f6b6435d0      6 25                1   \n",
       "1044   16c882a2-bacf-11e8-b2b8-ac1f6b6435d0   0 17 25                1   \n",
       "2152   2ff4ef92-bad7-11e8-b2b9-ac1f6b6435d0      5 23                1   \n",
       "8755   bf447b28-bad6-11e8-b2b9-ac1f6b6435d0     23 25                1   \n",
       "...                                     ...       ...              ...   \n",
       "6966   98845152-bad6-11e8-b2b9-ac1f6b6435d0      0 25                1   \n",
       "8779   bfc88896-bad6-11e8-b2b9-ac1f6b6435d0      6 25                1   \n",
       "5131   70b9d728-bad1-11e8-b2b8-ac1f6b6435d0     21 25                1   \n",
       "2555   39070ed4-bad8-11e8-b2b9-ac1f6b6435d0      0 19                1   \n",
       "2092   2e570c6e-bace-11e8-b2b8-ac1f6b6435d0      0 25                1   \n",
       "11547  fca95044-bad4-11e8-b2b8-ac1f6b6435d0      4 25                1   \n",
       "4888   6b74e00a-bad1-11e8-b2b8-ac1f6b6435d0      0 23                1   \n",
       "4899   6bac644c-bad3-11e8-b2b8-ac1f6b6435d0      6 25                1   \n",
       "3691   51cd57d6-bad1-11e8-b2b8-ac1f6b6435d0      0 25                1   \n",
       "899    13a7a9da-bad0-11e8-b2b8-ac1f6b6435d0      0 25                1   \n",
       "4242   5dc7da0e-bac5-11e8-b2b7-ac1f6b6435d0      0 24                1   \n",
       "410    08e20b06-bad7-11e8-b2b9-ac1f6b6435d0      6 25                1   \n",
       "8566   bb2bd8e0-bac9-11e8-b2b8-ac1f6b6435d0     21 25                1   \n",
       "1367   1e3a1e4a-bacc-11e8-b2b8-ac1f6b6435d0   4 14 16                1   \n",
       "1770   26dd6542-bacd-11e8-b2b8-ac1f6b6435d0      4 25                1   \n",
       "1695   256ddad4-bacd-11e8-b2b8-ac1f6b6435d0       0 1                1   \n",
       "5806   7f0e17b4-baca-11e8-b2b8-ac1f6b6435d0      0 19                1   \n",
       "1528   2182bacc-bacb-11e8-b2b8-ac1f6b6435d0     21 25                1   \n",
       "2550   38fc4fa4-bacd-11e8-b2b8-ac1f6b6435d0      0 25                1   \n",
       "8634   bca08c8e-bac9-11e8-b2b8-ac1f6b6435d0      4 26                1   \n",
       "1730   2613a980-bad9-11e8-b2b9-ac1f6b6435d0     21 25                1   \n",
       "8185   b2bdb316-bac6-11e8-b2b7-ac1f6b6435d0     18 21                1   \n",
       "5218   72d69f16-bac5-11e8-b2b7-ac1f6b6435d0     11 25                1   \n",
       "2663   3bb6f9a4-bad9-11e8-b2b9-ac1f6b6435d0      0 25                1   \n",
       "10613  e829aeb2-bad8-11e8-b2b9-ac1f6b6435d0   0 16 17                1   \n",
       "7136   9beacda4-bada-11e8-b2b9-ac1f6b6435d0       0 7                1   \n",
       "9152   c7f30a02-bacf-11e8-b2b8-ac1f6b6435d0    0 2 25                1   \n",
       "8070   b01d35b4-bac6-11e8-b2b7-ac1f6b6435d0       0 1                1   \n",
       "8110   b102e028-bad5-11e8-b2b9-ac1f6b6435d0      6 25                1   \n",
       "7552   a5278b68-bac7-11e8-b2b7-ac1f6b6435d0      0 23                1   \n",
       "\n",
       "       is_single_label_prob  is_single_from_cnn  \\\n",
       "8590               0.987850                   0   \n",
       "10462              0.986453                   0   \n",
       "4701               0.979564                   0   \n",
       "10125              0.975807                   0   \n",
       "6262               0.975766                   0   \n",
       "7878               0.961149                   0   \n",
       "10224              0.954591                   0   \n",
       "4403               0.952719                   0   \n",
       "2644               0.950322                   0   \n",
       "1399               0.947530                   0   \n",
       "1903               0.945362                   0   \n",
       "8885               0.944106                   0   \n",
       "2605               0.937477                   0   \n",
       "8066               0.930330                   0   \n",
       "3917               0.926872                   0   \n",
       "5309               0.925259                   0   \n",
       "5629               0.920391                   0   \n",
       "586                0.919886                   0   \n",
       "9777               0.917864                   0   \n",
       "8032               0.917455                   0   \n",
       "11574              0.917108                   0   \n",
       "5440               0.915107                   0   \n",
       "1674               0.911269                   0   \n",
       "4976               0.907994                   0   \n",
       "5603               0.905334                   0   \n",
       "296                0.905021                   0   \n",
       "8409               0.901154                   0   \n",
       "1044               0.901080                   0   \n",
       "2152               0.898933                   0   \n",
       "8755               0.897482                   0   \n",
       "...                     ...                 ...   \n",
       "6966               0.647509                   0   \n",
       "8779               0.647503                   0   \n",
       "5131               0.647371                   0   \n",
       "2555               0.647312                   0   \n",
       "2092               0.647276                   0   \n",
       "11547              0.647206                   0   \n",
       "4888               0.647047                   0   \n",
       "4899               0.646904                   0   \n",
       "3691               0.646862                   0   \n",
       "899                0.646771                   0   \n",
       "4242               0.646770                   0   \n",
       "410                0.646487                   0   \n",
       "8566               0.646475                   0   \n",
       "1367               0.646448                   0   \n",
       "1770               0.646435                   0   \n",
       "1695               0.646425                   0   \n",
       "5806               0.646361                   0   \n",
       "1528               0.646319                   0   \n",
       "2550               0.646318                   0   \n",
       "8634               0.646283                   0   \n",
       "1730               0.646247                   0   \n",
       "8185               0.646155                   0   \n",
       "5218               0.645766                   0   \n",
       "2663               0.645649                   0   \n",
       "10613              0.645639                   0   \n",
       "7136               0.645595                   0   \n",
       "9152               0.645466                   0   \n",
       "8070               0.645370                   0   \n",
       "8110               0.645134                   0   \n",
       "7552               0.645077                   0   \n",
       "\n",
       "                                       prob pick_label  \n",
       "8590                [0.6876748, 0.80890524]      19 25  \n",
       "10462              [0.47319576, 0.70961916]         25  \n",
       "4701                [0.8065429, 0.42942283]         21  \n",
       "10125              [0.17201893, 0.28663057]         25  \n",
       "6262                [0.2769938, 0.45020238]         25  \n",
       "7878                [0.31098738, 0.4553294]         25  \n",
       "10224              [0.65177554, 0.45591643]         23  \n",
       "4403               [0.47292715, 0.76711863]         17  \n",
       "2644                [0.47535184, 0.9463851]         25  \n",
       "1399                 [0.9838006, 0.7055471]      14 17  \n",
       "1903                 [0.6435547, 0.5940934]      21 23  \n",
       "8885                 [0.2982594, 0.6352566]         25  \n",
       "2605                [0.6694057, 0.93009573]      21 25  \n",
       "8066                 [0.8183223, 0.5084975]      21 25  \n",
       "3917                [0.9839436, 0.69276714]      14 17  \n",
       "5309                [0.4887517, 0.41717756]          7  \n",
       "5629                [0.8535775, 0.48438865]         21  \n",
       "586                 [0.69921654, 0.4148561]         21  \n",
       "9777    [0.5774182, 0.98445106, 0.44421545]      14 17  \n",
       "8032                [0.53918284, 0.9999869]      14 17  \n",
       "11574                [0.9321787, 0.4184388]         21  \n",
       "5440                 [0.9999851, 0.9029339]      17 25  \n",
       "1674                [0.4316075, 0.26323694]         23  \n",
       "4976               [0.76062584, 0.50024253]      23 25  \n",
       "5603                [0.9659208, 0.51245433]       0 25  \n",
       "296                 [0.5161144, 0.58769464]      21 25  \n",
       "8409                [0.2781727, 0.41744033]         25  \n",
       "1044   [0.97400075, 0.73488593, 0.68004626]    0 17 25  \n",
       "2152                [0.35992035, 0.5247102]         23  \n",
       "8755                 [0.6883344, 0.6263292]      23 25  \n",
       "...                                     ...        ...  \n",
       "6966                 [0.5116558, 0.9579687]       0 25  \n",
       "8779                [0.2856389, 0.71631426]         25  \n",
       "5131               [0.51118106, 0.73832357]      21 25  \n",
       "2555                 [0.80530345, 0.439119]          0  \n",
       "2092               [0.55284595, 0.75838095]       0 25  \n",
       "11547              [0.96464723, 0.81083727]       4 25  \n",
       "4888                 [0.5739115, 0.9153664]       0 23  \n",
       "4899                [0.38920006, 0.6774222]         25  \n",
       "3691                [0.7684647, 0.42921132]          0  \n",
       "899                  [0.6381996, 0.6753608]       0 25  \n",
       "4242                 [0.6025009, 0.5767877]       0 24  \n",
       "410                  [0.3758314, 0.7891484]         25  \n",
       "8566                [0.5372342, 0.71264267]      21 25  \n",
       "1367      [0.5187011, 0.6714395, 0.9136932]    4 14 16  \n",
       "1770                [0.5924667, 0.44955888]          4  \n",
       "1695                 [0.6535694, 0.8715394]        0 1  \n",
       "5806               [0.85476637, 0.72839457]       0 19  \n",
       "1528                [0.7749328, 0.49278697]         21  \n",
       "2550                 [0.9296214, 0.6677797]       0 25  \n",
       "8634                [0.89531773, 0.6056393]       4 26  \n",
       "1730                 [0.5105262, 0.6482155]      21 25  \n",
       "8185                [0.64574456, 0.9531689]      18 21  \n",
       "5218                 [0.67644787, 0.534001]      11 25  \n",
       "2663                  [0.80792075, 0.98705]       0 25  \n",
       "10613     [0.6035545, 0.6990418, 0.5337303]    0 16 17  \n",
       "7136                 [0.8592723, 0.9448515]        0 7  \n",
       "9152     [0.5803751, 0.5608576, 0.66174585]     0 2 25  \n",
       "8070                [0.8207029, 0.60282207]        0 1  \n",
       "8110                  [0.6271552, 0.528829]       6 25  \n",
       "7552                 [0.69297016, 0.721381]       0 23  \n",
       "\n",
       "[1000 rows x 7 columns]"
      ]
     },
     "execution_count": 222,
     "metadata": {},
     "output_type": "execute_result"
    }
   ],
   "source": [
    "df_check"
   ]
  },
  {
   "cell_type": "code",
   "execution_count": 223,
   "metadata": {},
   "outputs": [
    {
     "name": "stdout",
     "output_type": "stream",
     "text": [
      "replace:  407\n"
     ]
    }
   ],
   "source": [
    "# replace sub\n",
    "cnt = 0\n",
    "sub = pd.read_csv('submissions/582_best_model_with_leak259.csv.gz', compression='gzip')\n",
    "for i in sub.index:\n",
    "    _fname = sub.loc[i, 'Id']\n",
    "    _raw_label = sub.loc[i, 'Predicted']\n",
    "    if _fname in df_check.Id.tolist():\n",
    "        _replace = df_check.loc[df_check.Id==_fname, 'pick_label'].values[0]\n",
    "        if _replace!=_raw_label:\n",
    "            sub.loc[i, 'Predicted'] = _replace\n",
    "            cnt += 1\n",
    "print('replace: ', cnt)"
   ]
  },
  {
   "cell_type": "code",
   "execution_count": 230,
   "metadata": {
    "scrolled": true
   },
   "outputs": [],
   "source": [
    "sub.to_csv('submissions/best_model_replace_with_single_label_v1.csv.gz', compression='gzip', index=False)"
   ]
  },
  {
   "cell_type": "code",
   "execution_count": null,
   "metadata": {
    "scrolled": true
   },
   "outputs": [],
   "source": []
  },
  {
   "cell_type": "code",
   "execution_count": null,
   "metadata": {},
   "outputs": [],
   "source": []
  },
  {
   "cell_type": "code",
   "execution_count": 110,
   "metadata": {},
   "outputs": [],
   "source": [
    "# load preds\n",
    "with open('prediction/1222_v2_blending1234_2345_3456_4567_5678.pkl', 'rb') as f:\n",
    "    null_z, null_a, _preds_test0, _preds_test1, _preds_test2, \\\n",
    "    null_b, null_c, _fname_test0 = pickle.load(f)\n",
    "idx = np.argsort(_fname_test0)\n",
    "_preds_test0 = _preds_test0[idx, :]\n",
    "_preds_test1 = _preds_test1[idx, :]\n",
    "_preds_test2 = _preds_test2[idx, :]\n",
    "_preds_test = (_preds_test0 + _preds_test1 + _preds_test2) / 3\n",
    "\n",
    "\n",
    "# with open('prediction/RESNET18_v2_seed1234.pkl', 'rb') as f:\n",
    "#     preds_test3, null_d, fname_test1 = pickle.load(f)\n",
    "# idx = np.argsort(fname_test1)\n",
    "# preds_test += preds_test3[idx, :]\n",
    "\n",
    "#preds_test = preds_test / 4\n",
    "_fname_test = np.array(_fname_test0)[idx].tolist()"
   ]
  },
  {
   "cell_type": "code",
   "execution_count": 117,
   "metadata": {
    "scrolled": true
   },
   "outputs": [],
   "source": [
    "prob_cnn = dict((_fname, _preds_test[i, :]) for i, _fname in enumerate(_fname_test))"
   ]
  },
  {
   "cell_type": "code",
   "execution_count": null,
   "metadata": {},
   "outputs": [],
   "source": []
  },
  {
   "cell_type": "code",
   "execution_count": 94,
   "metadata": {},
   "outputs": [],
   "source": [
    "# loading\n",
    "with open('prediction/1222_v2_blending1234_2345_3456.pkl', 'rb') as f:\n",
    "    _, thresholds_ensemble = pickle.load(f)\n",
    "\n",
    "with open('prediction/1222_v2_seed2345.pkl', 'rb') as f:\n",
    "    preds_test3, thresholds_single, fname_test1 = pickle.load(f)\n",
    "idx = np.argsort(fname_test1)\n",
    "preds_test3 = preds_test3[idx, :]"
   ]
  },
  {
   "cell_type": "code",
   "execution_count": null,
   "metadata": {
    "scrolled": true
   },
   "outputs": [],
   "source": []
  },
  {
   "cell_type": "code",
   "execution_count": null,
   "metadata": {},
   "outputs": [],
   "source": []
  },
  {
   "cell_type": "code",
   "execution_count": 95,
   "metadata": {},
   "outputs": [],
   "source": [
    "# predict class using class-specific-thresholds\n",
    "preds_test01 = (preds_test > thresholds_ensemble).astype(np.int)\n",
    "\n",
    "# predict class using another model, to fillna for the ensemble model\n",
    "preds_test02 = (preds_test3 > thresholds_single).astype(np.int)\n",
    "\n",
    "# predict class using threshold=0.3\n",
    "#preds_test01 = (torch.sigmoid(torch.from_numpy(preds_test)) > 0.3).numpy().astype(np.int)"
   ]
  },
  {
   "cell_type": "code",
   "execution_count": 100,
   "metadata": {
    "scrolled": true
   },
   "outputs": [],
   "source": [
    "## fill na for the ensemble model by single model's prediction for those na images\n",
    "preds_test01[(preds_test01.sum(axis=1)==0), :] = preds_test02[(preds_test01.sum(axis=1)==0), :]"
   ]
  },
  {
   "cell_type": "code",
   "execution_count": 23,
   "metadata": {},
   "outputs": [],
   "source": [
    "def encode_2str(arr, fillna=True):\n",
    "    s = ''\n",
    "    for i in range(28):\n",
    "        _s = arr[i]\n",
    "        if _s==1:\n",
    "            if s=='':\n",
    "                s = str(i)\n",
    "            else:\n",
    "                s += ' '\n",
    "                s += str(i)\n",
    "    if s=='':#sample that predict 0 for all 28 classes\n",
    "        if fillna:\n",
    "            s = np.random.choice(['0', '25'], 1)[0]\n",
    "        else:\n",
    "            s = '-1'\n",
    "    return s"
   ]
  },
  {
   "cell_type": "code",
   "execution_count": 103,
   "metadata": {},
   "outputs": [],
   "source": [
    "output = []\n",
    "for pred in preds_test01:\n",
    "    output.append(encode_2str(pred, fillna=True))#False"
   ]
  },
  {
   "cell_type": "code",
   "execution_count": null,
   "metadata": {
    "scrolled": true
   },
   "outputs": [],
   "source": []
  },
  {
   "cell_type": "code",
   "execution_count": 51,
   "metadata": {},
   "outputs": [],
   "source": [
    "# for single model\n",
    "preds_test01 = (preds_test > thresholds).astype(np.int)\n",
    "#preds_test01 = (torch.sigmoid(torch.from_numpy(preds_test)) > 0.4).numpy().astype(np.int)\n",
    "\n",
    "output = []\n",
    "for pred in preds_test01:\n",
    "    output.append(encode_2str(pred, fillna=True))#False"
   ]
  },
  {
   "cell_type": "code",
   "execution_count": 52,
   "metadata": {
    "scrolled": true
   },
   "outputs": [
    {
     "data": {
      "text/plain": [
       "0               1110\n",
       "0 25             988\n",
       "25               754\n",
       "23               425\n",
       "21               403\n",
       "0 2              361\n",
       "7                333\n",
       "0 21             326\n",
       "0 21 25          280\n",
       "21 25            248\n",
       "0 7              215\n",
       "2                214\n",
       "5                195\n",
       "4                179\n",
       "6                175\n",
       "0 5              174\n",
       "11               172\n",
       "14               165\n",
       "0 2 25           162\n",
       "19               137\n",
       "0 23             131\n",
       "3                124\n",
       "0 1              121\n",
       "0 19             118\n",
       "1                111\n",
       "2 25             103\n",
       "0 3               89\n",
       "23 25             87\n",
       "18                86\n",
       "0 7 25            69\n",
       "                ... \n",
       "0 1 23 25          1\n",
       "0 2 15             1\n",
       "0 1 21 22          1\n",
       "7 21 22 25         1\n",
       "14 16 19           1\n",
       "5 7 25             1\n",
       "3 5 21             1\n",
       "0 15               1\n",
       "1 6 21             1\n",
       "16 21 22 25        1\n",
       "0 11 21 25         1\n",
       "0 5 12             1\n",
       "0 2 20             1\n",
       "0 3 19             1\n",
       "2 14 16 17         1\n",
       "16 18 25           1\n",
       "14 17 18 21        1\n",
       "0 19 23 25         1\n",
       "1 26               1\n",
       "2 24               1\n",
       "16 17 18           1\n",
       "4 13 22            1\n",
       "0 7 13 25          1\n",
       "2 5 24             1\n",
       "0 2 16 21 25       1\n",
       "0 2 19 26          1\n",
       "6 7 21             1\n",
       "4 7 21 22 25       1\n",
       "0 2 7 16           1\n",
       "14 22              1\n",
       "Length: 681, dtype: int64"
      ]
     },
     "execution_count": 52,
     "metadata": {},
     "output_type": "execute_result"
    }
   ],
   "source": [
    "pd.value_counts(output)"
   ]
  },
  {
   "cell_type": "code",
   "execution_count": null,
   "metadata": {},
   "outputs": [],
   "source": []
  },
  {
   "cell_type": "code",
   "execution_count": null,
   "metadata": {
    "scrolled": true
   },
   "outputs": [],
   "source": []
  },
  {
   "cell_type": "code",
   "execution_count": null,
   "metadata": {},
   "outputs": [],
   "source": []
  },
  {
   "cell_type": "markdown",
   "metadata": {},
   "source": [
    "## submit"
   ]
  },
  {
   "cell_type": "code",
   "execution_count": 53,
   "metadata": {},
   "outputs": [],
   "source": [
    "sub = pd.DataFrame({'Id': fname_test, 'Predicted':output}, columns=['Id', 'Predicted'])\n",
    "sub.sort_values(by=['Id'], inplace=True)\n",
    "sub.reset_index(drop=True, inplace=True)"
   ]
  },
  {
   "cell_type": "code",
   "execution_count": 54,
   "metadata": {
    "scrolled": true
   },
   "outputs": [
    {
     "data": {
      "text/html": [
       "<div>\n",
       "<style scoped>\n",
       "    .dataframe tbody tr th:only-of-type {\n",
       "        vertical-align: middle;\n",
       "    }\n",
       "\n",
       "    .dataframe tbody tr th {\n",
       "        vertical-align: top;\n",
       "    }\n",
       "\n",
       "    .dataframe thead th {\n",
       "        text-align: right;\n",
       "    }\n",
       "</style>\n",
       "<table border=\"1\" class=\"dataframe\">\n",
       "  <thead>\n",
       "    <tr style=\"text-align: right;\">\n",
       "      <th></th>\n",
       "      <th>Id</th>\n",
       "      <th>Predicted</th>\n",
       "    </tr>\n",
       "  </thead>\n",
       "  <tbody>\n",
       "    <tr>\n",
       "      <th>0</th>\n",
       "      <td>00008af0-bad0-11e8-b2b8-ac1f6b6435d0</td>\n",
       "      <td>2</td>\n",
       "    </tr>\n",
       "    <tr>\n",
       "      <th>1</th>\n",
       "      <td>0000a892-bacf-11e8-b2b8-ac1f6b6435d0</td>\n",
       "      <td>5 25</td>\n",
       "    </tr>\n",
       "    <tr>\n",
       "      <th>2</th>\n",
       "      <td>0006faa6-bac7-11e8-b2b7-ac1f6b6435d0</td>\n",
       "      <td>0 5 25</td>\n",
       "    </tr>\n",
       "    <tr>\n",
       "      <th>3</th>\n",
       "      <td>0008baca-bad7-11e8-b2b9-ac1f6b6435d0</td>\n",
       "      <td>0 17 18</td>\n",
       "    </tr>\n",
       "    <tr>\n",
       "      <th>4</th>\n",
       "      <td>000cce7e-bad4-11e8-b2b8-ac1f6b6435d0</td>\n",
       "      <td>25</td>\n",
       "    </tr>\n",
       "  </tbody>\n",
       "</table>\n",
       "</div>"
      ],
      "text/plain": [
       "                                     Id Predicted\n",
       "0  00008af0-bad0-11e8-b2b8-ac1f6b6435d0         2\n",
       "1  0000a892-bacf-11e8-b2b8-ac1f6b6435d0      5 25\n",
       "2  0006faa6-bac7-11e8-b2b7-ac1f6b6435d0    0 5 25\n",
       "3  0008baca-bad7-11e8-b2b9-ac1f6b6435d0   0 17 18\n",
       "4  000cce7e-bad4-11e8-b2b8-ac1f6b6435d0        25"
      ]
     },
     "execution_count": 54,
     "metadata": {},
     "output_type": "execute_result"
    }
   ],
   "source": [
    "sub.head(5)"
   ]
  },
  {
   "cell_type": "code",
   "execution_count": 55,
   "metadata": {},
   "outputs": [],
   "source": [
    "#print(sub_name)\n",
    "sub.to_csv('submissions/RESNET34_256_v2_seed1234.csv.gz', compression='gzip', index=False)"
   ]
  },
  {
   "cell_type": "code",
   "execution_count": 32,
   "metadata": {
    "scrolled": true
   },
   "outputs": [
    {
     "data": {
      "text/plain": [
       "0 25           1254\n",
       "0              1236\n",
       "25             1119\n",
       "23              434\n",
       "21              389\n",
       "7               323\n",
       "21 25           281\n",
       "0 2             271\n",
       "0 21            245\n",
       "0 21 25         245\n",
       "2               226\n",
       "5               221\n",
       "4               198\n",
       "14              182\n",
       "0 7             180\n",
       "6               174\n",
       "19              166\n",
       "0 5             160\n",
       "11              151\n",
       "0 19            144\n",
       "3               132\n",
       "0 2 25          129\n",
       "0 23            127\n",
       "23 25           125\n",
       "1               104\n",
       "2 25            103\n",
       "6 25            101\n",
       "0 1              91\n",
       "7 25             87\n",
       "0 3              84\n",
       "               ... \n",
       "4 13 22           1\n",
       "0 12 23           1\n",
       "3 21 23 25        1\n",
       "1 7               1\n",
       "12 14             1\n",
       "3 5 21            1\n",
       "0 5 26            1\n",
       "0 1 22            1\n",
       "5 18              1\n",
       "0 1 19            1\n",
       "18 23 25          1\n",
       "12 21 22 25       1\n",
       "11 21             1\n",
       "0 22 23 25        1\n",
       "0 6 23 25         1\n",
       "7 17 25           1\n",
       "2 5 6 25          1\n",
       "5 24 25           1\n",
       "6 9 22 25         1\n",
       "0 16 19 25        1\n",
       "2 20              1\n",
       "14 17 21          1\n",
       "4 23 25           1\n",
       "13 18             1\n",
       "14 17 18 21       1\n",
       "2 6 21 25         1\n",
       "0 5 12            1\n",
       "0 2 20            1\n",
       "7 16 25           1\n",
       "0 11 19           1\n",
       "Name: Predicted, Length: 494, dtype: int64"
      ]
     },
     "execution_count": 32,
     "metadata": {},
     "output_type": "execute_result"
    }
   ],
   "source": [
    "sub.Predicted.value_counts()"
   ]
  },
  {
   "cell_type": "code",
   "execution_count": null,
   "metadata": {
    "scrolled": true
   },
   "outputs": [],
   "source": []
  },
  {
   "cell_type": "code",
   "execution_count": null,
   "metadata": {},
   "outputs": [],
   "source": []
  },
  {
   "cell_type": "markdown",
   "metadata": {},
   "source": [
    "## is there leak images?"
   ]
  },
  {
   "cell_type": "code",
   "execution_count": 2,
   "metadata": {},
   "outputs": [],
   "source": [
    "import pandas as pd\n",
    "import numpy as np"
   ]
  },
  {
   "cell_type": "code",
   "execution_count": 3,
   "metadata": {},
   "outputs": [],
   "source": [
    "leak = pd.read_csv('data/raw/leak/TestEtraMatchingUnder_259_R14_G12_B10.csv')\n",
    "external_data = pd.read_csv('data/raw/external_data.csv')"
   ]
  },
  {
   "cell_type": "code",
   "execution_count": 23,
   "metadata": {
    "scrolled": true
   },
   "outputs": [],
   "source": [
    "leak['Extra'] = ['_'.join(fname.split('_')[1:]) for fname in leak.Extra]"
   ]
  },
  {
   "cell_type": "code",
   "execution_count": 30,
   "metadata": {
    "scrolled": true
   },
   "outputs": [
    {
     "data": {
      "text/html": [
       "<div>\n",
       "<style scoped>\n",
       "    .dataframe tbody tr th:only-of-type {\n",
       "        vertical-align: middle;\n",
       "    }\n",
       "\n",
       "    .dataframe tbody tr th {\n",
       "        vertical-align: top;\n",
       "    }\n",
       "\n",
       "    .dataframe thead th {\n",
       "        text-align: right;\n",
       "    }\n",
       "</style>\n",
       "<table border=\"1\" class=\"dataframe\">\n",
       "  <thead>\n",
       "    <tr style=\"text-align: right;\">\n",
       "      <th></th>\n",
       "      <th>Extra</th>\n",
       "      <th>Test</th>\n",
       "    </tr>\n",
       "  </thead>\n",
       "  <tbody>\n",
       "    <tr>\n",
       "      <th>0</th>\n",
       "      <td>44431_556_B9_1</td>\n",
       "      <td>7729b27c-bacc-11e8-b2b8-ac1f6b6435d0</td>\n",
       "    </tr>\n",
       "    <tr>\n",
       "      <th>1</th>\n",
       "      <td>35086_383_E8_7</td>\n",
       "      <td>5661665e-bacf-11e8-b2b8-ac1f6b6435d0</td>\n",
       "    </tr>\n",
       "  </tbody>\n",
       "</table>\n",
       "</div>"
      ],
      "text/plain": [
       "            Extra                                  Test\n",
       "0  44431_556_B9_1  7729b27c-bacc-11e8-b2b8-ac1f6b6435d0\n",
       "1  35086_383_E8_7  5661665e-bacf-11e8-b2b8-ac1f6b6435d0"
      ]
     },
     "execution_count": 30,
     "metadata": {},
     "output_type": "execute_result"
    }
   ],
   "source": [
    "leak = leak[['Extra', 'Test']].drop_duplicates('Test')\n",
    "leak.head(2)"
   ]
  },
  {
   "cell_type": "code",
   "execution_count": 35,
   "metadata": {
    "scrolled": true
   },
   "outputs": [
    {
     "data": {
      "text/html": [
       "<div>\n",
       "<style scoped>\n",
       "    .dataframe tbody tr th:only-of-type {\n",
       "        vertical-align: middle;\n",
       "    }\n",
       "\n",
       "    .dataframe tbody tr th {\n",
       "        vertical-align: top;\n",
       "    }\n",
       "\n",
       "    .dataframe thead th {\n",
       "        text-align: right;\n",
       "    }\n",
       "</style>\n",
       "<table border=\"1\" class=\"dataframe\">\n",
       "  <thead>\n",
       "    <tr style=\"text-align: right;\">\n",
       "      <th></th>\n",
       "      <th>Extra</th>\n",
       "      <th>Target</th>\n",
       "    </tr>\n",
       "  </thead>\n",
       "  <tbody>\n",
       "    <tr>\n",
       "      <th>0</th>\n",
       "      <td>10580_1610_C1_1</td>\n",
       "      <td>13 25 0 2 21</td>\n",
       "    </tr>\n",
       "    <tr>\n",
       "      <th>1</th>\n",
       "      <td>10580_1610_C1_2</td>\n",
       "      <td>13 25 0 2 21</td>\n",
       "    </tr>\n",
       "  </tbody>\n",
       "</table>\n",
       "</div>"
      ],
      "text/plain": [
       "             Extra        Target\n",
       "0  10580_1610_C1_1  13 25 0 2 21\n",
       "1  10580_1610_C1_2  13 25 0 2 21"
      ]
     },
     "execution_count": 35,
     "metadata": {},
     "output_type": "execute_result"
    }
   ],
   "source": [
    "external_data = external_data.rename(columns={'Id': 'Extra'})\n",
    "external_data.head(2)"
   ]
  },
  {
   "cell_type": "code",
   "execution_count": 37,
   "metadata": {
    "scrolled": true
   },
   "outputs": [],
   "source": [
    "leak = leak.merge(external_data, on=['Extra'], how='left')[['Test', 'Target']]"
   ]
  },
  {
   "cell_type": "code",
   "execution_count": 39,
   "metadata": {
    "scrolled": true
   },
   "outputs": [
    {
     "data": {
      "text/html": [
       "<div>\n",
       "<style scoped>\n",
       "    .dataframe tbody tr th:only-of-type {\n",
       "        vertical-align: middle;\n",
       "    }\n",
       "\n",
       "    .dataframe tbody tr th {\n",
       "        vertical-align: top;\n",
       "    }\n",
       "\n",
       "    .dataframe thead th {\n",
       "        text-align: right;\n",
       "    }\n",
       "</style>\n",
       "<table border=\"1\" class=\"dataframe\">\n",
       "  <thead>\n",
       "    <tr style=\"text-align: right;\">\n",
       "      <th></th>\n",
       "      <th>Test</th>\n",
       "      <th>Target</th>\n",
       "    </tr>\n",
       "  </thead>\n",
       "  <tbody>\n",
       "    <tr>\n",
       "      <th>0</th>\n",
       "      <td>7729b27c-bacc-11e8-b2b8-ac1f6b6435d0</td>\n",
       "      <td>25 18 0</td>\n",
       "    </tr>\n",
       "    <tr>\n",
       "      <th>1</th>\n",
       "      <td>5661665e-bacf-11e8-b2b8-ac1f6b6435d0</td>\n",
       "      <td>25 17 0</td>\n",
       "    </tr>\n",
       "  </tbody>\n",
       "</table>\n",
       "</div>"
      ],
      "text/plain": [
       "                                   Test   Target\n",
       "0  7729b27c-bacc-11e8-b2b8-ac1f6b6435d0  25 18 0\n",
       "1  5661665e-bacf-11e8-b2b8-ac1f6b6435d0  25 17 0"
      ]
     },
     "execution_count": 39,
     "metadata": {},
     "output_type": "execute_result"
    }
   ],
   "source": [
    "leak.head(2)"
   ]
  },
  {
   "cell_type": "code",
   "execution_count": 72,
   "metadata": {},
   "outputs": [
    {
     "data": {
      "text/html": [
       "<div>\n",
       "<style scoped>\n",
       "    .dataframe tbody tr th:only-of-type {\n",
       "        vertical-align: middle;\n",
       "    }\n",
       "\n",
       "    .dataframe tbody tr th {\n",
       "        vertical-align: top;\n",
       "    }\n",
       "\n",
       "    .dataframe thead th {\n",
       "        text-align: right;\n",
       "    }\n",
       "</style>\n",
       "<table border=\"1\" class=\"dataframe\">\n",
       "  <thead>\n",
       "    <tr style=\"text-align: right;\">\n",
       "      <th></th>\n",
       "      <th>Id</th>\n",
       "      <th>Predicted</th>\n",
       "    </tr>\n",
       "  </thead>\n",
       "  <tbody>\n",
       "    <tr>\n",
       "      <th>0</th>\n",
       "      <td>00008af0-bad0-11e8-b2b8-ac1f6b6435d0</td>\n",
       "      <td>2</td>\n",
       "    </tr>\n",
       "    <tr>\n",
       "      <th>1</th>\n",
       "      <td>0000a892-bacf-11e8-b2b8-ac1f6b6435d0</td>\n",
       "      <td>5</td>\n",
       "    </tr>\n",
       "  </tbody>\n",
       "</table>\n",
       "</div>"
      ],
      "text/plain": [
       "                                     Id Predicted\n",
       "0  00008af0-bad0-11e8-b2b8-ac1f6b6435d0         2\n",
       "1  0000a892-bacf-11e8-b2b8-ac1f6b6435d0         5"
      ]
     },
     "execution_count": 72,
     "metadata": {},
     "output_type": "execute_result"
    }
   ],
   "source": [
    "# best LB by model\n",
    "sub = pd.read_csv('submissions/577_blending_seed1234_2345_3456_fillna_seed2345.csv.gz')\n",
    "sub.head(2)"
   ]
  },
  {
   "cell_type": "code",
   "execution_count": 73,
   "metadata": {},
   "outputs": [
    {
     "name": "stdout",
     "output_type": "stream",
     "text": [
      "['2', '23']  vs  ['25']\n",
      "['0', '21', '23']  vs  ['0', '21', '25']\n",
      "['0', '14']  vs  ['0', '14', '25']\n",
      "['0']  vs  ['0', '16']\n",
      "['21']  vs  ['0', '16', '21']\n",
      "['1', '2']  vs  ['2']\n",
      "['12', '13']  vs  ['13']\n",
      "['2', '21', '26', '4']  vs  ['2', '26', '4']\n",
      "['0', '25']  vs  ['0', '25', '6']\n",
      "['14', '16', '25']  vs  ['16', '25']\n",
      "['0', '21', '22']  vs  ['21', '25', '7']\n",
      "['25']  vs  ['16', '21', '25']\n",
      "['13']  vs  ['13', '21']\n",
      "['13']  vs  ['0', '19']\n",
      "['13']  vs  ['0', '25', '5']\n",
      "['21', '25']  vs  ['25', '7']\n",
      "['2', '22']  vs  ['0', '22']\n",
      "['21', '4']  vs  ['4']\n",
      "['21', '4']  vs  ['4']\n",
      "['2']  vs  ['7']\n",
      "['11', '2']  vs  ['0', '11', '2']\n",
      "['0', '19']  vs  ['18', '19']\n",
      "['0', '19']  vs  ['19']\n",
      "['0', '19']  vs  ['18', '19', '5']\n",
      "['12', '21', '25']  vs  ['12', '25']\n",
      "['0', '14']  vs  ['0', '14', '16']\n",
      "['0', '14']  vs  ['14', '16']\n",
      "['1', '5']  vs  ['1']\n",
      "['0']  vs  ['25', '4', '5']\n",
      "['21']  vs  ['0', '21']\n",
      "['0']  vs  ['0', '16']\n",
      "['14', '25']  vs  ['0', '14']\n",
      "['14']  vs  ['0', '14']\n",
      "['14']  vs  ['0', '14', '16']\n",
      "['25']  vs  ['21', '22', '25']\n",
      "['1', '4']  vs  ['0', '1', '25', '4']\n",
      "['16']  vs  ['16', '5']\n",
      "['0', '25', '5']  vs  ['0', '5']\n",
      "['25']  vs  ['14', '16', '25']\n",
      "['27']  vs  ['25']\n",
      "['27']  vs  ['0', '27']\n",
      "['25']  vs  ['21', '25']\n",
      "['2']  vs  ['2', '25', '6']\n",
      "['2']  vs  ['12', '2', '25']\n",
      "['21', '7']  vs  ['13', '21']\n",
      "['0', '1', '7']  vs  ['0', '18']\n",
      "['16', '25']  vs  ['16']\n",
      "['25', '5', '6']  vs  ['25', '5']\n",
      "['11', '16', '21']  vs  ['21']\n",
      "['0', '5', '7']  vs  ['25', '5']\n",
      "['12', '21', '22']  vs  ['21']\n",
      "['14']  vs  ['14', '16']\n",
      "['12', '2']  vs  ['12']\n",
      "['21', '4']  vs  ['4', '6']\n",
      "['0']  vs  ['0', '2']\n",
      "['12']  vs  ['0', '12']\n",
      "['17', '18']  vs  ['17']\n",
      "['0']  vs  ['0', '16', '25']\n",
      "['13']  vs  ['0', '13']\n",
      "['13']  vs  ['0', '13']\n",
      "['25']  vs  ['22', '25']\n",
      "['2']  vs  ['0', '2']\n",
      "['0', '21', '22']  vs  ['21']\n",
      "['0', '21', '22']  vs  ['21']\n",
      "['15', '25']  vs  ['13', '25']\n",
      "['17', '21', '4']  vs  ['21', '4']\n",
      "['13', '25']  vs  ['21', '25']\n",
      "['0', '21', '25']  vs  ['21', '25', '4']\n",
      "['0', '25']  vs  ['25', '5']\n",
      "['16']  vs  ['0']\n",
      "['0', '22']  vs  ['13', '22']\n",
      "['0', '22']  vs  ['12', '22']\n",
      "['0', '5']  vs  ['5']\n",
      "['0']  vs  ['0', '16']\n",
      "['0', '19']  vs  ['0', '25']\n",
      "['4']  vs  ['14']\n",
      "['4']  vs  ['14']\n",
      "['0', '25']  vs  ['0', '7']\n",
      "['0', '21']  vs  ['0', '12', '21', '25']\n",
      "['25']  vs  ['21', '25']\n",
      "['0']  vs  ['0', '4']\n",
      "['1', '2']  vs  ['0', '1', '2']\n",
      "['25']  vs  ['0', '25', '4', '5']\n",
      "['25', '6', '7']  vs  ['0', '25', '7']\n",
      "['0']  vs  ['0', '25']\n",
      "['0', '16', '25']  vs  ['0', '14', '16']\n",
      "['22', '7']  vs  ['7']\n",
      "['21', '23']  vs  ['2', '23', '25']\n",
      "['0', '7']  vs  ['7']\n",
      "['0', '23']  vs  ['23']\n",
      "['24', '5']  vs  ['5']\n",
      "['22']  vs  ['0']\n",
      "['1', '2']  vs  ['0', '1']\n",
      "['2']  vs  ['0']\n",
      "['11', '19']  vs  ['16', '19']\n",
      "['0', '16', '25']  vs  ['0', '14', '16', '25']\n",
      "['2']  vs  ['3']\n",
      "['2']  vs  ['2', '3']\n",
      "['14', '16', '25']  vs  ['14', '25']\n",
      "['16']  vs  ['0', '16']\n",
      "['0', '25']  vs  ['2']\n",
      "['16']  vs  ['0', '16', '25']\n",
      "['14', '16']  vs  ['14']\n",
      "['23', '5']  vs  ['5']\n",
      "['0', '1', '16']  vs  ['0', '16']\n",
      "['11', '25']  vs  ['14', '25', '7']\n",
      "['0', '22', '7']  vs  ['25', '4']\n",
      "['0', '22', '7']  vs  ['25', '4', '5']\n",
      "['25']  vs  ['0', '25']\n",
      "['25']  vs  ['16', '25']\n",
      "['18', '25']  vs  ['18']\n",
      "['0', '21', '25']  vs  ['5']\n",
      "['22', '3']  vs  ['14']\n",
      "['0', '25']  vs  ['25']\n",
      "['14']  vs  ['0', '14']\n",
      "['18', '25']  vs  ['18', '19', '25']\n",
      "['0', '12', '25']  vs  ['12']\n",
      "['4', '7']  vs  ['4']\n",
      "['23', '4']  vs  ['4']\n",
      "['0', '21', '25']  vs  ['0', '25', '3']\n",
      "['20', '25']  vs  ['0', '20']\n",
      "['20', '25']  vs  ['0', '20', '23', '25']\n",
      "['2', '21']  vs  ['0', '2']\n",
      "['25', '7']  vs  ['25']\n",
      "['0']  vs  ['5']\n",
      "['0', '14', '16', '17']  vs  ['0', '14', '16']\n",
      "['1', '25']  vs  ['1']\n",
      "['25']  vs  ['0', '25']\n",
      "['16']  vs  ['0', '25']\n",
      "['0', '12', '25']  vs  ['0', '12', '21', '25']\n",
      "['0']  vs  ['0', '16', '25']\n",
      "['25', '4']  vs  ['2', '4']\n",
      "['0', '19', '25']  vs  ['0', '19']\n",
      "['7']  vs  ['0']\n",
      "['12', '13', '25']  vs  ['12', '13']\n",
      "['2']  vs  ['4']\n",
      "['0']  vs  ['0', '16']\n",
      "['0', '5']  vs  ['0']\n",
      "['2']  vs  ['0', '3']\n",
      "['17', '2', '25']  vs  ['0', '17', '2', '25']\n",
      "['14', '17', '23']  vs  ['14', '17']\n",
      "['22', '23']  vs  ['23']\n",
      "['16', '25']  vs  ['0', '16', '17', '25']\n",
      "['21', '25', '6']  vs  ['21', '25']\n",
      "['12', '25', '3']  vs  ['21', '25']\n"
     ]
    },
    {
     "data": {
      "text/plain": [
       "145"
      ]
     },
     "execution_count": 73,
     "metadata": {},
     "output_type": "execute_result"
    }
   ],
   "source": [
    "cnt = 0\n",
    "for i in leak.index:\n",
    "    fname = leak.loc[i, 'Test']\n",
    "    leak_target = leak.loc[i, 'Target']\n",
    "    pred_target = sub.loc[sub.Id==fname, 'Predicted'].values[0]\n",
    "    if sorted(leak_target.split(' ')) != sorted(pred_target.split(' ')):\n",
    "        print(sorted(leak_target.split(' ')), ' vs ', sorted(pred_target.split(' ')))\n",
    "        sub.loc[sub.Id==fname, 'Predicted'] = leak_target\n",
    "        cnt += 1\n",
    "cnt"
   ]
  },
  {
   "cell_type": "code",
   "execution_count": 78,
   "metadata": {},
   "outputs": [],
   "source": [
    "#sub2 = sub.copy()"
   ]
  },
  {
   "cell_type": "code",
   "execution_count": 77,
   "metadata": {},
   "outputs": [],
   "source": [
    "#(sub2.Predicted!=sub.Predicted).sum()"
   ]
  },
  {
   "cell_type": "code",
   "execution_count": 60,
   "metadata": {},
   "outputs": [],
   "source": [
    "sub.to_csv('submissions/best_model_with_leak259.csv.gz', compression='gzip', index=False)"
   ]
  },
  {
   "cell_type": "code",
   "execution_count": 80,
   "metadata": {
    "scrolled": true
   },
   "outputs": [
    {
     "data": {
      "text/plain": [
       "0.012391044265937446"
      ]
     },
     "execution_count": 80,
     "metadata": {},
     "output_type": "execute_result"
    }
   ],
   "source": [
    "145/len(sub2.index)"
   ]
  },
  {
   "cell_type": "code",
   "execution_count": null,
   "metadata": {
    "scrolled": true
   },
   "outputs": [],
   "source": []
  },
  {
   "cell_type": "code",
   "execution_count": null,
   "metadata": {},
   "outputs": [],
   "source": []
  }
 ],
 "metadata": {
  "kernelspec": {
   "display_name": "Python 3",
   "language": "python",
   "name": "python3"
  },
  "language_info": {
   "codemirror_mode": {
    "name": "ipython",
    "version": 3
   },
   "file_extension": ".py",
   "mimetype": "text/x-python",
   "name": "python",
   "nbconvert_exporter": "python",
   "pygments_lexer": "ipython3",
   "version": "3.7.1"
  }
 },
 "nbformat": 4,
 "nbformat_minor": 2
}
